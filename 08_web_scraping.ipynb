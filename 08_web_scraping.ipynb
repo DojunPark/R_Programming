{
 "cells": [
  {
   "cell_type": "markdown",
   "metadata": {},
   "source": [
    "# 8.3 공공데이터포탈의 목록 추출"
   ]
  },
  {
   "cell_type": "markdown",
   "metadata": {},
   "source": [
    "- intall the package 'rvest'"
   ]
  },
  {
   "cell_type": "code",
   "execution_count": 1,
   "metadata": {},
   "outputs": [
    {
     "name": "stderr",
     "output_type": "stream",
     "text": [
      "also installing the dependencies 'sys', 'askpass', 'glue', 'stringi', 'mime', 'openssl', 'R6', 'stringr', 'xml2', 'httr', 'selectr'\n",
      "\n"
     ]
    },
    {
     "name": "stdout",
     "output_type": "stream",
     "text": [
      "\n",
      "  There is a binary version available but the source version is later:\n",
      "        binary source needs_compilation\n",
      "stringi  1.4.6  1.5.3              TRUE\n",
      "\n",
      "  Binaries will be installed\n",
      "package 'sys' successfully unpacked and MD5 sums checked\n",
      "package 'askpass' successfully unpacked and MD5 sums checked\n",
      "package 'glue' successfully unpacked and MD5 sums checked\n",
      "package 'stringi' successfully unpacked and MD5 sums checked\n",
      "package 'mime' successfully unpacked and MD5 sums checked\n",
      "package 'openssl' successfully unpacked and MD5 sums checked\n",
      "package 'R6' successfully unpacked and MD5 sums checked\n",
      "package 'stringr' successfully unpacked and MD5 sums checked\n",
      "package 'xml2' successfully unpacked and MD5 sums checked\n",
      "package 'httr' successfully unpacked and MD5 sums checked\n",
      "package 'selectr' successfully unpacked and MD5 sums checked\n",
      "package 'rvest' successfully unpacked and MD5 sums checked\n",
      "\n",
      "The downloaded binary packages are in\n",
      "\tC:\\Users\\Dojun Park\\AppData\\Local\\Temp\\RtmpMXfRpT\\downloaded_packages\n"
     ]
    }
   ],
   "source": [
    "install.packages('rvest')"
   ]
  },
  {
   "cell_type": "code",
   "execution_count": 2,
   "metadata": {},
   "outputs": [
    {
     "name": "stderr",
     "output_type": "stream",
     "text": [
      "Warning message:\n",
      "\"package 'rvest' was built under R version 3.6.3\"Loading required package: xml2\n",
      "Warning message:\n",
      "\"package 'xml2' was built under R version 3.6.3\""
     ]
    },
    {
     "data": {
      "text/plain": [
       "{html_document}\n",
       "<html lang=\"ko\">\n",
       "[1] <head>\\n<meta http-equiv=\"Content-Type\" content=\"text/html; charset=UTF-8 ...\n",
       "[2] <body>\\r\\n\\t\\t<div class=\"skip\">\\r\\n\\t\\t\\t<a href=\"#gnb\" tabindex=\"0\">주 메 ..."
      ]
     },
     "metadata": {},
     "output_type": "display_data"
    }
   ],
   "source": [
    "library(rvest)\n",
    "\n",
    "url <- 'https://www.data.go.kr/tcs/dss/selectDataSetList.do'\n",
    "html <- read_html(url)\n",
    "html"
   ]
  },
  {
   "cell_type": "markdown",
   "metadata": {},
   "source": [
    "- copy selector로 복사해서 가져오기"
   ]
  },
  {
   "cell_type": "code",
   "execution_count": 20,
   "metadata": {},
   "outputs": [
    {
     "data": {
      "text/html": [
       "'\\r\\n\\t\\t\\t\\t\\t\\t\\t\\t\\t\\t\\t\\r\\n\\t\\t\\t\\t\\t\\t\\t\\t\\t\\t\\t\\t\\r\\n\\t\\t\\t\\t\\t\\t\\t\\t\\t\\t\\t\\t\\r\\n\\t\\t\\t\\t\\t\\t\\t\\t\\t\\t\\t\\t\\r\\n\\t\\t\\t\\t\\t\\t\\t\\t\\t\\t\\t\\t\\t승객 예고 - 출입국별(국문)\\r\\n\\t\\t\\t\\t\\t\\t\\t\\t\\t\\t\\t\\t\\r\\n\\t\\t\\t\\t\\t\\t\\t\\t\\t\\t\\t\\r\\n\\t\\t\\t\\t\\t\\t\\t\\t\\t\\t'"
      ],
      "text/latex": [
       "'\\textbackslash{}r\\textbackslash{}n\\textbackslash{}t\\textbackslash{}t\\textbackslash{}t\\textbackslash{}t\\textbackslash{}t\\textbackslash{}t\\textbackslash{}t\\textbackslash{}t\\textbackslash{}t\\textbackslash{}t\\textbackslash{}t\\textbackslash{}r\\textbackslash{}n\\textbackslash{}t\\textbackslash{}t\\textbackslash{}t\\textbackslash{}t\\textbackslash{}t\\textbackslash{}t\\textbackslash{}t\\textbackslash{}t\\textbackslash{}t\\textbackslash{}t\\textbackslash{}t\\textbackslash{}t\\textbackslash{}r\\textbackslash{}n\\textbackslash{}t\\textbackslash{}t\\textbackslash{}t\\textbackslash{}t\\textbackslash{}t\\textbackslash{}t\\textbackslash{}t\\textbackslash{}t\\textbackslash{}t\\textbackslash{}t\\textbackslash{}t\\textbackslash{}t\\textbackslash{}r\\textbackslash{}n\\textbackslash{}t\\textbackslash{}t\\textbackslash{}t\\textbackslash{}t\\textbackslash{}t\\textbackslash{}t\\textbackslash{}t\\textbackslash{}t\\textbackslash{}t\\textbackslash{}t\\textbackslash{}t\\textbackslash{}t\\textbackslash{}r\\textbackslash{}n\\textbackslash{}t\\textbackslash{}t\\textbackslash{}t\\textbackslash{}t\\textbackslash{}t\\textbackslash{}t\\textbackslash{}t\\textbackslash{}t\\textbackslash{}t\\textbackslash{}t\\textbackslash{}t\\textbackslash{}t\\textbackslash{}t승객 예고 - 출입국별(국문)\\textbackslash{}r\\textbackslash{}n\\textbackslash{}t\\textbackslash{}t\\textbackslash{}t\\textbackslash{}t\\textbackslash{}t\\textbackslash{}t\\textbackslash{}t\\textbackslash{}t\\textbackslash{}t\\textbackslash{}t\\textbackslash{}t\\textbackslash{}t\\textbackslash{}r\\textbackslash{}n\\textbackslash{}t\\textbackslash{}t\\textbackslash{}t\\textbackslash{}t\\textbackslash{}t\\textbackslash{}t\\textbackslash{}t\\textbackslash{}t\\textbackslash{}t\\textbackslash{}t\\textbackslash{}t\\textbackslash{}r\\textbackslash{}n\\textbackslash{}t\\textbackslash{}t\\textbackslash{}t\\textbackslash{}t\\textbackslash{}t\\textbackslash{}t\\textbackslash{}t\\textbackslash{}t\\textbackslash{}t\\textbackslash{}t'"
      ],
      "text/markdown": [
       "'\\r\\n\\t\\t\\t\\t\\t\\t\\t\\t\\t\\t\\t\\r\\n\\t\\t\\t\\t\\t\\t\\t\\t\\t\\t\\t\\t\\r\\n\\t\\t\\t\\t\\t\\t\\t\\t\\t\\t\\t\\t\\r\\n\\t\\t\\t\\t\\t\\t\\t\\t\\t\\t\\t\\t\\r\\n\\t\\t\\t\\t\\t\\t\\t\\t\\t\\t\\t\\t\\t승객 예고 - 출입국별(국문)\\r\\n\\t\\t\\t\\t\\t\\t\\t\\t\\t\\t\\t\\t\\r\\n\\t\\t\\t\\t\\t\\t\\t\\t\\t\\t\\t\\r\\n\\t\\t\\t\\t\\t\\t\\t\\t\\t\\t'"
      ],
      "text/plain": [
       "[1] \"\\r\\n\\t\\t\\t\\t\\t\\t\\t\\t\\t\\t\\t\\r\\n\\t\\t\\t\\t\\t\\t\\t\\t\\t\\t\\t\\t\\r\\n\\t\\t\\t\\t\\t\\t\\t\\t\\t\\t\\t\\t\\r\\n\\t\\t\\t\\t\\t\\t\\t\\t\\t\\t\\t\\t\\r\\n\\t\\t\\t\\t\\t\\t\\t\\t\\t\\t\\t\\t\\t승객 예고 - 출입국별(국문)\\r\\n\\t\\t\\t\\t\\t\\t\\t\\t\\t\\t\\t\\t\\r\\n\\t\\t\\t\\t\\t\\t\\t\\t\\t\\t\\t\\r\\n\\t\\t\\t\\t\\t\\t\\t\\t\\t\\t\""
      ]
     },
     "metadata": {},
     "output_type": "display_data"
    }
   ],
   "source": [
    "title <- html_nodes(html, '#apiDataList > div.result-list > ul > li:nth-child(1) > dl > dt > a > span.title') %>% html_text()\n",
    "title"
   ]
  },
  {
   "cell_type": "markdown",
   "metadata": {},
   "source": [
    "- 같은 아이디, 클래스를 공유하는 모든 노드 가져오기"
   ]
  },
  {
   "cell_type": "code",
   "execution_count": 21,
   "metadata": {},
   "outputs": [
    {
     "data": {
      "text/html": [
       "<ol class=list-inline>\n",
       "\t<li>'\\r\\n\\t\\t\\t\\t\\t\\t\\t\\t\\t\\t\\t\\r\\n\\t\\t\\t\\t\\t\\t\\t\\t\\t\\t\\t\\t\\r\\n\\t\\t\\t\\t\\t\\t\\t\\t\\t\\t\\t\\t\\r\\n\\t\\t\\t\\t\\t\\t\\t\\t\\t\\t\\t\\t\\r\\n\\t\\t\\t\\t\\t\\t\\t\\t\\t\\t\\t\\t\\t승객 예고 - 출입국별(국문)\\r\\n\\t\\t\\t\\t\\t\\t\\t\\t\\t\\t\\t\\t\\r\\n\\t\\t\\t\\t\\t\\t\\t\\t\\t\\t\\t\\r\\n\\t\\t\\t\\t\\t\\t\\t\\t\\t\\t'</li>\n",
       "\t<li>'\\r\\n\\t\\t\\t\\t\\t\\t\\t\\t\\t\\t\\t\\r\\n\\t\\t\\t\\t\\t\\t\\t\\t\\t\\t\\t\\t\\r\\n\\t\\t\\t\\t\\t\\t\\t\\t\\t\\t\\t\\t\\r\\n\\t\\t\\t\\t\\t\\t\\t\\t\\t\\t\\t\\t\\r\\n\\t\\t\\t\\t\\t\\t\\t\\t\\t\\t\\t\\t\\t보건기상지수 조회서비스\\r\\n\\t\\t\\t\\t\\t\\t\\t\\t\\t\\t\\t\\t\\r\\n\\t\\t\\t\\t\\t\\t\\t\\t\\t\\t\\t\\r\\n\\t\\t\\t\\t\\t\\t\\t\\t\\t\\t'</li>\n",
       "\t<li>'\\r\\n\\t\\t\\t\\t\\t\\t\\t\\t\\t\\t\\t\\r\\n\\t\\t\\t\\t\\t\\t\\t\\t\\t\\t\\t\\t\\r\\n\\t\\t\\t\\t\\t\\t\\t\\t\\t\\t\\t\\t\\r\\n\\t\\t\\t\\t\\t\\t\\t\\t\\t\\t\\t\\t\\r\\n\\t\\t\\t\\t\\t\\t\\t\\t\\t\\t\\t\\t\\t서울올림픽기념국민체육진흥공단_체육지도자_자격연수_정보\\r\\n\\t\\t\\t\\t\\t\\t\\t\\t\\t\\t\\t\\t\\r\\n\\t\\t\\t\\t\\t\\t\\t\\t\\t\\t\\t\\r\\n\\t\\t\\t\\t\\t\\t\\t\\t\\t\\t'</li>\n",
       "\t<li>'\\r\\n\\t\\t\\t\\t\\t\\t\\t\\t\\t\\t\\t\\r\\n\\t\\t\\t\\t\\t\\t\\t\\t\\t\\t\\t\\t\\r\\n\\t\\t\\t\\t\\t\\t\\t\\t\\t\\t\\t\\t\\r\\n\\t\\t\\t\\t\\t\\t\\t\\t\\t\\t\\t\\t\\r\\n\\t\\t\\t\\t\\t\\t\\t\\t\\t\\t\\t\\t\\t생활기상지수 조회서비스\\r\\n\\t\\t\\t\\t\\t\\t\\t\\t\\t\\t\\t\\t\\r\\n\\t\\t\\t\\t\\t\\t\\t\\t\\t\\t\\t\\r\\n\\t\\t\\t\\t\\t\\t\\t\\t\\t\\t'</li>\n",
       "\t<li>'\\r\\n\\t\\t\\t\\t\\t\\t\\t\\t\\t\\t\\t\\r\\n\\t\\t\\t\\t\\t\\t\\t\\t\\t\\t\\t\\t\\r\\n\\t\\t\\t\\t\\t\\t\\t\\t\\t\\t\\t\\t\\r\\n\\t\\t\\t\\t\\t\\t\\t\\t\\t\\t\\t\\t\\r\\n\\t\\t\\t\\t\\t\\t\\t\\t\\t\\t\\t\\t\\t한국수자원공사_다목적댐 수질정보\\r\\n\\t\\t\\t\\t\\t\\t\\t\\t\\t\\t\\t\\t\\r\\n\\t\\t\\t\\t\\t\\t\\t\\t\\t\\t\\t\\r\\n\\t\\t\\t\\t\\t\\t\\t\\t\\t\\t'</li>\n",
       "</ol>\n"
      ],
      "text/latex": [
       "\\begin{enumerate*}\n",
       "\\item '\\textbackslash{}r\\textbackslash{}n\\textbackslash{}t\\textbackslash{}t\\textbackslash{}t\\textbackslash{}t\\textbackslash{}t\\textbackslash{}t\\textbackslash{}t\\textbackslash{}t\\textbackslash{}t\\textbackslash{}t\\textbackslash{}t\\textbackslash{}r\\textbackslash{}n\\textbackslash{}t\\textbackslash{}t\\textbackslash{}t\\textbackslash{}t\\textbackslash{}t\\textbackslash{}t\\textbackslash{}t\\textbackslash{}t\\textbackslash{}t\\textbackslash{}t\\textbackslash{}t\\textbackslash{}t\\textbackslash{}r\\textbackslash{}n\\textbackslash{}t\\textbackslash{}t\\textbackslash{}t\\textbackslash{}t\\textbackslash{}t\\textbackslash{}t\\textbackslash{}t\\textbackslash{}t\\textbackslash{}t\\textbackslash{}t\\textbackslash{}t\\textbackslash{}t\\textbackslash{}r\\textbackslash{}n\\textbackslash{}t\\textbackslash{}t\\textbackslash{}t\\textbackslash{}t\\textbackslash{}t\\textbackslash{}t\\textbackslash{}t\\textbackslash{}t\\textbackslash{}t\\textbackslash{}t\\textbackslash{}t\\textbackslash{}t\\textbackslash{}r\\textbackslash{}n\\textbackslash{}t\\textbackslash{}t\\textbackslash{}t\\textbackslash{}t\\textbackslash{}t\\textbackslash{}t\\textbackslash{}t\\textbackslash{}t\\textbackslash{}t\\textbackslash{}t\\textbackslash{}t\\textbackslash{}t\\textbackslash{}t승객 예고 - 출입국별(국문)\\textbackslash{}r\\textbackslash{}n\\textbackslash{}t\\textbackslash{}t\\textbackslash{}t\\textbackslash{}t\\textbackslash{}t\\textbackslash{}t\\textbackslash{}t\\textbackslash{}t\\textbackslash{}t\\textbackslash{}t\\textbackslash{}t\\textbackslash{}t\\textbackslash{}r\\textbackslash{}n\\textbackslash{}t\\textbackslash{}t\\textbackslash{}t\\textbackslash{}t\\textbackslash{}t\\textbackslash{}t\\textbackslash{}t\\textbackslash{}t\\textbackslash{}t\\textbackslash{}t\\textbackslash{}t\\textbackslash{}r\\textbackslash{}n\\textbackslash{}t\\textbackslash{}t\\textbackslash{}t\\textbackslash{}t\\textbackslash{}t\\textbackslash{}t\\textbackslash{}t\\textbackslash{}t\\textbackslash{}t\\textbackslash{}t'\n",
       "\\item '\\textbackslash{}r\\textbackslash{}n\\textbackslash{}t\\textbackslash{}t\\textbackslash{}t\\textbackslash{}t\\textbackslash{}t\\textbackslash{}t\\textbackslash{}t\\textbackslash{}t\\textbackslash{}t\\textbackslash{}t\\textbackslash{}t\\textbackslash{}r\\textbackslash{}n\\textbackslash{}t\\textbackslash{}t\\textbackslash{}t\\textbackslash{}t\\textbackslash{}t\\textbackslash{}t\\textbackslash{}t\\textbackslash{}t\\textbackslash{}t\\textbackslash{}t\\textbackslash{}t\\textbackslash{}t\\textbackslash{}r\\textbackslash{}n\\textbackslash{}t\\textbackslash{}t\\textbackslash{}t\\textbackslash{}t\\textbackslash{}t\\textbackslash{}t\\textbackslash{}t\\textbackslash{}t\\textbackslash{}t\\textbackslash{}t\\textbackslash{}t\\textbackslash{}t\\textbackslash{}r\\textbackslash{}n\\textbackslash{}t\\textbackslash{}t\\textbackslash{}t\\textbackslash{}t\\textbackslash{}t\\textbackslash{}t\\textbackslash{}t\\textbackslash{}t\\textbackslash{}t\\textbackslash{}t\\textbackslash{}t\\textbackslash{}t\\textbackslash{}r\\textbackslash{}n\\textbackslash{}t\\textbackslash{}t\\textbackslash{}t\\textbackslash{}t\\textbackslash{}t\\textbackslash{}t\\textbackslash{}t\\textbackslash{}t\\textbackslash{}t\\textbackslash{}t\\textbackslash{}t\\textbackslash{}t\\textbackslash{}t보건기상지수 조회서비스\\textbackslash{}r\\textbackslash{}n\\textbackslash{}t\\textbackslash{}t\\textbackslash{}t\\textbackslash{}t\\textbackslash{}t\\textbackslash{}t\\textbackslash{}t\\textbackslash{}t\\textbackslash{}t\\textbackslash{}t\\textbackslash{}t\\textbackslash{}t\\textbackslash{}r\\textbackslash{}n\\textbackslash{}t\\textbackslash{}t\\textbackslash{}t\\textbackslash{}t\\textbackslash{}t\\textbackslash{}t\\textbackslash{}t\\textbackslash{}t\\textbackslash{}t\\textbackslash{}t\\textbackslash{}t\\textbackslash{}r\\textbackslash{}n\\textbackslash{}t\\textbackslash{}t\\textbackslash{}t\\textbackslash{}t\\textbackslash{}t\\textbackslash{}t\\textbackslash{}t\\textbackslash{}t\\textbackslash{}t\\textbackslash{}t'\n",
       "\\item '\\textbackslash{}r\\textbackslash{}n\\textbackslash{}t\\textbackslash{}t\\textbackslash{}t\\textbackslash{}t\\textbackslash{}t\\textbackslash{}t\\textbackslash{}t\\textbackslash{}t\\textbackslash{}t\\textbackslash{}t\\textbackslash{}t\\textbackslash{}r\\textbackslash{}n\\textbackslash{}t\\textbackslash{}t\\textbackslash{}t\\textbackslash{}t\\textbackslash{}t\\textbackslash{}t\\textbackslash{}t\\textbackslash{}t\\textbackslash{}t\\textbackslash{}t\\textbackslash{}t\\textbackslash{}t\\textbackslash{}r\\textbackslash{}n\\textbackslash{}t\\textbackslash{}t\\textbackslash{}t\\textbackslash{}t\\textbackslash{}t\\textbackslash{}t\\textbackslash{}t\\textbackslash{}t\\textbackslash{}t\\textbackslash{}t\\textbackslash{}t\\textbackslash{}t\\textbackslash{}r\\textbackslash{}n\\textbackslash{}t\\textbackslash{}t\\textbackslash{}t\\textbackslash{}t\\textbackslash{}t\\textbackslash{}t\\textbackslash{}t\\textbackslash{}t\\textbackslash{}t\\textbackslash{}t\\textbackslash{}t\\textbackslash{}t\\textbackslash{}r\\textbackslash{}n\\textbackslash{}t\\textbackslash{}t\\textbackslash{}t\\textbackslash{}t\\textbackslash{}t\\textbackslash{}t\\textbackslash{}t\\textbackslash{}t\\textbackslash{}t\\textbackslash{}t\\textbackslash{}t\\textbackslash{}t\\textbackslash{}t서울올림픽기념국민체육진흥공단\\_체육지도자\\_자격연수\\_정보\\textbackslash{}r\\textbackslash{}n\\textbackslash{}t\\textbackslash{}t\\textbackslash{}t\\textbackslash{}t\\textbackslash{}t\\textbackslash{}t\\textbackslash{}t\\textbackslash{}t\\textbackslash{}t\\textbackslash{}t\\textbackslash{}t\\textbackslash{}t\\textbackslash{}r\\textbackslash{}n\\textbackslash{}t\\textbackslash{}t\\textbackslash{}t\\textbackslash{}t\\textbackslash{}t\\textbackslash{}t\\textbackslash{}t\\textbackslash{}t\\textbackslash{}t\\textbackslash{}t\\textbackslash{}t\\textbackslash{}r\\textbackslash{}n\\textbackslash{}t\\textbackslash{}t\\textbackslash{}t\\textbackslash{}t\\textbackslash{}t\\textbackslash{}t\\textbackslash{}t\\textbackslash{}t\\textbackslash{}t\\textbackslash{}t'\n",
       "\\item '\\textbackslash{}r\\textbackslash{}n\\textbackslash{}t\\textbackslash{}t\\textbackslash{}t\\textbackslash{}t\\textbackslash{}t\\textbackslash{}t\\textbackslash{}t\\textbackslash{}t\\textbackslash{}t\\textbackslash{}t\\textbackslash{}t\\textbackslash{}r\\textbackslash{}n\\textbackslash{}t\\textbackslash{}t\\textbackslash{}t\\textbackslash{}t\\textbackslash{}t\\textbackslash{}t\\textbackslash{}t\\textbackslash{}t\\textbackslash{}t\\textbackslash{}t\\textbackslash{}t\\textbackslash{}t\\textbackslash{}r\\textbackslash{}n\\textbackslash{}t\\textbackslash{}t\\textbackslash{}t\\textbackslash{}t\\textbackslash{}t\\textbackslash{}t\\textbackslash{}t\\textbackslash{}t\\textbackslash{}t\\textbackslash{}t\\textbackslash{}t\\textbackslash{}t\\textbackslash{}r\\textbackslash{}n\\textbackslash{}t\\textbackslash{}t\\textbackslash{}t\\textbackslash{}t\\textbackslash{}t\\textbackslash{}t\\textbackslash{}t\\textbackslash{}t\\textbackslash{}t\\textbackslash{}t\\textbackslash{}t\\textbackslash{}t\\textbackslash{}r\\textbackslash{}n\\textbackslash{}t\\textbackslash{}t\\textbackslash{}t\\textbackslash{}t\\textbackslash{}t\\textbackslash{}t\\textbackslash{}t\\textbackslash{}t\\textbackslash{}t\\textbackslash{}t\\textbackslash{}t\\textbackslash{}t\\textbackslash{}t생활기상지수 조회서비스\\textbackslash{}r\\textbackslash{}n\\textbackslash{}t\\textbackslash{}t\\textbackslash{}t\\textbackslash{}t\\textbackslash{}t\\textbackslash{}t\\textbackslash{}t\\textbackslash{}t\\textbackslash{}t\\textbackslash{}t\\textbackslash{}t\\textbackslash{}t\\textbackslash{}r\\textbackslash{}n\\textbackslash{}t\\textbackslash{}t\\textbackslash{}t\\textbackslash{}t\\textbackslash{}t\\textbackslash{}t\\textbackslash{}t\\textbackslash{}t\\textbackslash{}t\\textbackslash{}t\\textbackslash{}t\\textbackslash{}r\\textbackslash{}n\\textbackslash{}t\\textbackslash{}t\\textbackslash{}t\\textbackslash{}t\\textbackslash{}t\\textbackslash{}t\\textbackslash{}t\\textbackslash{}t\\textbackslash{}t\\textbackslash{}t'\n",
       "\\item '\\textbackslash{}r\\textbackslash{}n\\textbackslash{}t\\textbackslash{}t\\textbackslash{}t\\textbackslash{}t\\textbackslash{}t\\textbackslash{}t\\textbackslash{}t\\textbackslash{}t\\textbackslash{}t\\textbackslash{}t\\textbackslash{}t\\textbackslash{}r\\textbackslash{}n\\textbackslash{}t\\textbackslash{}t\\textbackslash{}t\\textbackslash{}t\\textbackslash{}t\\textbackslash{}t\\textbackslash{}t\\textbackslash{}t\\textbackslash{}t\\textbackslash{}t\\textbackslash{}t\\textbackslash{}t\\textbackslash{}r\\textbackslash{}n\\textbackslash{}t\\textbackslash{}t\\textbackslash{}t\\textbackslash{}t\\textbackslash{}t\\textbackslash{}t\\textbackslash{}t\\textbackslash{}t\\textbackslash{}t\\textbackslash{}t\\textbackslash{}t\\textbackslash{}t\\textbackslash{}r\\textbackslash{}n\\textbackslash{}t\\textbackslash{}t\\textbackslash{}t\\textbackslash{}t\\textbackslash{}t\\textbackslash{}t\\textbackslash{}t\\textbackslash{}t\\textbackslash{}t\\textbackslash{}t\\textbackslash{}t\\textbackslash{}t\\textbackslash{}r\\textbackslash{}n\\textbackslash{}t\\textbackslash{}t\\textbackslash{}t\\textbackslash{}t\\textbackslash{}t\\textbackslash{}t\\textbackslash{}t\\textbackslash{}t\\textbackslash{}t\\textbackslash{}t\\textbackslash{}t\\textbackslash{}t\\textbackslash{}t한국수자원공사\\_다목적댐 수질정보\\textbackslash{}r\\textbackslash{}n\\textbackslash{}t\\textbackslash{}t\\textbackslash{}t\\textbackslash{}t\\textbackslash{}t\\textbackslash{}t\\textbackslash{}t\\textbackslash{}t\\textbackslash{}t\\textbackslash{}t\\textbackslash{}t\\textbackslash{}t\\textbackslash{}r\\textbackslash{}n\\textbackslash{}t\\textbackslash{}t\\textbackslash{}t\\textbackslash{}t\\textbackslash{}t\\textbackslash{}t\\textbackslash{}t\\textbackslash{}t\\textbackslash{}t\\textbackslash{}t\\textbackslash{}t\\textbackslash{}r\\textbackslash{}n\\textbackslash{}t\\textbackslash{}t\\textbackslash{}t\\textbackslash{}t\\textbackslash{}t\\textbackslash{}t\\textbackslash{}t\\textbackslash{}t\\textbackslash{}t\\textbackslash{}t'\n",
       "\\end{enumerate*}\n"
      ],
      "text/markdown": [
       "1. '\\r\\n\\t\\t\\t\\t\\t\\t\\t\\t\\t\\t\\t\\r\\n\\t\\t\\t\\t\\t\\t\\t\\t\\t\\t\\t\\t\\r\\n\\t\\t\\t\\t\\t\\t\\t\\t\\t\\t\\t\\t\\r\\n\\t\\t\\t\\t\\t\\t\\t\\t\\t\\t\\t\\t\\r\\n\\t\\t\\t\\t\\t\\t\\t\\t\\t\\t\\t\\t\\t승객 예고 - 출입국별(국문)\\r\\n\\t\\t\\t\\t\\t\\t\\t\\t\\t\\t\\t\\t\\r\\n\\t\\t\\t\\t\\t\\t\\t\\t\\t\\t\\t\\r\\n\\t\\t\\t\\t\\t\\t\\t\\t\\t\\t'\n",
       "2. '\\r\\n\\t\\t\\t\\t\\t\\t\\t\\t\\t\\t\\t\\r\\n\\t\\t\\t\\t\\t\\t\\t\\t\\t\\t\\t\\t\\r\\n\\t\\t\\t\\t\\t\\t\\t\\t\\t\\t\\t\\t\\r\\n\\t\\t\\t\\t\\t\\t\\t\\t\\t\\t\\t\\t\\r\\n\\t\\t\\t\\t\\t\\t\\t\\t\\t\\t\\t\\t\\t보건기상지수 조회서비스\\r\\n\\t\\t\\t\\t\\t\\t\\t\\t\\t\\t\\t\\t\\r\\n\\t\\t\\t\\t\\t\\t\\t\\t\\t\\t\\t\\r\\n\\t\\t\\t\\t\\t\\t\\t\\t\\t\\t'\n",
       "3. '\\r\\n\\t\\t\\t\\t\\t\\t\\t\\t\\t\\t\\t\\r\\n\\t\\t\\t\\t\\t\\t\\t\\t\\t\\t\\t\\t\\r\\n\\t\\t\\t\\t\\t\\t\\t\\t\\t\\t\\t\\t\\r\\n\\t\\t\\t\\t\\t\\t\\t\\t\\t\\t\\t\\t\\r\\n\\t\\t\\t\\t\\t\\t\\t\\t\\t\\t\\t\\t\\t서울올림픽기념국민체육진흥공단_체육지도자_자격연수_정보\\r\\n\\t\\t\\t\\t\\t\\t\\t\\t\\t\\t\\t\\t\\r\\n\\t\\t\\t\\t\\t\\t\\t\\t\\t\\t\\t\\r\\n\\t\\t\\t\\t\\t\\t\\t\\t\\t\\t'\n",
       "4. '\\r\\n\\t\\t\\t\\t\\t\\t\\t\\t\\t\\t\\t\\r\\n\\t\\t\\t\\t\\t\\t\\t\\t\\t\\t\\t\\t\\r\\n\\t\\t\\t\\t\\t\\t\\t\\t\\t\\t\\t\\t\\r\\n\\t\\t\\t\\t\\t\\t\\t\\t\\t\\t\\t\\t\\r\\n\\t\\t\\t\\t\\t\\t\\t\\t\\t\\t\\t\\t\\t생활기상지수 조회서비스\\r\\n\\t\\t\\t\\t\\t\\t\\t\\t\\t\\t\\t\\t\\r\\n\\t\\t\\t\\t\\t\\t\\t\\t\\t\\t\\t\\r\\n\\t\\t\\t\\t\\t\\t\\t\\t\\t\\t'\n",
       "5. '\\r\\n\\t\\t\\t\\t\\t\\t\\t\\t\\t\\t\\t\\r\\n\\t\\t\\t\\t\\t\\t\\t\\t\\t\\t\\t\\t\\r\\n\\t\\t\\t\\t\\t\\t\\t\\t\\t\\t\\t\\t\\r\\n\\t\\t\\t\\t\\t\\t\\t\\t\\t\\t\\t\\t\\r\\n\\t\\t\\t\\t\\t\\t\\t\\t\\t\\t\\t\\t\\t한국수자원공사_다목적댐 수질정보\\r\\n\\t\\t\\t\\t\\t\\t\\t\\t\\t\\t\\t\\t\\r\\n\\t\\t\\t\\t\\t\\t\\t\\t\\t\\t\\t\\r\\n\\t\\t\\t\\t\\t\\t\\t\\t\\t\\t'\n",
       "\n",
       "\n"
      ],
      "text/plain": [
       "[1] \"\\r\\n\\t\\t\\t\\t\\t\\t\\t\\t\\t\\t\\t\\r\\n\\t\\t\\t\\t\\t\\t\\t\\t\\t\\t\\t\\t\\r\\n\\t\\t\\t\\t\\t\\t\\t\\t\\t\\t\\t\\t\\r\\n\\t\\t\\t\\t\\t\\t\\t\\t\\t\\t\\t\\t\\r\\n\\t\\t\\t\\t\\t\\t\\t\\t\\t\\t\\t\\t\\t승객 예고 - 출입국별(국문)\\r\\n\\t\\t\\t\\t\\t\\t\\t\\t\\t\\t\\t\\t\\r\\n\\t\\t\\t\\t\\t\\t\\t\\t\\t\\t\\t\\r\\n\\t\\t\\t\\t\\t\\t\\t\\t\\t\\t\"                             \n",
       "[2] \"\\r\\n\\t\\t\\t\\t\\t\\t\\t\\t\\t\\t\\t\\r\\n\\t\\t\\t\\t\\t\\t\\t\\t\\t\\t\\t\\t\\r\\n\\t\\t\\t\\t\\t\\t\\t\\t\\t\\t\\t\\t\\r\\n\\t\\t\\t\\t\\t\\t\\t\\t\\t\\t\\t\\t\\r\\n\\t\\t\\t\\t\\t\\t\\t\\t\\t\\t\\t\\t\\t보건기상지수 조회서비스\\r\\n\\t\\t\\t\\t\\t\\t\\t\\t\\t\\t\\t\\t\\r\\n\\t\\t\\t\\t\\t\\t\\t\\t\\t\\t\\t\\r\\n\\t\\t\\t\\t\\t\\t\\t\\t\\t\\t\"                                \n",
       "[3] \"\\r\\n\\t\\t\\t\\t\\t\\t\\t\\t\\t\\t\\t\\r\\n\\t\\t\\t\\t\\t\\t\\t\\t\\t\\t\\t\\t\\r\\n\\t\\t\\t\\t\\t\\t\\t\\t\\t\\t\\t\\t\\r\\n\\t\\t\\t\\t\\t\\t\\t\\t\\t\\t\\t\\t\\r\\n\\t\\t\\t\\t\\t\\t\\t\\t\\t\\t\\t\\t\\t서울올림픽기념국민체육진흥공단_체육지도자_자격연수_정보\\r\\n\\t\\t\\t\\t\\t\\t\\t\\t\\t\\t\\t\\t\\r\\n\\t\\t\\t\\t\\t\\t\\t\\t\\t\\t\\t\\r\\n\\t\\t\\t\\t\\t\\t\\t\\t\\t\\t\"\n",
       "[4] \"\\r\\n\\t\\t\\t\\t\\t\\t\\t\\t\\t\\t\\t\\r\\n\\t\\t\\t\\t\\t\\t\\t\\t\\t\\t\\t\\t\\r\\n\\t\\t\\t\\t\\t\\t\\t\\t\\t\\t\\t\\t\\r\\n\\t\\t\\t\\t\\t\\t\\t\\t\\t\\t\\t\\t\\r\\n\\t\\t\\t\\t\\t\\t\\t\\t\\t\\t\\t\\t\\t생활기상지수 조회서비스\\r\\n\\t\\t\\t\\t\\t\\t\\t\\t\\t\\t\\t\\t\\r\\n\\t\\t\\t\\t\\t\\t\\t\\t\\t\\t\\t\\r\\n\\t\\t\\t\\t\\t\\t\\t\\t\\t\\t\"                                \n",
       "[5] \"\\r\\n\\t\\t\\t\\t\\t\\t\\t\\t\\t\\t\\t\\r\\n\\t\\t\\t\\t\\t\\t\\t\\t\\t\\t\\t\\t\\r\\n\\t\\t\\t\\t\\t\\t\\t\\t\\t\\t\\t\\t\\r\\n\\t\\t\\t\\t\\t\\t\\t\\t\\t\\t\\t\\t\\r\\n\\t\\t\\t\\t\\t\\t\\t\\t\\t\\t\\t\\t\\t한국수자원공사_다목적댐 수질정보\\r\\n\\t\\t\\t\\t\\t\\t\\t\\t\\t\\t\\t\\t\\r\\n\\t\\t\\t\\t\\t\\t\\t\\t\\t\\t\\t\\r\\n\\t\\t\\t\\t\\t\\t\\t\\t\\t\\t\"                       "
      ]
     },
     "metadata": {},
     "output_type": "display_data"
    }
   ],
   "source": [
    "title <- html_nodes(html, '#apiDataList') %>% html_nodes('.title') %>% html_text()\n",
    "title"
   ]
  },
  {
   "cell_type": "markdown",
   "metadata": {},
   "source": [
    "- 데이터 정제"
   ]
  },
  {
   "cell_type": "code",
   "execution_count": 22,
   "metadata": {},
   "outputs": [
    {
     "data": {
      "text/html": [
       "<ol class=list-inline>\n",
       "\t<li>'승객 예고 - 출입국별(국문)'</li>\n",
       "\t<li>'보건기상지수 조회서비스'</li>\n",
       "\t<li>'서울올림픽기념국민체육진흥공단_체육지도자_자격연수_정보'</li>\n",
       "\t<li>'생활기상지수 조회서비스'</li>\n",
       "\t<li>'한국수자원공사_다목적댐 수질정보'</li>\n",
       "</ol>\n"
      ],
      "text/latex": [
       "\\begin{enumerate*}\n",
       "\\item '승객 예고 - 출입국별(국문)'\n",
       "\\item '보건기상지수 조회서비스'\n",
       "\\item '서울올림픽기념국민체육진흥공단\\_체육지도자\\_자격연수\\_정보'\n",
       "\\item '생활기상지수 조회서비스'\n",
       "\\item '한국수자원공사\\_다목적댐 수질정보'\n",
       "\\end{enumerate*}\n"
      ],
      "text/markdown": [
       "1. '승객 예고 - 출입국별(국문)'\n",
       "2. '보건기상지수 조회서비스'\n",
       "3. '서울올림픽기념국민체육진흥공단_체육지도자_자격연수_정보'\n",
       "4. '생활기상지수 조회서비스'\n",
       "5. '한국수자원공사_다목적댐 수질정보'\n",
       "\n",
       "\n"
      ],
      "text/plain": [
       "[1] \"승객 예고 - 출입국별(국문)\"                             \n",
       "[2] \"보건기상지수 조회서비스\"                                \n",
       "[3] \"서울올림픽기념국민체육진흥공단_체육지도자_자격연수_정보\"\n",
       "[4] \"생활기상지수 조회서비스\"                                \n",
       "[5] \"한국수자원공사_다목적댐 수질정보\"                       "
      ]
     },
     "metadata": {},
     "output_type": "display_data"
    }
   ],
   "source": [
    "title <- gsub('\\r', '', title)\n",
    "title <- gsub('\\n', '', title)\n",
    "title <- gsub('\\t', '', title)\n",
    "title"
   ]
  },
  {
   "cell_type": "code",
   "execution_count": 23,
   "metadata": {},
   "outputs": [
    {
     "data": {
      "text/html": [
       "<ol class=list-inline>\n",
       "\t<li>'승객 예고 - 출입국별(국문)'</li>\n",
       "\t<li>'보건기상지수 조회서비스'</li>\n",
       "\t<li>'서울올림픽기념국민체육진흥공단_체육지도자_자격연수_정보'</li>\n",
       "\t<li>'생활기상지수 조회서비스'</li>\n",
       "\t<li>'한국수자원공사_다목적댐 수질정보'</li>\n",
       "</ol>\n"
      ],
      "text/latex": [
       "\\begin{enumerate*}\n",
       "\\item '승객 예고 - 출입국별(국문)'\n",
       "\\item '보건기상지수 조회서비스'\n",
       "\\item '서울올림픽기념국민체육진흥공단\\_체육지도자\\_자격연수\\_정보'\n",
       "\\item '생활기상지수 조회서비스'\n",
       "\\item '한국수자원공사\\_다목적댐 수질정보'\n",
       "\\end{enumerate*}\n"
      ],
      "text/markdown": [
       "1. '승객 예고 - 출입국별(국문)'\n",
       "2. '보건기상지수 조회서비스'\n",
       "3. '서울올림픽기념국민체육진흥공단_체육지도자_자격연수_정보'\n",
       "4. '생활기상지수 조회서비스'\n",
       "5. '한국수자원공사_다목적댐 수질정보'\n",
       "\n",
       "\n"
      ],
      "text/plain": [
       "[1] \"승객 예고 - 출입국별(국문)\"                             \n",
       "[2] \"보건기상지수 조회서비스\"                                \n",
       "[3] \"서울올림픽기념국민체육진흥공단_체육지도자_자격연수_정보\"\n",
       "[4] \"생활기상지수 조회서비스\"                                \n",
       "[5] \"한국수자원공사_다목적댐 수질정보\"                       "
      ]
     },
     "metadata": {},
     "output_type": "display_data"
    }
   ],
   "source": [
    "title <- trimws(title, 'both')\n",
    "title"
   ]
  },
  {
   "cell_type": "markdown",
   "metadata": {},
   "source": [
    "- print each element"
   ]
  },
  {
   "cell_type": "code",
   "execution_count": 29,
   "metadata": {},
   "outputs": [
    {
     "name": "stdout",
     "output_type": "stream",
     "text": [
      "[1] \"승객 예고 - 출입국별(국문)\"\n",
      "[1] \"보건기상지수 조회서비스\"\n",
      "[1] \"서울올림픽기념국민체육진흥공단_체육지도자_자격연수_정보\"\n",
      "[1] \"생활기상지수 조회서비스\"\n",
      "[1] \"한국수자원공사_다목적댐 수질정보\"\n"
     ]
    }
   ],
   "source": [
    "for (i in title){\n",
    "    print(i)\n",
    "}"
   ]
  },
  {
   "cell_type": "code",
   "execution_count": 32,
   "metadata": {},
   "outputs": [
    {
     "data": {
      "text/html": [
       "'한국수자원공사_다목적댐 수질정보'"
      ],
      "text/latex": [
       "'한국수자원공사\\_다목적댐 수질정보'"
      ],
      "text/markdown": [
       "'한국수자원공사_다목적댐 수질정보'"
      ],
      "text/plain": [
       "[1] \"한국수자원공사_다목적댐 수질정보\""
      ]
     },
     "metadata": {},
     "output_type": "display_data"
    }
   ],
   "source": [
    "title[5]"
   ]
  },
  {
   "cell_type": "code",
   "execution_count": 34,
   "metadata": {},
   "outputs": [
    {
     "data": {
      "text/html": [
       "<ol class=list-inline>\n",
       "\t<li>'서울올림픽기념국민체육진흥공단_체육지도자_자격연수_정보'</li>\n",
       "\t<li>'생활기상지수 조회서비스'</li>\n",
       "\t<li>'한국수자원공사_다목적댐 수질정보'</li>\n",
       "</ol>\n"
      ],
      "text/latex": [
       "\\begin{enumerate*}\n",
       "\\item '서울올림픽기념국민체육진흥공단\\_체육지도자\\_자격연수\\_정보'\n",
       "\\item '생활기상지수 조회서비스'\n",
       "\\item '한국수자원공사\\_다목적댐 수질정보'\n",
       "\\end{enumerate*}\n"
      ],
      "text/markdown": [
       "1. '서울올림픽기념국민체육진흥공단_체육지도자_자격연수_정보'\n",
       "2. '생활기상지수 조회서비스'\n",
       "3. '한국수자원공사_다목적댐 수질정보'\n",
       "\n",
       "\n"
      ],
      "text/plain": [
       "[1] \"서울올림픽기념국민체육진흥공단_체육지도자_자격연수_정보\"\n",
       "[2] \"생활기상지수 조회서비스\"                                \n",
       "[3] \"한국수자원공사_다목적댐 수질정보\"                       "
      ]
     },
     "metadata": {},
     "output_type": "display_data"
    }
   ],
   "source": [
    "title[3:5]"
   ]
  },
  {
   "cell_type": "markdown",
   "metadata": {},
   "source": [
    "# 실습"
   ]
  },
  {
   "cell_type": "code",
   "execution_count": 39,
   "metadata": {},
   "outputs": [],
   "source": [
    "library(rvest)"
   ]
  },
  {
   "cell_type": "code",
   "execution_count": 38,
   "metadata": {},
   "outputs": [
    {
     "data": {
      "text/html": [
       "'C:/R'"
      ],
      "text/latex": [
       "'C:/R'"
      ],
      "text/markdown": [
       "'C:/R'"
      ],
      "text/plain": [
       "[1] \"C:/R\""
      ]
     },
     "metadata": {},
     "output_type": "display_data"
    }
   ],
   "source": [
    "getwd()"
   ]
  },
  {
   "cell_type": "code",
   "execution_count": 44,
   "metadata": {},
   "outputs": [
    {
     "data": {
      "text/plain": [
       "{html_document}\n",
       "<html>\n",
       "[1] <head>\\n<meta http-equiv=\"Content-Type\" content=\"text/html; charset=UTF-8 ...\n",
       "[2] <body>\\r\\n\\r\\n<div id=\"pm\">\\r\\n<h1>지역별 미세먼지</h1>\\r\\n<ul>\\n<li class=\"city ..."
      ]
     },
     "metadata": {},
     "output_type": "display_data"
    }
   ],
   "source": [
    "file <- 'C:/R/weather_info.html'\n",
    "html <- read_html(file, encoding='utf-8')\n",
    "html"
   ]
  },
  {
   "cell_type": "markdown",
   "metadata": {},
   "source": [
    "- 제목 가져오기"
   ]
  },
  {
   "cell_type": "code",
   "execution_count": 53,
   "metadata": {},
   "outputs": [
    {
     "data": {
      "text/html": [
       "<ol class=list-inline>\n",
       "\t<li>'지역별 미세먼지'</li>\n",
       "\t<li>'지역별 온도'</li>\n",
       "</ol>\n"
      ],
      "text/latex": [
       "\\begin{enumerate*}\n",
       "\\item '지역별 미세먼지'\n",
       "\\item '지역별 온도'\n",
       "\\end{enumerate*}\n"
      ],
      "text/markdown": [
       "1. '지역별 미세먼지'\n",
       "2. '지역별 온도'\n",
       "\n",
       "\n"
      ],
      "text/plain": [
       "[1] \"지역별 미세먼지\" \"지역별 온도\"    "
      ]
     },
     "metadata": {},
     "output_type": "display_data"
    }
   ],
   "source": [
    "text <- html_nodes(html, 'div h1') %>% html_text()\n",
    "text"
   ]
  },
  {
   "cell_type": "code",
   "execution_count": 54,
   "metadata": {},
   "outputs": [
    {
     "data": {
      "text/html": [
       "'지역별 미세먼지'"
      ],
      "text/latex": [
       "'지역별 미세먼지'"
      ],
      "text/markdown": [
       "'지역별 미세먼지'"
      ],
      "text/plain": [
       "[1] \"지역별 미세먼지\""
      ]
     },
     "metadata": {},
     "output_type": "display_data"
    }
   ],
   "source": [
    "text <- html_nodes(html, 'div#pm h1') %>% html_text()\n",
    "text"
   ]
  },
  {
   "cell_type": "code",
   "execution_count": 55,
   "metadata": {},
   "outputs": [
    {
     "data": {
      "text/html": [
       "'지역별 온도'"
      ],
      "text/latex": [
       "'지역별 온도'"
      ],
      "text/markdown": [
       "'지역별 온도'"
      ],
      "text/plain": [
       "[1] \"지역별 온도\""
      ]
     },
     "metadata": {},
     "output_type": "display_data"
    }
   ],
   "source": [
    "text <- html_nodes(html, 'div#temperature h1') %>% html_text()\n",
    "text"
   ]
  },
  {
   "cell_type": "code",
   "execution_count": 56,
   "metadata": {},
   "outputs": [
    {
     "data": {
      "text/html": [
       "'지역별 온도'"
      ],
      "text/latex": [
       "'지역별 온도'"
      ],
      "text/markdown": [
       "'지역별 온도'"
      ],
      "text/plain": [
       "[1] \"지역별 온도\""
      ]
     },
     "metadata": {},
     "output_type": "display_data"
    }
   ],
   "source": [
    "text <- html_nodes(html, 'div h1')[2] %>% html_text()\n",
    "text"
   ]
  },
  {
   "cell_type": "code",
   "execution_count": 58,
   "metadata": {},
   "outputs": [
    {
     "data": {
      "text/html": [
       "'지역별 미세먼지'"
      ],
      "text/latex": [
       "'지역별 미세먼지'"
      ],
      "text/markdown": [
       "'지역별 미세먼지'"
      ],
      "text/plain": [
       "[1] \"지역별 미세먼지\""
      ]
     },
     "metadata": {},
     "output_type": "display_data"
    }
   ],
   "source": [
    "text <- html_node(html, 'div h1') %>% html_text()\n",
    "text"
   ]
  },
  {
   "cell_type": "markdown",
   "metadata": {},
   "source": [
    "- 항목 가져오기"
   ]
  },
  {
   "cell_type": "code",
   "execution_count": 73,
   "metadata": {},
   "outputs": [
    {
     "data": {
      "text/html": [
       "<ol class=list-inline>\n",
       "\t<li>'서울, 43'</li>\n",
       "\t<li>'대전, 22'</li>\n",
       "\t<li>'제주, 19'</li>\n",
       "</ol>\n"
      ],
      "text/latex": [
       "\\begin{enumerate*}\n",
       "\\item '서울, 43'\n",
       "\\item '대전, 22'\n",
       "\\item '제주, 19'\n",
       "\\end{enumerate*}\n"
      ],
      "text/markdown": [
       "1. '서울, 43'\n",
       "2. '대전, 22'\n",
       "3. '제주, 19'\n",
       "\n",
       "\n"
      ],
      "text/plain": [
       "[1] \"서울, 43\" \"대전, 22\" \"제주, 19\""
      ]
     },
     "metadata": {},
     "output_type": "display_data"
    }
   ],
   "source": [
    "pm <- html_nodes(html, 'div#pm ul li.city') %>% html_text()\n",
    "pm"
   ]
  },
  {
   "cell_type": "code",
   "execution_count": 74,
   "metadata": {},
   "outputs": [
    {
     "data": {
      "text/html": [
       "<ol class=list-inline>\n",
       "\t<li>'서울, 21.3'</li>\n",
       "\t<li>'대전, 22.4'</li>\n",
       "\t<li>'제주, 24.7'</li>\n",
       "</ol>\n"
      ],
      "text/latex": [
       "\\begin{enumerate*}\n",
       "\\item '서울, 21.3'\n",
       "\\item '대전, 22.4'\n",
       "\\item '제주, 24.7'\n",
       "\\end{enumerate*}\n"
      ],
      "text/markdown": [
       "1. '서울, 21.3'\n",
       "2. '대전, 22.4'\n",
       "3. '제주, 24.7'\n",
       "\n",
       "\n"
      ],
      "text/plain": [
       "[1] \"서울, 21.3\" \"대전, 22.4\" \"제주, 24.7\""
      ]
     },
     "metadata": {},
     "output_type": "display_data"
    }
   ],
   "source": [
    "temperature <- html_nodes(html, 'div#temperature ul li.city') %>% html_text()\n",
    "\n",
    "temperature"
   ]
  },
  {
   "cell_type": "code",
   "execution_count": 75,
   "metadata": {},
   "outputs": [
    {
     "data": {
      "text/html": [
       "'서울, 21.3'"
      ],
      "text/latex": [
       "'서울, 21.3'"
      ],
      "text/markdown": [
       "'서울, 21.3'"
      ],
      "text/plain": [
       "[1] \"서울, 21.3\""
      ]
     },
     "metadata": {},
     "output_type": "display_data"
    }
   ],
   "source": [
    "temperature[1]"
   ]
  }
 ],
 "metadata": {
  "kernelspec": {
   "display_name": "R",
   "language": "R",
   "name": "ir"
  },
  "language_info": {
   "codemirror_mode": "r",
   "file_extension": ".r",
   "mimetype": "text/x-r-source",
   "name": "R",
   "pygments_lexer": "r",
   "version": "3.6.1"
  }
 },
 "nbformat": 4,
 "nbformat_minor": 2
}

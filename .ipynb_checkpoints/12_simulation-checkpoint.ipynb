{
 "cells": [
  {
   "cell_type": "markdown",
   "metadata": {},
   "source": [
    "# 12.2 표본추출과 난수"
   ]
  },
  {
   "cell_type": "markdown",
   "metadata": {},
   "source": [
    "#### 표본추출"
   ]
  },
  {
   "cell_type": "markdown",
   "metadata": {},
   "source": [
    "- 표본 추출"
   ]
  },
  {
   "cell_type": "markdown",
   "metadata": {},
   "source": [
    "- 복원 추출"
   ]
  },
  {
   "cell_type": "code",
   "execution_count": 1,
   "metadata": {},
   "outputs": [
    {
     "name": "stdout",
     "output_type": "stream",
     "text": [
      "[1] 10  7  1  1  9\n",
      "[1] 10  5  7  4  6\n"
     ]
    }
   ],
   "source": [
    "print(sample(1:10, 5, replace=T))   # 복원추출\n",
    "print(sample(1:10, 5, replace=F))   # 비복원추출"
   ]
  },
  {
   "cell_type": "code",
   "execution_count": 4,
   "metadata": {},
   "outputs": [
    {
     "data": {
      "text/html": [
       "<ol class=list-inline>\n",
       "\t<li>'뒷면'</li>\n",
       "\t<li>'뒷면'</li>\n",
       "\t<li>'앞면'</li>\n",
       "\t<li>'앞면'</li>\n",
       "\t<li>'뒷면'</li>\n",
       "</ol>\n"
      ],
      "text/latex": [
       "\\begin{enumerate*}\n",
       "\\item '뒷면'\n",
       "\\item '뒷면'\n",
       "\\item '앞면'\n",
       "\\item '앞면'\n",
       "\\item '뒷면'\n",
       "\\end{enumerate*}\n"
      ],
      "text/markdown": [
       "1. '뒷면'\n",
       "2. '뒷면'\n",
       "3. '앞면'\n",
       "4. '앞면'\n",
       "5. '뒷면'\n",
       "\n",
       "\n"
      ],
      "text/plain": [
       "[1] \"뒷면\" \"뒷면\" \"앞면\" \"앞면\" \"뒷면\""
      ]
     },
     "metadata": {},
     "output_type": "display_data"
    }
   ],
   "source": [
    "sample(c('앞면', '뒷면'), 5, replace=T)  # 동전던지기 복원추출"
   ]
  },
  {
   "cell_type": "code",
   "execution_count": 6,
   "metadata": {},
   "outputs": [
    {
     "data": {
      "text/html": [
       "<ol class=list-inline>\n",
       "\t<li>0</li>\n",
       "\t<li>0</li>\n",
       "\t<li>0</li>\n",
       "\t<li>1</li>\n",
       "\t<li>0</li>\n",
       "</ol>\n"
      ],
      "text/latex": [
       "\\begin{enumerate*}\n",
       "\\item 0\n",
       "\\item 0\n",
       "\\item 0\n",
       "\\item 1\n",
       "\\item 0\n",
       "\\end{enumerate*}\n"
      ],
      "text/markdown": [
       "1. 0\n",
       "2. 0\n",
       "3. 0\n",
       "4. 1\n",
       "5. 0\n",
       "\n",
       "\n"
      ],
      "text/plain": [
       "[1] 0 0 0 1 0"
      ]
     },
     "metadata": {},
     "output_type": "display_data"
    }
   ],
   "source": [
    "sample(c(0, 1), 5, replace=T)  # 동전던지기(0=앞, 1=뒤)"
   ]
  },
  {
   "cell_type": "markdown",
   "metadata": {},
   "source": [
    "- 난수"
   ]
  },
  {
   "cell_type": "code",
   "execution_count": 8,
   "metadata": {},
   "outputs": [
    {
     "data": {
      "text/html": [
       "<ol class=list-inline>\n",
       "\t<li>0.0239496326539665</li>\n",
       "\t<li>0.517784836934879</li>\n",
       "\t<li>0.959011988947168</li>\n",
       "\t<li>0.767068566055968</li>\n",
       "\t<li>0.181921146344393</li>\n",
       "\t<li>0.131383698899299</li>\n",
       "\t<li>0.185737660387531</li>\n",
       "\t<li>0.955993059324101</li>\n",
       "\t<li>0.848761689616367</li>\n",
       "\t<li>0.491535517154261</li>\n",
       "</ol>\n"
      ],
      "text/latex": [
       "\\begin{enumerate*}\n",
       "\\item 0.0239496326539665\n",
       "\\item 0.517784836934879\n",
       "\\item 0.959011988947168\n",
       "\\item 0.767068566055968\n",
       "\\item 0.181921146344393\n",
       "\\item 0.131383698899299\n",
       "\\item 0.185737660387531\n",
       "\\item 0.955993059324101\n",
       "\\item 0.848761689616367\n",
       "\\item 0.491535517154261\n",
       "\\end{enumerate*}\n"
      ],
      "text/markdown": [
       "1. 0.0239496326539665\n",
       "2. 0.517784836934879\n",
       "3. 0.959011988947168\n",
       "4. 0.767068566055968\n",
       "5. 0.181921146344393\n",
       "6. 0.131383698899299\n",
       "7. 0.185737660387531\n",
       "8. 0.955993059324101\n",
       "9. 0.848761689616367\n",
       "10. 0.491535517154261\n",
       "\n",
       "\n"
      ],
      "text/plain": [
       " [1] 0.02394963 0.51778484 0.95901199 0.76706857 0.18192115 0.13138370\n",
       " [7] 0.18573766 0.95599306 0.84876169 0.49153552"
      ]
     },
     "metadata": {},
     "output_type": "display_data"
    }
   ],
   "source": [
    "runif(10, 0, 1)    # 0~1 중 10개의 난수"
   ]
  },
  {
   "cell_type": "code",
   "execution_count": 9,
   "metadata": {},
   "outputs": [
    {
     "data": {
      "text/html": [
       "<ol class=list-inline>\n",
       "\t<li>7</li>\n",
       "\t<li>6</li>\n",
       "\t<li>6</li>\n",
       "\t<li>10</li>\n",
       "\t<li>5</li>\n",
       "</ol>\n"
      ],
      "text/latex": [
       "\\begin{enumerate*}\n",
       "\\item 7\n",
       "\\item 6\n",
       "\\item 6\n",
       "\\item 10\n",
       "\\item 5\n",
       "\\end{enumerate*}\n"
      ],
      "text/markdown": [
       "1. 7\n",
       "2. 6\n",
       "3. 6\n",
       "4. 10\n",
       "5. 5\n",
       "\n",
       "\n"
      ],
      "text/plain": [
       "[1]  7  6  6 10  5"
      ]
     },
     "metadata": {},
     "output_type": "display_data"
    }
   ],
   "source": [
    "sample(1:10, 5, replace=T)  # 0~10 중 5개 정수 난수 (복원추출)"
   ]
  },
  {
   "cell_type": "markdown",
   "metadata": {},
   "source": [
    "# 12.3 동전 던지기"
   ]
  },
  {
   "cell_type": "markdown",
   "metadata": {},
   "source": [
    "- 그래프 초기화"
   ]
  },
  {
   "cell_type": "code",
   "execution_count": 10,
   "metadata": {},
   "outputs": [
    {
     "data": {
      "image/png": "[encoded data removed]",
      "text/plain": [
       "plot without title"
      ]
     },
     "metadata": {},
     "output_type": "display_data"
    }
   ],
   "source": [
    "iteration = 5000\n",
    "\n",
    "plot(0, 0, xlab='동전을 던진 회수', ylab='앞면이 나오는 비율',\n",
    "    xlim=c(0, iteration), ylim=c(0, 1))\n",
    "abline(a=0.5, b=0, col='red')"
   ]
  },
  {
   "cell_type": "markdown",
   "metadata": {},
   "source": [
    "- 실험 반복에 따른 확률의 변화"
   ]
  },
  {
   "cell_type": "code",
   "execution_count": 13,
   "metadata": {},
   "outputs": [
    {
     "data": {
      "image/png": "[encoded data removed]",
      "text/plain": [
       "plot without title"
      ]
     },
     "metadata": {},
     "output_type": "display_data"
    }
   ],
   "source": [
    "iteration <- 5000\n",
    "\n",
    "plot(0, 0, xlab='동전을 던진 회수', ylab='앞면이 나오는 비율',\n",
    "    xlim=c(0, iteration), ylim=c(0, 1))\n",
    "abline(a=0.5, b=0, col='red')\n",
    "\n",
    "sum <- 0\n",
    "\n",
    "for(x in 1:iteration){\n",
    "    \n",
    "    coin <- sample(c('앞면', '뒷면'), 1, replace=T)\n",
    "    \n",
    "    if(coin == '앞면')\n",
    "        sum = sum + 1\n",
    "    \n",
    "    prob <- sum / x\n",
    "    \n",
    "    points(x, prob)\n",
    "}"
   ]
  },
  {
   "cell_type": "markdown",
   "metadata": {},
   "source": [
    "- 복원 추출을 이용한 실험"
   ]
  },
  {
   "cell_type": "code",
   "execution_count": 23,
   "metadata": {},
   "outputs": [
    {
     "data": {
      "text/html": [
       "49.7"
      ],
      "text/latex": [
       "49.7"
      ],
      "text/markdown": [
       "49.7"
      ],
      "text/plain": [
       "[1] 49.7"
      ]
     },
     "metadata": {},
     "output_type": "display_data"
    }
   ],
   "source": [
    "iteration <- 5000\n",
    "x <- sample(c(0, 1), iteration, replace = T)\n",
    "round(sum(x)/iteration*100, 1)"
   ]
  },
  {
   "cell_type": "markdown",
   "metadata": {},
   "source": [
    "# 실습과제1. 주사위 던지기"
   ]
  },
  {
   "cell_type": "code",
   "execution_count": 36,
   "metadata": {},
   "outputs": [
    {
     "name": "stderr",
     "output_type": "stream",
     "text": [
      "확률: 0.18\n",
      "오차: 0.0133333333333333\n"
     ]
    },
    {
     "data": {
      "image/png": "[encoded data removed]",
      "text/plain": [
       "plot without title"
      ]
     },
     "metadata": {},
     "output_type": "display_data"
    }
   ],
   "source": [
    "iteration = 100\n",
    "\n",
    "plot(0, 0, xlab='실험 횟수', ylab='같은 수가 나오는 비율',\n",
    "    xlim=c(0, iteration), ylim=c(0, 1))\n",
    "abline(a=1/6, b=0, col='red')\n",
    "\n",
    "sum = 0\n",
    "\n",
    "for(x in 1:iteration){\n",
    "    \n",
    "    dice <- sample(1:6, 2, replace=T)\n",
    "    \n",
    "    if(dice[1] == dice[2])\n",
    "        sum <- sum + 1\n",
    "    \n",
    "    prob <- sum / x\n",
    "    \n",
    "    points(x, prob)\n",
    "    \n",
    "}\n",
    "message('확률: ', prob)\n",
    "message('오차: ', prob-(1/6))"
   ]
  },
  {
   "cell_type": "markdown",
   "metadata": {},
   "source": [
    "# 12.5 회귀선 구하기"
   ]
  },
  {
   "cell_type": "markdown",
   "metadata": {},
   "source": [
    "- x, y 데이터 준비 및 산포도 그리기"
   ]
  },
  {
   "cell_type": "code",
   "execution_count": 79,
   "metadata": {},
   "outputs": [
    {
     "data": {
      "image/png": "[encoded data removed]",
      "text/plain": [
       "plot without title"
      ]
     },
     "metadata": {},
     "output_type": "display_data"
    }
   ],
   "source": [
    "x <- c(1, 2.2, 3.5, 4, 5.2, 6.4, 7.1, 8.3, 9.2, 10)\n",
    "y <- c(41, 45, 62, 75, 85, 90, 110, 115, 125, 140)\n",
    "plot(x, y, xlim=c(0, 10), ylim=c(0, 150))"
   ]
  },
  {
   "cell_type": "markdown",
   "metadata": {},
   "source": [
    "- 기울기와 y절편 범위 설정 및 비용함수 값 구하기"
   ]
  },
  {
   "cell_type": "code",
   "execution_count": 83,
   "metadata": {},
   "outputs": [],
   "source": [
    "B <- seq(0, 15, by=1)  # 절편 범위\n",
    "A <- seq(0, 30, by=1)  # 기울기 범위\n",
    "\n",
    "cost.mtx <- matrix(NA, nrow=length(B), ncol=length(A))\n",
    "\n",
    "for(i in 1:length(B)){\n",
    "    for(j in 1:length(A)){\n",
    "        err.sum <- 0\n",
    "        for(k in 1:length(x)){\n",
    "            y_hat <- B[i]*x[k] + A[j]\n",
    "            err <- (y_hat - y[k])^2\n",
    "            err.sum <- err.sum + err\n",
    "        }\n",
    "        cost <- err.sum / length(x)\n",
    "        cost.mtx[i,j] <- cost\n",
    "    }\n",
    "}"
   ]
  },
  {
   "cell_type": "code",
   "execution_count": 84,
   "metadata": {},
   "outputs": [
    {
     "data": {
      "text/html": [
       "<table>\n",
       "<tbody>\n",
       "\t<tr><td>8905.000</td><td>8728.400</td><td>8553.800</td><td>8381.200</td><td>8210.600</td></tr>\n",
       "\t<tr><td>7753.503</td><td>7588.283</td><td>7425.063</td><td>7263.843</td><td>7104.623</td></tr>\n",
       "\t<tr><td>6683.212</td><td>6529.372</td><td>6377.532</td><td>6227.692</td><td>6079.852</td></tr>\n",
       "\t<tr><td>5694.127</td><td>5551.667</td><td>5411.207</td><td>5272.747</td><td>5136.287</td></tr>\n",
       "\t<tr><td>4786.248</td><td>4655.168</td><td>4526.088</td><td>4399.008</td><td>4273.928</td></tr>\n",
       "</tbody>\n",
       "</table>\n"
      ],
      "text/latex": [
       "\\begin{tabular}{lllll}\n",
       "\t 8905.000 & 8728.400 & 8553.800 & 8381.200 & 8210.600\\\\\n",
       "\t 7753.503 & 7588.283 & 7425.063 & 7263.843 & 7104.623\\\\\n",
       "\t 6683.212 & 6529.372 & 6377.532 & 6227.692 & 6079.852\\\\\n",
       "\t 5694.127 & 5551.667 & 5411.207 & 5272.747 & 5136.287\\\\\n",
       "\t 4786.248 & 4655.168 & 4526.088 & 4399.008 & 4273.928\\\\\n",
       "\\end{tabular}\n"
      ],
      "text/markdown": [
       "\n",
       "| 8905.000 | 8728.400 | 8553.800 | 8381.200 | 8210.600 |\n",
       "| 7753.503 | 7588.283 | 7425.063 | 7263.843 | 7104.623 |\n",
       "| 6683.212 | 6529.372 | 6377.532 | 6227.692 | 6079.852 |\n",
       "| 5694.127 | 5551.667 | 5411.207 | 5272.747 | 5136.287 |\n",
       "| 4786.248 | 4655.168 | 4526.088 | 4399.008 | 4273.928 |\n",
       "\n"
      ],
      "text/plain": [
       "     [,1]     [,2]     [,3]     [,4]     [,5]    \n",
       "[1,] 8905.000 8728.400 8553.800 8381.200 8210.600\n",
       "[2,] 7753.503 7588.283 7425.063 7263.843 7104.623\n",
       "[3,] 6683.212 6529.372 6377.532 6227.692 6079.852\n",
       "[4,] 5694.127 5551.667 5411.207 5272.747 5136.287\n",
       "[5,] 4786.248 4655.168 4526.088 4399.008 4273.928"
      ]
     },
     "metadata": {},
     "output_type": "display_data"
    }
   ],
   "source": [
    "cost.mtx[1:5, 1:5]"
   ]
  },
  {
   "cell_type": "markdown",
   "metadata": {},
   "source": [
    "- 기울기와 y절편 구하기"
   ]
  },
  {
   "cell_type": "code",
   "execution_count": 85,
   "metadata": {},
   "outputs": [
    {
     "data": {
      "text/html": [
       "<ol class=list-inline>\n",
       "\t<li>17.943</li>\n",
       "\t<li>8905</li>\n",
       "</ol>\n"
      ],
      "text/latex": [
       "\\begin{enumerate*}\n",
       "\\item 17.943\n",
       "\\item 8905\n",
       "\\end{enumerate*}\n"
      ],
      "text/markdown": [
       "1. 17.943\n",
       "2. 8905\n",
       "\n",
       "\n"
      ],
      "text/plain": [
       "[1]   17.943 8905.000"
      ]
     },
     "metadata": {},
     "output_type": "display_data"
    }
   ],
   "source": [
    "range(cost.mtx)"
   ]
  },
  {
   "cell_type": "code",
   "execution_count": 86,
   "metadata": {},
   "outputs": [
    {
     "data": {
      "text/html": [
       "<table>\n",
       "<thead><tr><th scope=col>row</th><th scope=col>col</th></tr></thead>\n",
       "<tbody>\n",
       "\t<tr><td>12</td><td>27</td></tr>\n",
       "</tbody>\n",
       "</table>\n"
      ],
      "text/latex": [
       "\\begin{tabular}{ll}\n",
       " row & col\\\\\n",
       "\\hline\n",
       "\t 12 & 27\\\\\n",
       "\\end{tabular}\n"
      ],
      "text/markdown": [
       "\n",
       "| row | col |\n",
       "|---|---|\n",
       "| 12 | 27 |\n",
       "\n"
      ],
      "text/plain": [
       "     row col\n",
       "[1,] 12  27 "
      ]
     },
     "metadata": {},
     "output_type": "display_data"
    }
   ],
   "source": [
    "idx <- which(cost.mtx == min(cost.mtx), arr.ind=TRUE)\n",
    "idx"
   ]
  },
  {
   "cell_type": "code",
   "execution_count": 87,
   "metadata": {},
   "outputs": [],
   "source": [
    "idx.Bmin <- idx[1,1]\n",
    "idx.Amin <- idx[1,2]"
   ]
  },
  {
   "cell_type": "code",
   "execution_count": 88,
   "metadata": {},
   "outputs": [
    {
     "data": {
      "text/html": [
       "11"
      ],
      "text/latex": [
       "11"
      ],
      "text/markdown": [
       "11"
      ],
      "text/plain": [
       "[1] 11"
      ]
     },
     "metadata": {},
     "output_type": "display_data"
    }
   ],
   "source": [
    "Bmin <- B[idx.Bmin]\n",
    "Bmin"
   ]
  },
  {
   "cell_type": "code",
   "execution_count": 89,
   "metadata": {},
   "outputs": [
    {
     "data": {
      "text/html": [
       "26"
      ],
      "text/latex": [
       "26"
      ],
      "text/markdown": [
       "26"
      ],
      "text/plain": [
       "[1] 26"
      ]
     },
     "metadata": {},
     "output_type": "display_data"
    }
   ],
   "source": [
    "Amin <- A[idx.Amin]\n",
    "Amin"
   ]
  },
  {
   "cell_type": "code",
   "execution_count": 90,
   "metadata": {},
   "outputs": [
    {
     "data": {
      "image/png": "[encoded data removed]",
      "text/plain": [
       "plot without title"
      ]
     },
     "metadata": {},
     "output_type": "display_data"
    }
   ],
   "source": [
    "plot(x, y, xlim=c(0, 10), ylim=c(0, 150))\n",
    "\n",
    "abline(a=Amin, b=Bmin, lty=2, col='red')"
   ]
  },
  {
   "cell_type": "markdown",
   "metadata": {},
   "source": [
    "- 기울기와 y절편 범위에서의 비용함수 그래프"
   ]
  },
  {
   "cell_type": "code",
   "execution_count": 91,
   "metadata": {},
   "outputs": [
    {
     "data": {
      "image/png": "[encoded data removed]",
      "text/plain": [
       "plot without title"
      ]
     },
     "metadata": {},
     "output_type": "display_data"
    }
   ],
   "source": [
    "plot(B, cost.mtx[,idx.Amin],\n",
    "    ylim = c(0, 9000),\n",
    "    type = 'o',\n",
    "    lwd = 3)\n",
    "for(j in 1:length(A)){\n",
    "    lines(B, cost.mtx[,j], col=j)\n",
    "}"
   ]
  },
  {
   "cell_type": "code",
   "execution_count": 92,
   "metadata": {},
   "outputs": [
    {
     "data": {
      "image/png": "[encoded data removed]",
      "text/plain": [
       "plot without title"
      ]
     },
     "metadata": {},
     "output_type": "display_data"
    }
   ],
   "source": [
    "plot(A, cost.mtx[idx.Bmin,],\n",
    "    ylim = c(0, 9000),\n",
    "    type = 'o',\n",
    "    lwd = 3)\n",
    "for(i in 1:length(B)){\n",
    "    lines(A, cost.mtx[i,], col=i)\n",
    "}"
   ]
  },
  {
   "cell_type": "markdown",
   "metadata": {},
   "source": [
    "- 기울기와 y절편 범위에서의 3차원 비용함수 그래프"
   ]
  },
  {
   "cell_type": "code",
   "execution_count": 93,
   "metadata": {},
   "outputs": [
    {
     "name": "stderr",
     "output_type": "stream",
     "text": [
      "Warning message:\n",
      "\"package 'rgl' is not available (for R version 3.6.1)\""
     ]
    }
   ],
   "source": [
    "install.packages(\"rgl\")"
   ]
  },
  {
   "cell_type": "code",
   "execution_count": 67,
   "metadata": {},
   "outputs": [
    {
     "ename": "ERROR",
     "evalue": "Error in library(rgl): there is no package called 'rgl'\n",
     "output_type": "error",
     "traceback": [
      "Error in library(rgl): there is no package called 'rgl'\nTraceback:\n",
      "1. library(rgl)"
     ]
    }
   ],
   "source": [
    "library(rgl)"
   ]
  },
  {
   "cell_type": "code",
   "execution_count": 68,
   "metadata": {},
   "outputs": [
    {
     "ename": "ERROR",
     "evalue": "Error in persp3d(B, A, cost.mtx, col = \"yellow\"): 함수 \"persp3d\"를 찾을 수 없습니다\n",
     "output_type": "error",
     "traceback": [
      "Error in persp3d(B, A, cost.mtx, col = \"yellow\"): 함수 \"persp3d\"를 찾을 수 없습니다\nTraceback:\n"
     ]
    }
   ],
   "source": [
    "persp3d(B, A, cost.mtx, col='yellow')"
   ]
  },
  {
   "cell_type": "code",
   "execution_count": 94,
   "metadata": {},
   "outputs": [
    {
     "ename": "ERROR",
     "evalue": "Error in persp3d(B, A, cost.mtx, col = \"yellow\", zlim = c(0, 400)): 함수 \"persp3d\"를 찾을 수 없습니다\n",
     "output_type": "error",
     "traceback": [
      "Error in persp3d(B, A, cost.mtx, col = \"yellow\", zlim = c(0, 400)): 함수 \"persp3d\"를 찾을 수 없습니다\nTraceback:\n"
     ]
    }
   ],
   "source": [
    "persp3d(B, A, cost.mtx, col='yellow', zlim=c(0, 400))"
   ]
  },
  {
   "cell_type": "code",
   "execution_count": null,
   "metadata": {},
   "outputs": [],
   "source": []
  }
 ],
 "metadata": {
  "kernelspec": {
   "display_name": "R",
   "language": "R",
   "name": "ir"
  },
  "language_info": {
   "codemirror_mode": "r",
   "file_extension": ".r",
   "mimetype": "text/x-r-source",
   "name": "R",
   "pygments_lexer": "r",
   "version": "3.6.1"
  }
 },
 "nbformat": 4,
 "nbformat_minor": 4
}

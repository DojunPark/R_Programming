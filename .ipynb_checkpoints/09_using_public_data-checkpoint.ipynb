{
 "cells": [
  {
   "cell_type": "markdown",
   "metadata": {},
   "source": [
    "# 9.1 공공데이터포탈 (www.data.go.kr)에서 데이터 가져오기\n",
    "- 광주광역시도시철도공사_차량공기질.csv"
   ]
  },
  {
   "cell_type": "code",
   "execution_count": 4,
   "metadata": {},
   "outputs": [
    {
     "data": {
      "text/html": [
       "<table>\n",
       "<thead><tr><th scope=col>V1</th><th scope=col>V2</th><th scope=col>V3</th><th scope=col>V4</th><th scope=col>V5</th></tr></thead>\n",
       "<tbody>\n",
       "\t<tr><td>year  </td><td>pm10_n</td><td>pm10_b</td><td>co2_n </td><td>co2_b </td></tr>\n",
       "\t<tr><td>2012  </td><td>65.8  </td><td>85.4  </td><td>723.8 </td><td>880.4 </td></tr>\n",
       "\t<tr><td>2013  </td><td>64.6  </td><td>82.9  </td><td>744   </td><td>896   </td></tr>\n",
       "\t<tr><td>2014  </td><td>67    </td><td>88    </td><td>655   </td><td>762   </td></tr>\n",
       "\t<tr><td>2015  </td><td>80.5  </td><td>94.5  </td><td>709   </td><td>827   </td></tr>\n",
       "\t<tr><td>2016  </td><td>58.5  </td><td>68.5  </td><td>614   </td><td>648   </td></tr>\n",
       "\t<tr><td>2017  </td><td>85.6  </td><td>103.1 </td><td>743   </td><td>788   </td></tr>\n",
       "\t<tr><td>2018  </td><td>59.1  </td><td>80.3  </td><td>591   </td><td>791   </td></tr>\n",
       "\t<tr><td>2019  </td><td>55    </td><td>84.1  </td><td>837.1 </td><td>959.3 </td></tr>\n",
       "</tbody>\n",
       "</table>\n"
      ],
      "text/latex": [
       "\\begin{tabular}{r|lllll}\n",
       " V1 & V2 & V3 & V4 & V5\\\\\n",
       "\\hline\n",
       "\t year     & pm10\\_n & pm10\\_b & co2\\_n  & co2\\_b \\\\\n",
       "\t 2012   & 65.8   & 85.4   & 723.8  & 880.4 \\\\\n",
       "\t 2013   & 64.6   & 82.9   & 744    & 896   \\\\\n",
       "\t 2014   & 67     & 88     & 655    & 762   \\\\\n",
       "\t 2015   & 80.5   & 94.5   & 709    & 827   \\\\\n",
       "\t 2016   & 58.5   & 68.5   & 614    & 648   \\\\\n",
       "\t 2017   & 85.6   & 103.1  & 743    & 788   \\\\\n",
       "\t 2018   & 59.1   & 80.3   & 591    & 791   \\\\\n",
       "\t 2019   & 55     & 84.1   & 837.1  & 959.3 \\\\\n",
       "\\end{tabular}\n"
      ],
      "text/markdown": [
       "\n",
       "| V1 | V2 | V3 | V4 | V5 |\n",
       "|---|---|---|---|---|\n",
       "| year   | pm10_n | pm10_b | co2_n  | co2_b  |\n",
       "| 2012   | 65.8   | 85.4   | 723.8  | 880.4  |\n",
       "| 2013   | 64.6   | 82.9   | 744    | 896    |\n",
       "| 2014   | 67     | 88     | 655    | 762    |\n",
       "| 2015   | 80.5   | 94.5   | 709    | 827    |\n",
       "| 2016   | 58.5   | 68.5   | 614    | 648    |\n",
       "| 2017   | 85.6   | 103.1  | 743    | 788    |\n",
       "| 2018   | 59.1   | 80.3   | 591    | 791    |\n",
       "| 2019   | 55     | 84.1   | 837.1  | 959.3  |\n",
       "\n"
      ],
      "text/plain": [
       "  V1   V2     V3     V4    V5   \n",
       "1 year pm10_n pm10_b co2_n co2_b\n",
       "2 2012 65.8   85.4   723.8 880.4\n",
       "3 2013 64.6   82.9   744   896  \n",
       "4 2014 67     88     655   762  \n",
       "5 2015 80.5   94.5   709   827  \n",
       "6 2016 58.5   68.5   614   648  \n",
       "7 2017 85.6   103.1  743   788  \n",
       "8 2018 59.1   80.3   591   791  \n",
       "9 2019 55     84.1   837.1 959.3"
      ]
     },
     "metadata": {},
     "output_type": "display_data"
    }
   ],
   "source": [
    "file <- read.csv(file.choose(), header=F)\n",
    "file"
   ]
  },
  {
   "cell_type": "code",
   "execution_count": 6,
   "metadata": {},
   "outputs": [
    {
     "data": {
      "text/html": [
       "<table>\n",
       "<thead><tr><th scope=col>year</th><th scope=col>pm10_n</th><th scope=col>pm10_b</th><th scope=col>co2_n</th><th scope=col>co2_b</th></tr></thead>\n",
       "<tbody>\n",
       "\t<tr><td>2012 </td><td>65.8 </td><td> 85.4</td><td>723.8</td><td>880.4</td></tr>\n",
       "\t<tr><td>2013 </td><td>64.6 </td><td> 82.9</td><td>744.0</td><td>896.0</td></tr>\n",
       "\t<tr><td>2014 </td><td>67.0 </td><td> 88.0</td><td>655.0</td><td>762.0</td></tr>\n",
       "\t<tr><td>2015 </td><td>80.5 </td><td> 94.5</td><td>709.0</td><td>827.0</td></tr>\n",
       "\t<tr><td>2016 </td><td>58.5 </td><td> 68.5</td><td>614.0</td><td>648.0</td></tr>\n",
       "\t<tr><td>2017 </td><td>85.6 </td><td>103.1</td><td>743.0</td><td>788.0</td></tr>\n",
       "\t<tr><td>2018 </td><td>59.1 </td><td> 80.3</td><td>591.0</td><td>791.0</td></tr>\n",
       "\t<tr><td>2019 </td><td>55.0 </td><td> 84.1</td><td>837.1</td><td>959.3</td></tr>\n",
       "</tbody>\n",
       "</table>\n"
      ],
      "text/latex": [
       "\\begin{tabular}{r|lllll}\n",
       " year & pm10\\_n & pm10\\_b & co2\\_n & co2\\_b\\\\\n",
       "\\hline\n",
       "\t 2012  & 65.8  &  85.4 & 723.8 & 880.4\\\\\n",
       "\t 2013  & 64.6  &  82.9 & 744.0 & 896.0\\\\\n",
       "\t 2014  & 67.0  &  88.0 & 655.0 & 762.0\\\\\n",
       "\t 2015  & 80.5  &  94.5 & 709.0 & 827.0\\\\\n",
       "\t 2016  & 58.5  &  68.5 & 614.0 & 648.0\\\\\n",
       "\t 2017  & 85.6  & 103.1 & 743.0 & 788.0\\\\\n",
       "\t 2018  & 59.1  &  80.3 & 591.0 & 791.0\\\\\n",
       "\t 2019  & 55.0  &  84.1 & 837.1 & 959.3\\\\\n",
       "\\end{tabular}\n"
      ],
      "text/markdown": [
       "\n",
       "| year | pm10_n | pm10_b | co2_n | co2_b |\n",
       "|---|---|---|---|---|\n",
       "| 2012  | 65.8  |  85.4 | 723.8 | 880.4 |\n",
       "| 2013  | 64.6  |  82.9 | 744.0 | 896.0 |\n",
       "| 2014  | 67.0  |  88.0 | 655.0 | 762.0 |\n",
       "| 2015  | 80.5  |  94.5 | 709.0 | 827.0 |\n",
       "| 2016  | 58.5  |  68.5 | 614.0 | 648.0 |\n",
       "| 2017  | 85.6  | 103.1 | 743.0 | 788.0 |\n",
       "| 2018  | 59.1  |  80.3 | 591.0 | 791.0 |\n",
       "| 2019  | 55.0  |  84.1 | 837.1 | 959.3 |\n",
       "\n"
      ],
      "text/plain": [
       "  year pm10_n pm10_b co2_n co2_b\n",
       "1 2012 65.8    85.4  723.8 880.4\n",
       "2 2013 64.6    82.9  744.0 896.0\n",
       "3 2014 67.0    88.0  655.0 762.0\n",
       "4 2015 80.5    94.5  709.0 827.0\n",
       "5 2016 58.5    68.5  614.0 648.0\n",
       "6 2017 85.6   103.1  743.0 788.0\n",
       "7 2018 59.1    80.3  591.0 791.0\n",
       "8 2019 55.0    84.1  837.1 959.3"
      ]
     },
     "metadata": {},
     "output_type": "display_data"
    }
   ],
   "source": [
    "file <- read.csv(file.choose(), header=T)  # 첫번째 열을 column 이름으로 사용\n",
    "file"
   ]
  },
  {
   "cell_type": "markdown",
   "metadata": {},
   "source": [
    "# 9.2 그래프 그리기\n",
    "- barplot"
   ]
  },
  {
   "cell_type": "code",
   "execution_count": 8,
   "metadata": {},
   "outputs": [
    {
     "data": {
      "text/html": [
       "<ol class=list-inline>\n",
       "\t<li>65.8</li>\n",
       "\t<li>64.6</li>\n",
       "\t<li>67</li>\n",
       "\t<li>80.5</li>\n",
       "\t<li>58.5</li>\n",
       "\t<li>85.6</li>\n",
       "\t<li>59.1</li>\n",
       "\t<li>55</li>\n",
       "</ol>\n"
      ],
      "text/latex": [
       "\\begin{enumerate*}\n",
       "\\item 65.8\n",
       "\\item 64.6\n",
       "\\item 67\n",
       "\\item 80.5\n",
       "\\item 58.5\n",
       "\\item 85.6\n",
       "\\item 59.1\n",
       "\\item 55\n",
       "\\end{enumerate*}\n"
      ],
      "text/markdown": [
       "1. 65.8\n",
       "2. 64.6\n",
       "3. 67\n",
       "4. 80.5\n",
       "5. 58.5\n",
       "6. 85.6\n",
       "7. 59.1\n",
       "8. 55\n",
       "\n",
       "\n"
      ],
      "text/plain": [
       "[1] 65.8 64.6 67.0 80.5 58.5 85.6 59.1 55.0"
      ]
     },
     "metadata": {},
     "output_type": "display_data"
    }
   ],
   "source": [
    "file[,2]  # pm10_n"
   ]
  },
  {
   "cell_type": "code",
   "execution_count": 9,
   "metadata": {},
   "outputs": [
    {
     "data": {
      "text/html": [
       "<ol class=list-inline>\n",
       "\t<li>2012</li>\n",
       "\t<li>2013</li>\n",
       "\t<li>2014</li>\n",
       "\t<li>2015</li>\n",
       "\t<li>2016</li>\n",
       "\t<li>2017</li>\n",
       "\t<li>2018</li>\n",
       "\t<li>2019</li>\n",
       "</ol>\n"
      ],
      "text/latex": [
       "\\begin{enumerate*}\n",
       "\\item 2012\n",
       "\\item 2013\n",
       "\\item 2014\n",
       "\\item 2015\n",
       "\\item 2016\n",
       "\\item 2017\n",
       "\\item 2018\n",
       "\\item 2019\n",
       "\\end{enumerate*}\n"
      ],
      "text/markdown": [
       "1. 2012\n",
       "2. 2013\n",
       "3. 2014\n",
       "4. 2015\n",
       "5. 2016\n",
       "6. 2017\n",
       "7. 2018\n",
       "8. 2019\n",
       "\n",
       "\n"
      ],
      "text/plain": [
       "[1] 2012 2013 2014 2015 2016 2017 2018 2019"
      ]
     },
     "metadata": {},
     "output_type": "display_data"
    }
   ],
   "source": [
    "file[,1]  # year"
   ]
  },
  {
   "cell_type": "code",
   "execution_count": 7,
   "metadata": {},
   "outputs": [
    {
     "data": {
      "image/png": "[encoded data removed]",
      "text/plain": [
       "plot without title"
      ]
     },
     "metadata": {},
     "output_type": "display_data"
    }
   ],
   "source": [
    "barplot(file[,2], names.arg=file[, 1], col=rainbow(8))"
   ]
  },
  {
   "cell_type": "markdown",
   "metadata": {},
   "source": [
    "- plotting using ggplot2"
   ]
  },
  {
   "cell_type": "code",
   "execution_count": 10,
   "metadata": {},
   "outputs": [
    {
     "name": "stderr",
     "output_type": "stream",
     "text": [
      "also installing the dependencies 'ps', 'processx', 'callr', 'prettyunits', 'backports', 'desc', 'pkgbuild', 'rprojroot', 'rstudioapi', 'pkgload', 'praise', 'lattice', 'colorspace', 'assertthat', 'utf8', 'testthat', 'nlme', 'Matrix', 'farver', 'labeling', 'lifecycle', 'munsell', 'viridisLite', 'cli', 'ellipsis', 'fansi', 'pillar', 'pkgconfig', 'vctrs', 'gtable', 'isoband', 'MASS', 'mgcv', 'rlang', 'scales', 'tibble', 'withr'\n",
      "\n"
     ]
    },
    {
     "name": "stdout",
     "output_type": "stream",
     "text": [
      "\n",
      "  There is a binary version available but the source version is later:\n",
      "         binary source needs_compilation\n",
      "labeling    0.3  0.4.2             FALSE\n",
      "\n",
      "package 'ps' successfully unpacked and MD5 sums checked\n",
      "package 'processx' successfully unpacked and MD5 sums checked\n",
      "package 'callr' successfully unpacked and MD5 sums checked\n",
      "package 'prettyunits' successfully unpacked and MD5 sums checked\n",
      "package 'backports' successfully unpacked and MD5 sums checked\n",
      "package 'desc' successfully unpacked and MD5 sums checked\n",
      "package 'pkgbuild' successfully unpacked and MD5 sums checked\n",
      "package 'rprojroot' successfully unpacked and MD5 sums checked\n",
      "package 'rstudioapi' successfully unpacked and MD5 sums checked\n",
      "package 'pkgload' successfully unpacked and MD5 sums checked\n",
      "package 'praise' successfully unpacked and MD5 sums checked\n",
      "package 'lattice' successfully unpacked and MD5 sums checked\n",
      "package 'colorspace' successfully unpacked and MD5 sums checked\n",
      "package 'assertthat' successfully unpacked and MD5 sums checked\n",
      "package 'utf8' successfully unpacked and MD5 sums checked\n",
      "package 'testthat' successfully unpacked and MD5 sums checked\n",
      "package 'nlme' successfully unpacked and MD5 sums checked\n",
      "package 'Matrix' successfully unpacked and MD5 sums checked\n",
      "package 'farver' successfully unpacked and MD5 sums checked\n",
      "package 'lifecycle' successfully unpacked and MD5 sums checked\n",
      "package 'munsell' successfully unpacked and MD5 sums checked\n",
      "package 'viridisLite' successfully unpacked and MD5 sums checked\n",
      "package 'cli' successfully unpacked and MD5 sums checked\n",
      "package 'ellipsis' successfully unpacked and MD5 sums checked\n",
      "package 'fansi' successfully unpacked and MD5 sums checked\n",
      "package 'pillar' successfully unpacked and MD5 sums checked\n",
      "package 'pkgconfig' successfully unpacked and MD5 sums checked\n",
      "package 'vctrs' successfully unpacked and MD5 sums checked\n",
      "package 'gtable' successfully unpacked and MD5 sums checked\n",
      "package 'isoband' successfully unpacked and MD5 sums checked\n",
      "package 'MASS' successfully unpacked and MD5 sums checked\n",
      "package 'mgcv' successfully unpacked and MD5 sums checked\n",
      "package 'rlang' successfully unpacked and MD5 sums checked\n",
      "package 'scales' successfully unpacked and MD5 sums checked\n",
      "package 'tibble' successfully unpacked and MD5 sums checked\n",
      "package 'withr' successfully unpacked and MD5 sums checked\n",
      "package 'ggplot2' successfully unpacked and MD5 sums checked\n",
      "\n",
      "The downloaded binary packages are in\n",
      "\tC:\\Users\\Dojun Park\\AppData\\Local\\Temp\\RtmpY5yYNa\\downloaded_packages\n"
     ]
    },
    {
     "name": "stderr",
     "output_type": "stream",
     "text": [
      "installing the source package 'labeling'\n",
      "\n",
      "Warning message:\n",
      "\"package 'ggplot2' was built under R version 3.6.3\""
     ]
    }
   ],
   "source": [
    "install.packages('ggplot2')\n",
    "library(ggplot2)"
   ]
  },
  {
   "cell_type": "code",
   "execution_count": 30,
   "metadata": {},
   "outputs": [
    {
     "data": {
      "image/png": "[encoded data removed]",
      "text/plain": [
       "plot without title"
      ]
     },
     "metadata": {},
     "output_type": "display_data"
    }
   ],
   "source": [
    "ggplot(data=file, aes(x=year, y=pm10_n))"
   ]
  },
  {
   "cell_type": "code",
   "execution_count": 13,
   "metadata": {},
   "outputs": [
    {
     "data": {
      "image/png": "[encoded data removed]",
      "text/plain": [
       "plot without title"
      ]
     },
     "metadata": {},
     "output_type": "display_data"
    }
   ],
   "source": [
    "ggplot(data=file, aes(x=year, y=pm10_n)) + geom_bar(stat='identity')"
   ]
  },
  {
   "cell_type": "code",
   "execution_count": 20,
   "metadata": {},
   "outputs": [
    {
     "data": {
      "text/html": [
       "<ol class=list-inline>\n",
       "\t<li>8</li>\n",
       "\t<li>5</li>\n",
       "</ol>\n"
      ],
      "text/latex": [
       "\\begin{enumerate*}\n",
       "\\item 8\n",
       "\\item 5\n",
       "\\end{enumerate*}\n"
      ],
      "text/markdown": [
       "1. 8\n",
       "2. 5\n",
       "\n",
       "\n"
      ],
      "text/plain": [
       "[1] 8 5"
      ]
     },
     "metadata": {},
     "output_type": "display_data"
    }
   ],
   "source": [
    "dim(file)"
   ]
  },
  {
   "cell_type": "code",
   "execution_count": 15,
   "metadata": {},
   "outputs": [
    {
     "data": {
      "image/png": "[encoded data removed]",
      "text/plain": [
       "plot without title"
      ]
     },
     "metadata": {},
     "output_type": "display_data"
    }
   ],
   "source": [
    "ggplot(data=file, aes(x=year, y=pm10_n)) + geom_bar(stat='identity', fill=rainbow(8))"
   ]
  },
  {
   "cell_type": "code",
   "execution_count": 27,
   "metadata": {},
   "outputs": [
    {
     "data": {
      "image/png": "[encoded data removed]",
      "text/plain": [
       "plot without title"
      ]
     },
     "metadata": {},
     "output_type": "display_data"
    }
   ],
   "source": [
    "ggplot(data=file, aes(x=year, y=pm10_n)) + \n",
    "    geom_bar(stat='identity', fill=rainbow(8)) + \n",
    "    labs(title='광주광역시도시철도공사 차량공기질', x='년도', y='농도')"
   ]
  },
  {
   "cell_type": "code",
   "execution_count": 28,
   "metadata": {},
   "outputs": [
    {
     "data": {
      "image/png": "[encoded data removed]",
      "text/plain": [
       "plot without title"
      ]
     },
     "metadata": {},
     "output_type": "display_data"
    }
   ],
   "source": [
    "ggplot(data=file, aes(x=year, y=pm10_n)) + \n",
    "    geom_bar(stat='identity', fill=rainbow(8)) + \n",
    "    labs(title='광주광역시도시철도공사 차량공기질', x='년도', y='농도') +\n",
    "    theme(axis.text.x=element_text(angle=90))"
   ]
  },
  {
   "cell_type": "markdown",
   "metadata": {},
   "source": [
    "- show all values on x-axis -> factor()"
   ]
  },
  {
   "cell_type": "code",
   "execution_count": 31,
   "metadata": {},
   "outputs": [
    {
     "data": {
      "image/png": "[encoded data removed]",
      "text/plain": [
       "plot without title"
      ]
     },
     "metadata": {},
     "output_type": "display_data"
    }
   ],
   "source": [
    "ggplot(data=file, aes(x=factor(year), y=pm10_n)) + \n",
    "    geom_bar(stat='identity', fill=rainbow(8)) + \n",
    "    labs(title='광주광역시도시철도공사 차량공기질', x='년도', y='농도') +\n",
    "    theme(axis.text.x=element_text(angle=90))"
   ]
  },
  {
   "cell_type": "markdown",
   "metadata": {},
   "source": [
    "- add categories"
   ]
  },
  {
   "cell_type": "code",
   "execution_count": 35,
   "metadata": {},
   "outputs": [
    {
     "data": {
      "image/png": "[encoded data removed]",
      "text/plain": [
       "plot without title"
      ]
     },
     "metadata": {},
     "output_type": "display_data"
    }
   ],
   "source": [
    "ggplot(data=file, aes(x=factor(year), y=pm10_n, fill=year)) + \n",
    "    geom_bar(stat='identity') + \n",
    "    labs(title='광주광역시도시철도공사 차량공기질', x='년도', y='농도') +\n",
    "    theme(axis.text.x=element_text(angle=90))"
   ]
  },
  {
   "cell_type": "code",
   "execution_count": 36,
   "metadata": {},
   "outputs": [
    {
     "data": {
      "image/png": "[encoded data removed]",
      "text/plain": [
       "plot without title"
      ]
     },
     "metadata": {},
     "output_type": "display_data"
    }
   ],
   "source": [
    "ggplot(data=file, aes(x=factor(year), y=pm10_n, fill=rainbow(8))) + \n",
    "    geom_bar(stat='identity') + \n",
    "    labs(title='광주광역시도시철도공사 차량공기질', x='년도', y='농도') +\n",
    "    theme(axis.text.x=element_text(angle=90))"
   ]
  },
  {
   "cell_type": "code",
   "execution_count": 37,
   "metadata": {},
   "outputs": [
    {
     "data": {
      "image/png": "[encoded data removed]",
      "text/plain": [
       "plot without title"
      ]
     },
     "metadata": {},
     "output_type": "display_data"
    }
   ],
   "source": [
    "ggplot(data=file, aes(x=factor(year), y=pm10_n, fill=rainbow(8))) + \n",
    "    geom_bar(stat='identity') + \n",
    "    labs(title='광주광역시도시철도공사 차량공기질', x='년도', y='농도') +\n",
    "    theme(axis.text.x=element_text(angle=90), legend.position='none')"
   ]
  },
  {
   "cell_type": "markdown",
   "metadata": {},
   "source": [
    "- plot in horizental"
   ]
  },
  {
   "cell_type": "code",
   "execution_count": 40,
   "metadata": {},
   "outputs": [
    {
     "data": {
      "image/png": "[encoded data removed]",
      "text/plain": [
       "plot without title"
      ]
     },
     "metadata": {},
     "output_type": "display_data"
    }
   ],
   "source": [
    "ggplot(data=file, aes(x=factor(year), y=pm10_n, fill=rainbow(8))) + \n",
    "    geom_bar(stat='identity') + \n",
    "    labs(title='광주광역시도시철도공사 차량공기질', x='년도', y='농도') +\n",
    "    theme(axis.text.x=element_text(angle=90), legend.position='none') +\n",
    "    coord_flip()"
   ]
  }
 ],
 "metadata": {
  "kernelspec": {
   "display_name": "R",
   "language": "R",
   "name": "ir"
  },
  "language_info": {
   "codemirror_mode": "r",
   "file_extension": ".r",
   "mimetype": "text/x-r-source",
   "name": "R",
   "pygments_lexer": "r",
   "version": "3.6.1"
  }
 },
 "nbformat": 4,
 "nbformat_minor": 2
}

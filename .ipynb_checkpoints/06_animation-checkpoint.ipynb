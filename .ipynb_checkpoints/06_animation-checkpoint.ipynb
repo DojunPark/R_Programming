{
 "cells": [
  {
   "cell_type": "markdown",
   "metadata": {},
   "source": [
    "# 6.2 Countdown"
   ]
  },
  {
   "cell_type": "code",
   "execution_count": 1,
   "metadata": {},
   "outputs": [
    {
     "name": "stderr",
     "output_type": "stream",
     "text": [
      "also installing the dependencies 'magrittr', 'curl', 'magick'\n",
      "\n"
     ]
    },
    {
     "name": "stdout",
     "output_type": "stream",
     "text": [
      "package 'magrittr' successfully unpacked and MD5 sums checked\n",
      "package 'curl' successfully unpacked and MD5 sums checked\n",
      "package 'magick' successfully unpacked and MD5 sums checked\n",
      "package 'animation' successfully unpacked and MD5 sums checked\n",
      "\n",
      "The downloaded binary packages are in\n",
      "\tC:\\Users\\Dojun Park\\AppData\\Local\\Temp\\RtmpeYOYjN\\downloaded_packages\n"
     ]
    }
   ],
   "source": [
    "install.packages('animation')"
   ]
  },
  {
   "cell_type": "code",
   "execution_count": 2,
   "metadata": {},
   "outputs": [
    {
     "name": "stderr",
     "output_type": "stream",
     "text": [
      "Warning message:\n",
      "\"package 'animation' was built under R version 3.6.3\""
     ]
    }
   ],
   "source": [
    "library(animation)"
   ]
  },
  {
   "cell_type": "code",
   "execution_count": 8,
   "metadata": {},
   "outputs": [
    {
     "data": {
      "image/png": "[encoded data removed]",
      "text/plain": [
       "plot without title"
      ]
     },
     "metadata": {},
     "output_type": "display_data"
    }
   ],
   "source": [
    "ani.options(interval=1)\n",
    "plot.new()\n",
    "\n",
    "for(i in 10:0){\n",
    "    \n",
    "\n",
    "    rect(0, 0, 1, 1, col='yellow')\n",
    "\n",
    "    text_size = 11 - i\n",
    "    text(0.5, 0.5, i, cex=text_size, col=rgb(0, 0, 1, 1))\n",
    "    \n",
    "    ani.pause()\n",
    "    \n",
    "}"
   ]
  },
  {
   "cell_type": "markdown",
   "metadata": {},
   "source": [
    "for loop"
   ]
  },
  {
   "cell_type": "code",
   "execution_count": 13,
   "metadata": {},
   "outputs": [
    {
     "name": "stdout",
     "output_type": "stream",
     "text": [
      "[1] 1\n",
      "[1] 3\n",
      "[1] 6\n",
      "[1] 10\n",
      "[1] 15\n",
      "[1] 21\n",
      "[1] 28\n",
      "[1] 36\n",
      "[1] 45\n",
      "[1] 55\n"
     ]
    }
   ],
   "source": [
    "sum <- 0\n",
    "for (i in 1:10){\n",
    "    sum <- sum + i\n",
    "    print(sum)\n",
    "}"
   ]
  },
  {
   "cell_type": "markdown",
   "metadata": {},
   "source": [
    "while loop"
   ]
  },
  {
   "cell_type": "code",
   "execution_count": 2,
   "metadata": {},
   "outputs": [
    {
     "name": "stdout",
     "output_type": "stream",
     "text": [
      "[1] 1\n",
      "[1] 3\n",
      "[1] 6\n",
      "[1] 10\n",
      "[1] 15\n",
      "[1] 21\n",
      "[1] 28\n",
      "[1] 36\n",
      "[1] 45\n",
      "[1] 55\n"
     ]
    }
   ],
   "source": [
    "sum <- 0\n",
    "i <- 1\n",
    "\n",
    "while (i<=10){\n",
    "    sum <- sum + i\n",
    "    print(sum)\n",
    "    \n",
    "    i <- i + 1\n",
    "}"
   ]
  },
  {
   "cell_type": "markdown",
   "metadata": {},
   "source": [
    "repeat loop"
   ]
  },
  {
   "cell_type": "code",
   "execution_count": 1,
   "metadata": {},
   "outputs": [
    {
     "name": "stdout",
     "output_type": "stream",
     "text": [
      "[1] 1\n",
      "[1] 3\n",
      "[1] 6\n",
      "[1] 10\n",
      "[1] 15\n",
      "[1] 21\n",
      "[1] 28\n",
      "[1] 36\n",
      "[1] 45\n",
      "[1] 55\n"
     ]
    }
   ],
   "source": [
    "sum <- 0\n",
    "i <- 1\n",
    "\n",
    "repeat{\n",
    "    sum <- sum + i\n",
    "    print(sum)\n",
    "    i <- i + 1\n",
    "    \n",
    "    if (i>10)\n",
    "        break\n",
    "}"
   ]
  },
  {
   "cell_type": "code",
   "execution_count": 2,
   "metadata": {},
   "outputs": [
    {
     "data": {
      "text/html": [
       "25"
      ],
      "text/latex": [
       "25"
      ],
      "text/markdown": [
       "25"
      ],
      "text/plain": [
       "[1] 25"
      ]
     },
     "metadata": {},
     "output_type": "display_data"
    }
   ],
   "source": [
    "1+3+5+7+9"
   ]
  },
  {
   "cell_type": "code",
   "execution_count": 3,
   "metadata": {},
   "outputs": [
    {
     "name": "stdout",
     "output_type": "stream",
     "text": [
      "[1] 25\n"
     ]
    }
   ],
   "source": [
    "sum <- 0\n",
    "for (i in 1:10){\n",
    "    if (i%%2 == 0)\n",
    "        next\n",
    "    sum <- sum + i\n",
    "}\n",
    "print(sum)"
   ]
  },
  {
   "cell_type": "code",
   "execution_count": null,
   "metadata": {},
   "outputs": [],
   "source": []
  },
  {
   "cell_type": "code",
   "execution_count": null,
   "metadata": {},
   "outputs": [],
   "source": []
  },
  {
   "cell_type": "code",
   "execution_count": null,
   "metadata": {},
   "outputs": [],
   "source": []
  },
  {
   "cell_type": "code",
   "execution_count": null,
   "metadata": {},
   "outputs": [],
   "source": []
  },
  {
   "cell_type": "code",
   "execution_count": null,
   "metadata": {},
   "outputs": [],
   "source": []
  },
  {
   "cell_type": "code",
   "execution_count": null,
   "metadata": {},
   "outputs": [],
   "source": []
  },
  {
   "cell_type": "code",
   "execution_count": null,
   "metadata": {},
   "outputs": [],
   "source": []
  }
 ],
 "metadata": {
  "kernelspec": {
   "display_name": "R",
   "language": "R",
   "name": "ir"
  },
  "language_info": {
   "codemirror_mode": "r",
   "file_extension": ".r",
   "mimetype": "text/x-r-source",
   "name": "R",
   "pygments_lexer": "r",
   "version": "3.6.1"
  }
 },
 "nbformat": 4,
 "nbformat_minor": 2
}

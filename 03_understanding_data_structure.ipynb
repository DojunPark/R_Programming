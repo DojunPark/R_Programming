{
 "cells": [
  {
   "cell_type": "markdown",
   "metadata": {},
   "source": [
    "# 3.1. Vector and operators"
   ]
  },
  {
   "cell_type": "markdown",
   "metadata": {},
   "source": [
    "- making and editing vectors"
   ]
  },
  {
   "cell_type": "code",
   "execution_count": 1,
   "metadata": {},
   "outputs": [
    {
     "data": {
      "text/html": [
       "70"
      ],
      "text/latex": [
       "70"
      ],
      "text/markdown": [
       "70"
      ],
      "text/plain": [
       "[1] 70"
      ]
     },
     "metadata": {},
     "output_type": "display_data"
    }
   ],
   "source": [
    "score <- 70\n",
    "score"
   ]
  },
  {
   "cell_type": "code",
   "execution_count": 2,
   "metadata": {},
   "outputs": [
    {
     "data": {
      "text/html": [
       "<ol class=list-inline>\n",
       "\t<li>70</li>\n",
       "\t<li>85</li>\n",
       "\t<li>90</li>\n",
       "</ol>\n"
      ],
      "text/latex": [
       "\\begin{enumerate*}\n",
       "\\item 70\n",
       "\\item 85\n",
       "\\item 90\n",
       "\\end{enumerate*}\n"
      ],
      "text/markdown": [
       "1. 70\n",
       "2. 85\n",
       "3. 90\n",
       "\n",
       "\n"
      ],
      "text/plain": [
       "[1] 70 85 90"
      ]
     },
     "metadata": {},
     "output_type": "display_data"
    }
   ],
   "source": [
    "score <- c(70, 85, 90)\n",
    "score"
   ]
  },
  {
   "cell_type": "code",
   "execution_count": 3,
   "metadata": {},
   "outputs": [
    {
     "data": {
      "text/html": [
       "<ol class=list-inline>\n",
       "\t<li>70</li>\n",
       "\t<li>85</li>\n",
       "\t<li>95</li>\n",
       "\t<li>100</li>\n",
       "</ol>\n"
      ],
      "text/latex": [
       "\\begin{enumerate*}\n",
       "\\item 70\n",
       "\\item 85\n",
       "\\item 95\n",
       "\\item 100\n",
       "\\end{enumerate*}\n"
      ],
      "text/markdown": [
       "1. 70\n",
       "2. 85\n",
       "3. 95\n",
       "4. 100\n",
       "\n",
       "\n"
      ],
      "text/plain": [
       "[1]  70  85  95 100"
      ]
     },
     "metadata": {},
     "output_type": "display_data"
    }
   ],
   "source": [
    "score[4] <- 100\n",
    "score[3] <- 95\n",
    "score"
   ]
  },
  {
   "cell_type": "code",
   "execution_count": 4,
   "metadata": {},
   "outputs": [
    {
     "data": {
      "text/html": [
       "<ol class=list-inline>\n",
       "\t<li>'알라딘'</li>\n",
       "\t<li>'자스민'</li>\n",
       "\t<li>'지니'</li>\n",
       "</ol>\n"
      ],
      "text/latex": [
       "\\begin{enumerate*}\n",
       "\\item '알라딘'\n",
       "\\item '자스민'\n",
       "\\item '지니'\n",
       "\\end{enumerate*}\n"
      ],
      "text/markdown": [
       "1. '알라딘'\n",
       "2. '자스민'\n",
       "3. '지니'\n",
       "\n",
       "\n"
      ],
      "text/plain": [
       "[1] \"알라딘\" \"자스민\" \"지니\"  "
      ]
     },
     "metadata": {},
     "output_type": "display_data"
    }
   ],
   "source": [
    "name <- c(\"알라딘\", \"자스민\", \"지니\")\n",
    "name"
   ]
  },
  {
   "cell_type": "markdown",
   "metadata": {},
   "source": [
    "- making a vector with sequential values"
   ]
  },
  {
   "cell_type": "code",
   "execution_count": 5,
   "metadata": {},
   "outputs": [
    {
     "data": {
      "text/html": [
       "<ol class=list-inline>\n",
       "\t<li>1</li>\n",
       "\t<li>4</li>\n",
       "\t<li>7</li>\n",
       "\t<li>10</li>\n",
       "</ol>\n"
      ],
      "text/latex": [
       "\\begin{enumerate*}\n",
       "\\item 1\n",
       "\\item 4\n",
       "\\item 7\n",
       "\\item 10\n",
       "\\end{enumerate*}\n"
      ],
      "text/markdown": [
       "1. 1\n",
       "2. 4\n",
       "3. 7\n",
       "4. 10\n",
       "\n",
       "\n"
      ],
      "text/plain": [
       "[1]  1  4  7 10"
      ]
     },
     "metadata": {},
     "output_type": "display_data"
    }
   ],
   "source": [
    "x <- seq(1, 10, by=3)\n",
    "x"
   ]
  },
  {
   "cell_type": "code",
   "execution_count": 8,
   "metadata": {},
   "outputs": [
    {
     "data": {
      "text/html": [
       "<ol class=list-inline>\n",
       "\t<li>1</li>\n",
       "\t<li>3.25</li>\n",
       "\t<li>5.5</li>\n",
       "\t<li>7.75</li>\n",
       "\t<li>10</li>\n",
       "</ol>\n"
      ],
      "text/latex": [
       "\\begin{enumerate*}\n",
       "\\item 1\n",
       "\\item 3.25\n",
       "\\item 5.5\n",
       "\\item 7.75\n",
       "\\item 10\n",
       "\\end{enumerate*}\n"
      ],
      "text/markdown": [
       "1. 1\n",
       "2. 3.25\n",
       "3. 5.5\n",
       "4. 7.75\n",
       "5. 10\n",
       "\n",
       "\n"
      ],
      "text/plain": [
       "[1]  1.00  3.25  5.50  7.75 10.00"
      ]
     },
     "metadata": {},
     "output_type": "display_data"
    }
   ],
   "source": [
    "x <- seq(1, 10, length.out = 5)\n",
    "x"
   ]
  },
  {
   "cell_type": "code",
   "execution_count": 6,
   "metadata": {},
   "outputs": [
    {
     "data": {
      "text/html": [
       "<ol class=list-inline>\n",
       "\t<li>1</li>\n",
       "\t<li>2</li>\n",
       "\t<li>3</li>\n",
       "\t<li>4</li>\n",
       "\t<li>5</li>\n",
       "\t<li>6</li>\n",
       "\t<li>7</li>\n",
       "\t<li>8</li>\n",
       "\t<li>9</li>\n",
       "\t<li>10</li>\n",
       "</ol>\n"
      ],
      "text/latex": [
       "\\begin{enumerate*}\n",
       "\\item 1\n",
       "\\item 2\n",
       "\\item 3\n",
       "\\item 4\n",
       "\\item 5\n",
       "\\item 6\n",
       "\\item 7\n",
       "\\item 8\n",
       "\\item 9\n",
       "\\item 10\n",
       "\\end{enumerate*}\n"
      ],
      "text/markdown": [
       "1. 1\n",
       "2. 2\n",
       "3. 3\n",
       "4. 4\n",
       "5. 5\n",
       "6. 6\n",
       "7. 7\n",
       "8. 8\n",
       "9. 9\n",
       "10. 10\n",
       "\n",
       "\n"
      ],
      "text/plain": [
       " [1]  1  2  3  4  5  6  7  8  9 10"
      ]
     },
     "metadata": {},
     "output_type": "display_data"
    }
   ],
   "source": [
    "x <- 1:10\n",
    "x"
   ]
  },
  {
   "cell_type": "code",
   "execution_count": 7,
   "metadata": {},
   "outputs": [
    {
     "data": {
      "text/html": [
       "<ol class=list-inline>\n",
       "\t<li>10</li>\n",
       "\t<li>9</li>\n",
       "\t<li>8</li>\n",
       "\t<li>7</li>\n",
       "\t<li>6</li>\n",
       "\t<li>5</li>\n",
       "\t<li>4</li>\n",
       "\t<li>3</li>\n",
       "\t<li>2</li>\n",
       "\t<li>1</li>\n",
       "</ol>\n"
      ],
      "text/latex": [
       "\\begin{enumerate*}\n",
       "\\item 10\n",
       "\\item 9\n",
       "\\item 8\n",
       "\\item 7\n",
       "\\item 6\n",
       "\\item 5\n",
       "\\item 4\n",
       "\\item 3\n",
       "\\item 2\n",
       "\\item 1\n",
       "\\end{enumerate*}\n"
      ],
      "text/markdown": [
       "1. 10\n",
       "2. 9\n",
       "3. 8\n",
       "4. 7\n",
       "5. 6\n",
       "6. 5\n",
       "7. 4\n",
       "8. 3\n",
       "9. 2\n",
       "10. 1\n",
       "\n",
       "\n"
      ],
      "text/plain": [
       " [1] 10  9  8  7  6  5  4  3  2  1"
      ]
     },
     "metadata": {},
     "output_type": "display_data"
    }
   ],
   "source": [
    "x <- 10:1\n",
    "x"
   ]
  },
  {
   "cell_type": "markdown",
   "metadata": {},
   "source": [
    "- making a vector with repetative values"
   ]
  },
  {
   "cell_type": "code",
   "execution_count": 9,
   "metadata": {},
   "outputs": [
    {
     "data": {
      "text/html": [
       "<ol class=list-inline>\n",
       "\t<li>1</li>\n",
       "\t<li>2</li>\n",
       "\t<li>3</li>\n",
       "\t<li>1</li>\n",
       "\t<li>2</li>\n",
       "\t<li>3</li>\n",
       "</ol>\n"
      ],
      "text/latex": [
       "\\begin{enumerate*}\n",
       "\\item 1\n",
       "\\item 2\n",
       "\\item 3\n",
       "\\item 1\n",
       "\\item 2\n",
       "\\item 3\n",
       "\\end{enumerate*}\n"
      ],
      "text/markdown": [
       "1. 1\n",
       "2. 2\n",
       "3. 3\n",
       "4. 1\n",
       "5. 2\n",
       "6. 3\n",
       "\n",
       "\n"
      ],
      "text/plain": [
       "[1] 1 2 3 1 2 3"
      ]
     },
     "metadata": {},
     "output_type": "display_data"
    }
   ],
   "source": [
    "x <- c(1, 2, 3)\n",
    "y <- rep(x, times=2)\n",
    "y"
   ]
  },
  {
   "cell_type": "code",
   "execution_count": 10,
   "metadata": {},
   "outputs": [
    {
     "data": {
      "text/html": [
       "<ol class=list-inline>\n",
       "\t<li>1</li>\n",
       "\t<li>1</li>\n",
       "\t<li>2</li>\n",
       "\t<li>2</li>\n",
       "\t<li>3</li>\n",
       "\t<li>3</li>\n",
       "</ol>\n"
      ],
      "text/latex": [
       "\\begin{enumerate*}\n",
       "\\item 1\n",
       "\\item 1\n",
       "\\item 2\n",
       "\\item 2\n",
       "\\item 3\n",
       "\\item 3\n",
       "\\end{enumerate*}\n"
      ],
      "text/markdown": [
       "1. 1\n",
       "2. 1\n",
       "3. 2\n",
       "4. 2\n",
       "5. 3\n",
       "6. 3\n",
       "\n",
       "\n"
      ],
      "text/plain": [
       "[1] 1 1 2 2 3 3"
      ]
     },
     "metadata": {},
     "output_type": "display_data"
    }
   ],
   "source": [
    "y <- rep(x, each=2)\n",
    "y"
   ]
  },
  {
   "cell_type": "markdown",
   "metadata": {},
   "source": [
    "- arithmatic operators"
   ]
  },
  {
   "cell_type": "code",
   "execution_count": 11,
   "metadata": {},
   "outputs": [
    {
     "data": {
      "text/html": [
       "8"
      ],
      "text/latex": [
       "8"
      ],
      "text/markdown": [
       "8"
      ],
      "text/plain": [
       "[1] 8"
      ]
     },
     "metadata": {},
     "output_type": "display_data"
    }
   ],
   "source": [
    "2^3"
   ]
  },
  {
   "cell_type": "code",
   "execution_count": 12,
   "metadata": {},
   "outputs": [
    {
     "data": {
      "text/html": [
       "8"
      ],
      "text/latex": [
       "8"
      ],
      "text/markdown": [
       "8"
      ],
      "text/plain": [
       "[1] 8"
      ]
     },
     "metadata": {},
     "output_type": "display_data"
    }
   ],
   "source": [
    "2**3"
   ]
  },
  {
   "cell_type": "code",
   "execution_count": 13,
   "metadata": {},
   "outputs": [
    {
     "data": {
      "text/html": [
       "1"
      ],
      "text/latex": [
       "1"
      ],
      "text/markdown": [
       "1"
      ],
      "text/plain": [
       "[1] 1"
      ]
     },
     "metadata": {},
     "output_type": "display_data"
    }
   ],
   "source": [
    "10%%3   #나머지"
   ]
  },
  {
   "cell_type": "code",
   "execution_count": 14,
   "metadata": {},
   "outputs": [
    {
     "data": {
      "text/html": [
       "3"
      ],
      "text/latex": [
       "3"
      ],
      "text/markdown": [
       "3"
      ],
      "text/plain": [
       "[1] 3"
      ]
     },
     "metadata": {},
     "output_type": "display_data"
    }
   ],
   "source": [
    "10%/%3  # 몫"
   ]
  },
  {
   "cell_type": "code",
   "execution_count": 16,
   "metadata": {},
   "outputs": [],
   "source": [
    "x <- c(10, 20, 30, 40)\n",
    "y <- c(2, 4, 6, 8)\n",
    "z <- c(2, 4)"
   ]
  },
  {
   "cell_type": "code",
   "execution_count": 17,
   "metadata": {},
   "outputs": [
    {
     "data": {
      "text/html": [
       "<ol class=list-inline>\n",
       "\t<li>15</li>\n",
       "\t<li>25</li>\n",
       "\t<li>35</li>\n",
       "\t<li>45</li>\n",
       "</ol>\n"
      ],
      "text/latex": [
       "\\begin{enumerate*}\n",
       "\\item 15\n",
       "\\item 25\n",
       "\\item 35\n",
       "\\item 45\n",
       "\\end{enumerate*}\n"
      ],
      "text/markdown": [
       "1. 15\n",
       "2. 25\n",
       "3. 35\n",
       "4. 45\n",
       "\n",
       "\n"
      ],
      "text/plain": [
       "[1] 15 25 35 45"
      ]
     },
     "metadata": {},
     "output_type": "display_data"
    }
   ],
   "source": [
    "x + 5"
   ]
  },
  {
   "cell_type": "code",
   "execution_count": 18,
   "metadata": {},
   "outputs": [
    {
     "data": {
      "text/html": [
       "<ol class=list-inline>\n",
       "\t<li>12</li>\n",
       "\t<li>24</li>\n",
       "\t<li>36</li>\n",
       "\t<li>48</li>\n",
       "</ol>\n"
      ],
      "text/latex": [
       "\\begin{enumerate*}\n",
       "\\item 12\n",
       "\\item 24\n",
       "\\item 36\n",
       "\\item 48\n",
       "\\end{enumerate*}\n"
      ],
      "text/markdown": [
       "1. 12\n",
       "2. 24\n",
       "3. 36\n",
       "4. 48\n",
       "\n",
       "\n"
      ],
      "text/plain": [
       "[1] 12 24 36 48"
      ]
     },
     "metadata": {},
     "output_type": "display_data"
    }
   ],
   "source": [
    "x + y"
   ]
  },
  {
   "cell_type": "code",
   "execution_count": 20,
   "metadata": {},
   "outputs": [
    {
     "data": {
      "text/html": [
       "<ol class=list-inline>\n",
       "\t<li>12</li>\n",
       "\t<li>24</li>\n",
       "\t<li>32</li>\n",
       "\t<li>44</li>\n",
       "</ol>\n"
      ],
      "text/latex": [
       "\\begin{enumerate*}\n",
       "\\item 12\n",
       "\\item 24\n",
       "\\item 32\n",
       "\\item 44\n",
       "\\end{enumerate*}\n"
      ],
      "text/markdown": [
       "1. 12\n",
       "2. 24\n",
       "3. 32\n",
       "4. 44\n",
       "\n",
       "\n"
      ],
      "text/plain": [
       "[1] 12 24 32 44"
      ]
     },
     "metadata": {},
     "output_type": "display_data"
    }
   ],
   "source": [
    "x + z  # broadcasting"
   ]
  },
  {
   "cell_type": "markdown",
   "metadata": {},
   "source": [
    "- comparison operators"
   ]
  },
  {
   "cell_type": "code",
   "execution_count": 21,
   "metadata": {},
   "outputs": [
    {
     "data": {
      "text/html": [
       "TRUE"
      ],
      "text/latex": [
       "TRUE"
      ],
      "text/markdown": [
       "TRUE"
      ],
      "text/plain": [
       "[1] TRUE"
      ]
     },
     "metadata": {},
     "output_type": "display_data"
    }
   ],
   "source": [
    "3 < 10"
   ]
  },
  {
   "cell_type": "code",
   "execution_count": 23,
   "metadata": {},
   "outputs": [
    {
     "data": {
      "text/html": [
       "<ol class=list-inline>\n",
       "\t<li>TRUE</li>\n",
       "\t<li>FALSE</li>\n",
       "\t<li>FALSE</li>\n",
       "</ol>\n"
      ],
      "text/latex": [
       "\\begin{enumerate*}\n",
       "\\item TRUE\n",
       "\\item FALSE\n",
       "\\item FALSE\n",
       "\\end{enumerate*}\n"
      ],
      "text/markdown": [
       "1. TRUE\n",
       "2. FALSE\n",
       "3. FALSE\n",
       "\n",
       "\n"
      ],
      "text/plain": [
       "[1]  TRUE FALSE FALSE"
      ]
     },
     "metadata": {},
     "output_type": "display_data"
    }
   ],
   "source": [
    "x <- c(10, 20, 30)\n",
    "x <= 10   # 각각의 원소에 대해 10보다 작거나 같은지에 대해 비교"
   ]
  },
  {
   "cell_type": "code",
   "execution_count": 24,
   "metadata": {},
   "outputs": [
    {
     "data": {
      "text/html": [
       "<ol class=list-inline>\n",
       "\t<li>20</li>\n",
       "\t<li>30</li>\n",
       "</ol>\n"
      ],
      "text/latex": [
       "\\begin{enumerate*}\n",
       "\\item 20\n",
       "\\item 30\n",
       "\\end{enumerate*}\n"
      ],
      "text/markdown": [
       "1. 20\n",
       "2. 30\n",
       "\n",
       "\n"
      ],
      "text/plain": [
       "[1] 20 30"
      ]
     },
     "metadata": {},
     "output_type": "display_data"
    }
   ],
   "source": [
    "x[x>15]   # 벡터 x에서 15보다 큰 값을 출력"
   ]
  },
  {
   "cell_type": "code",
   "execution_count": 25,
   "metadata": {},
   "outputs": [
    {
     "data": {
      "text/html": [
       "TRUE"
      ],
      "text/latex": [
       "TRUE"
      ],
      "text/markdown": [
       "TRUE"
      ],
      "text/plain": [
       "[1] TRUE"
      ]
     },
     "metadata": {},
     "output_type": "display_data"
    }
   ],
   "source": [
    "any(x <= 10)  # x 중에 10보다 작거나 같은 것이 하나라도 있는지"
   ]
  },
  {
   "cell_type": "code",
   "execution_count": 26,
   "metadata": {},
   "outputs": [
    {
     "data": {
      "text/html": [
       "FALSE"
      ],
      "text/latex": [
       "FALSE"
      ],
      "text/markdown": [
       "FALSE"
      ],
      "text/plain": [
       "[1] FALSE"
      ]
     },
     "metadata": {},
     "output_type": "display_data"
    }
   ],
   "source": [
    "all(x <= 10)  # x의 모든 원소가 10보다 작거나 같은지"
   ]
  },
  {
   "cell_type": "markdown",
   "metadata": {},
   "source": [
    "- logical operators"
   ]
  },
  {
   "cell_type": "code",
   "execution_count": 27,
   "metadata": {},
   "outputs": [],
   "source": [
    "x <- c(TRUE, TRUE, FALSE, FALSE)\n",
    "y <- c(TRUE, FALSE, TRUE, FALSE)"
   ]
  },
  {
   "cell_type": "code",
   "execution_count": 28,
   "metadata": {},
   "outputs": [
    {
     "data": {
      "text/html": [
       "<ol class=list-inline>\n",
       "\t<li>TRUE</li>\n",
       "\t<li>FALSE</li>\n",
       "\t<li>FALSE</li>\n",
       "\t<li>FALSE</li>\n",
       "</ol>\n"
      ],
      "text/latex": [
       "\\begin{enumerate*}\n",
       "\\item TRUE\n",
       "\\item FALSE\n",
       "\\item FALSE\n",
       "\\item FALSE\n",
       "\\end{enumerate*}\n"
      ],
      "text/markdown": [
       "1. TRUE\n",
       "2. FALSE\n",
       "3. FALSE\n",
       "4. FALSE\n",
       "\n",
       "\n"
      ],
      "text/plain": [
       "[1]  TRUE FALSE FALSE FALSE"
      ]
     },
     "metadata": {},
     "output_type": "display_data"
    }
   ],
   "source": [
    "x & y # and, 둘다 참이여야 참"
   ]
  },
  {
   "cell_type": "code",
   "execution_count": 29,
   "metadata": {},
   "outputs": [
    {
     "data": {
      "text/html": [
       "<ol class=list-inline>\n",
       "\t<li>TRUE</li>\n",
       "\t<li>TRUE</li>\n",
       "\t<li>TRUE</li>\n",
       "\t<li>FALSE</li>\n",
       "</ol>\n"
      ],
      "text/latex": [
       "\\begin{enumerate*}\n",
       "\\item TRUE\n",
       "\\item TRUE\n",
       "\\item TRUE\n",
       "\\item FALSE\n",
       "\\end{enumerate*}\n"
      ],
      "text/markdown": [
       "1. TRUE\n",
       "2. TRUE\n",
       "3. TRUE\n",
       "4. FALSE\n",
       "\n",
       "\n"
      ],
      "text/plain": [
       "[1]  TRUE  TRUE  TRUE FALSE"
      ]
     },
     "metadata": {},
     "output_type": "display_data"
    }
   ],
   "source": [
    "x | y # or, 둘 중 하나가 참이면 참"
   ]
  },
  {
   "cell_type": "code",
   "execution_count": null,
   "metadata": {},
   "outputs": [],
   "source": []
  },
  {
   "cell_type": "code",
   "execution_count": 30,
   "metadata": {},
   "outputs": [
    {
     "data": {
      "text/html": [
       "<ol class=list-inline>\n",
       "\t<li>FALSE</li>\n",
       "\t<li>TRUE</li>\n",
       "\t<li>TRUE</li>\n",
       "\t<li>FALSE</li>\n",
       "</ol>\n"
      ],
      "text/latex": [
       "\\begin{enumerate*}\n",
       "\\item FALSE\n",
       "\\item TRUE\n",
       "\\item TRUE\n",
       "\\item FALSE\n",
       "\\end{enumerate*}\n"
      ],
      "text/markdown": [
       "1. FALSE\n",
       "2. TRUE\n",
       "3. TRUE\n",
       "4. FALSE\n",
       "\n",
       "\n"
      ],
      "text/plain": [
       "[1] FALSE  TRUE  TRUE FALSE"
      ]
     },
     "metadata": {},
     "output_type": "display_data"
    }
   ],
   "source": [
    "xor(x, y)   # 두 원소가 서로 다르면 참, 같으면 거짓"
   ]
  },
  {
   "cell_type": "markdown",
   "metadata": {},
   "source": [
    "# 3.2. NA and NULL"
   ]
  },
  {
   "cell_type": "markdown",
   "metadata": {},
   "source": [
    "- NA: Not Available, 해당 데이터가 누락됨 (결측치)\n",
    "- NULL: 변수 이름만 생성되어 있는 경우"
   ]
  },
  {
   "cell_type": "code",
   "execution_count": 31,
   "metadata": {},
   "outputs": [
    {
     "data": {
      "text/html": [
       "TRUE"
      ],
      "text/latex": [
       "TRUE"
      ],
      "text/markdown": [
       "TRUE"
      ],
      "text/plain": [
       "[1] TRUE"
      ]
     },
     "metadata": {},
     "output_type": "display_data"
    }
   ],
   "source": [
    "x <- NULL\n",
    "is.null(x)"
   ]
  },
  {
   "cell_type": "code",
   "execution_count": 32,
   "metadata": {},
   "outputs": [
    {
     "data": {
      "text/html": [
       "<ol class=list-inline>\n",
       "\t<li>1</li>\n",
       "\t<li>2</li>\n",
       "\t<li>3</li>\n",
       "\t<li>&lt;NA&gt;</li>\n",
       "\t<li>5</li>\n",
       "</ol>\n"
      ],
      "text/latex": [
       "\\begin{enumerate*}\n",
       "\\item 1\n",
       "\\item 2\n",
       "\\item 3\n",
       "\\item <NA>\n",
       "\\item 5\n",
       "\\end{enumerate*}\n"
      ],
      "text/markdown": [
       "1. 1\n",
       "2. 2\n",
       "3. 3\n",
       "4. &lt;NA&gt;\n",
       "5. 5\n",
       "\n",
       "\n"
      ],
      "text/plain": [
       "[1]  1  2  3 NA  5"
      ]
     },
     "metadata": {},
     "output_type": "display_data"
    }
   ],
   "source": [
    "y <- c(1, 2, 3, NA, 5)\n",
    "y"
   ]
  },
  {
   "cell_type": "code",
   "execution_count": 34,
   "metadata": {},
   "outputs": [
    {
     "data": {
      "text/html": [
       "Inf"
      ],
      "text/latex": [
       "Inf"
      ],
      "text/markdown": [
       "Inf"
      ],
      "text/plain": [
       "[1] Inf"
      ]
     },
     "metadata": {},
     "output_type": "display_data"
    }
   ],
   "source": [
    "z <- 10/0  # 불능(무한대)\n",
    "z"
   ]
  },
  {
   "cell_type": "code",
   "execution_count": 36,
   "metadata": {},
   "outputs": [
    {
     "data": {
      "text/html": [
       "NaN"
      ],
      "text/latex": [
       "NaN"
      ],
      "text/markdown": [
       "NaN"
      ],
      "text/plain": [
       "[1] NaN"
      ]
     },
     "metadata": {},
     "output_type": "display_data"
    }
   ],
   "source": [
    "u <- 0/0   # Not a Number (부정)\n",
    "u  "
   ]
  },
  {
   "cell_type": "markdown",
   "metadata": {},
   "source": [
    "# 3.3. Factor"
   ]
  },
  {
   "cell_type": "code",
   "execution_count": 37,
   "metadata": {},
   "outputs": [
    {
     "data": {
      "text/html": [
       "<ol class=list-inline>\n",
       "\t<li>'남'</li>\n",
       "\t<li>'여'</li>\n",
       "\t<li>'남'</li>\n",
       "</ol>\n"
      ],
      "text/latex": [
       "\\begin{enumerate*}\n",
       "\\item '남'\n",
       "\\item '여'\n",
       "\\item '남'\n",
       "\\end{enumerate*}\n"
      ],
      "text/markdown": [
       "1. '남'\n",
       "2. '여'\n",
       "3. '남'\n",
       "\n",
       "\n"
      ],
      "text/plain": [
       "[1] \"남\" \"여\" \"남\""
      ]
     },
     "metadata": {},
     "output_type": "display_data"
    }
   ],
   "source": [
    "gender <- c('남', '여', '남')\n",
    "gender"
   ]
  },
  {
   "cell_type": "code",
   "execution_count": 38,
   "metadata": {},
   "outputs": [
    {
     "ename": "ERROR",
     "evalue": "Error in eval(expr, envir, enclos): 객체 'gender.factor'를 찾을 수 없습니다\n",
     "output_type": "error",
     "traceback": [
      "Error in eval(expr, envir, enclos): 객체 'gender.factor'를 찾을 수 없습니다\nTraceback:\n"
     ]
    }
   ],
   "source": [
    "gender.factor"
   ]
  },
  {
   "cell_type": "code",
   "execution_count": 39,
   "metadata": {},
   "outputs": [
    {
     "data": {
      "text/html": [
       "<ol class=list-inline>\n",
       "\t<li>남</li>\n",
       "\t<li>여</li>\n",
       "\t<li>남</li>\n",
       "</ol>\n",
       "\n",
       "<details>\n",
       "\t<summary style=display:list-item;cursor:pointer>\n",
       "\t\t<strong>Levels</strong>:\n",
       "\t</summary>\n",
       "\t<ol class=list-inline>\n",
       "\t\t<li>'남'</li>\n",
       "\t\t<li>'여'</li>\n",
       "\t</ol>\n",
       "</details>"
      ],
      "text/latex": [
       "\\begin{enumerate*}\n",
       "\\item 남\n",
       "\\item 여\n",
       "\\item 남\n",
       "\\end{enumerate*}\n",
       "\n",
       "\\emph{Levels}: \\begin{enumerate*}\n",
       "\\item '남'\n",
       "\\item '여'\n",
       "\\end{enumerate*}\n"
      ],
      "text/markdown": [
       "1. 남\n",
       "2. 여\n",
       "3. 남\n",
       "\n",
       "\n",
       "\n",
       "**Levels**: 1. '남'\n",
       "2. '여'\n",
       "\n",
       "\n"
      ],
      "text/plain": [
       "[1] 남 여 남\n",
       "Levels: 남 여"
      ]
     },
     "metadata": {},
     "output_type": "display_data"
    }
   ],
   "source": [
    "gender.factor <- factor(gender)\n",
    "gender.factor"
   ]
  },
  {
   "cell_type": "markdown",
   "metadata": {},
   "source": [
    "# 3.4. Array and Matrix"
   ]
  },
  {
   "cell_type": "markdown",
   "metadata": {},
   "source": [
    "- array: 한 개 이상의 벡터로 구성, 다차원으로 확장 가능\n",
    "- matrix: 행과 열로 구성되는 2차원 배열"
   ]
  },
  {
   "cell_type": "code",
   "execution_count": 40,
   "metadata": {},
   "outputs": [
    {
     "data": {
      "text/html": [
       "<ol class=list-inline>\n",
       "\t<li>70</li>\n",
       "\t<li>80</li>\n",
       "\t<li>95</li>\n",
       "</ol>\n"
      ],
      "text/latex": [
       "\\begin{enumerate*}\n",
       "\\item 70\n",
       "\\item 80\n",
       "\\item 95\n",
       "\\end{enumerate*}\n"
      ],
      "text/markdown": [
       "1. 70\n",
       "2. 80\n",
       "3. 95\n",
       "\n",
       "\n"
      ],
      "text/plain": [
       "[1] 70 80 95"
      ]
     },
     "metadata": {},
     "output_type": "display_data"
    }
   ],
   "source": [
    "x <- c(70, 80, 95)\n",
    "arr <- array(x)\n",
    "arr"
   ]
  },
  {
   "cell_type": "code",
   "execution_count": 43,
   "metadata": {},
   "outputs": [
    {
     "data": {
      "text/html": [
       "<table>\n",
       "<tbody>\n",
       "\t<tr><td>1</td><td>3</td><td>5</td></tr>\n",
       "\t<tr><td>2</td><td>4</td><td>6</td></tr>\n",
       "</tbody>\n",
       "</table>\n"
      ],
      "text/latex": [
       "\\begin{tabular}{lll}\n",
       "\t 1 & 3 & 5\\\\\n",
       "\t 2 & 4 & 6\\\\\n",
       "\\end{tabular}\n"
      ],
      "text/markdown": [
       "\n",
       "| 1 | 3 | 5 |\n",
       "| 2 | 4 | 6 |\n",
       "\n"
      ],
      "text/plain": [
       "     [,1] [,2] [,3]\n",
       "[1,] 1    3    5   \n",
       "[2,] 2    4    6   "
      ]
     },
     "metadata": {},
     "output_type": "display_data"
    }
   ],
   "source": [
    "z <- 1:6\n",
    "arr <- array(z, dim=c(2,3))   # 1~6이 들어있는 벡터를 2 by 3 행렬로 구성\n",
    "arr"
   ]
  },
  {
   "cell_type": "markdown",
   "metadata": {},
   "source": [
    "- 행과 열 이름 설정 및 데이터 수정"
   ]
  },
  {
   "cell_type": "code",
   "execution_count": 49,
   "metadata": {},
   "outputs": [
    {
     "ename": "ERROR",
     "evalue": "Error in array(score, dim = c(2, 3), dimnames = name): 'dimnames'의 길이 [1]가 배열의 크기와 같지 않습니다\n",
     "output_type": "error",
     "traceback": [
      "Error in array(score, dim = c(2, 3), dimnames = name): 'dimnames'의 길이 [1]가 배열의 크기와 같지 않습니다\nTraceback:\n",
      "1. array(score, dim = c(2, 3), dimnames = name)"
     ]
    }
   ],
   "source": [
    "name <- list( c(\"알라딘\", \"자스민\", \"지니\"), c('국어', \"음악\"))  # 행과 열의 순서가 바뀌면 이름이 입력되지 않음\n",
    "score <- c(70, 80, 85, 90, 90, 75)\n",
    "arr <- array(score, dim=c(2, 3), dimnames=name)\n",
    "arr"
   ]
  },
  {
   "cell_type": "code",
   "execution_count": 50,
   "metadata": {},
   "outputs": [
    {
     "data": {
      "text/html": [
       "<table>\n",
       "<thead><tr><th></th><th scope=col>알라딘</th><th scope=col>자스민</th><th scope=col>지니</th></tr></thead>\n",
       "<tbody>\n",
       "\t<tr><th scope=row>국어</th><td>70</td><td>85</td><td>90</td></tr>\n",
       "\t<tr><th scope=row>음악</th><td>80</td><td>90</td><td>75</td></tr>\n",
       "</tbody>\n",
       "</table>\n"
      ],
      "text/latex": [
       "\\begin{tabular}{r|lll}\n",
       "  & 알라딘 & 자스민 & 지니\\\\\n",
       "\\hline\n",
       "\t국어 & 70 & 85 & 90\\\\\n",
       "\t음악 & 80 & 90 & 75\\\\\n",
       "\\end{tabular}\n"
      ],
      "text/markdown": [
       "\n",
       "| <!--/--> | 알라딘 | 자스민 | 지니 |\n",
       "|---|---|---|---|\n",
       "| 국어 | 70 | 85 | 90 |\n",
       "| 음악 | 80 | 90 | 75 |\n",
       "\n"
      ],
      "text/plain": [
       "     알라딘 자스민 지니\n",
       "국어 70     85     90  \n",
       "음악 80     90     75  "
      ]
     },
     "metadata": {},
     "output_type": "display_data"
    }
   ],
   "source": [
    "name <- list(c('국어', \"음악\"), c(\"알라딘\", \"자스민\", \"지니\")) # 행, 열의 이름 순으로 입력\n",
    "score <- c(70, 80, 85, 90, 90, 75)\n",
    "arr <- array(score, dim=c(2, 3), dimnames=name)\n",
    "arr"
   ]
  },
  {
   "cell_type": "code",
   "execution_count": 51,
   "metadata": {},
   "outputs": [
    {
     "data": {
      "text/html": [
       "<table>\n",
       "<thead><tr><th></th><th scope=col>알라딘</th><th scope=col>자스민</th><th scope=col>지니</th></tr></thead>\n",
       "<tbody>\n",
       "\t<tr><th scope=row>국어</th><td>70</td><td>85</td><td>90</td></tr>\n",
       "\t<tr><th scope=row>음악</th><td>80</td><td>90</td><td>77</td></tr>\n",
       "</tbody>\n",
       "</table>\n"
      ],
      "text/latex": [
       "\\begin{tabular}{r|lll}\n",
       "  & 알라딘 & 자스민 & 지니\\\\\n",
       "\\hline\n",
       "\t국어 & 70 & 85 & 90\\\\\n",
       "\t음악 & 80 & 90 & 77\\\\\n",
       "\\end{tabular}\n"
      ],
      "text/markdown": [
       "\n",
       "| <!--/--> | 알라딘 | 자스민 | 지니 |\n",
       "|---|---|---|---|\n",
       "| 국어 | 70 | 85 | 90 |\n",
       "| 음악 | 80 | 90 | 77 |\n",
       "\n"
      ],
      "text/plain": [
       "     알라딘 자스민 지니\n",
       "국어 70     85     90  \n",
       "음악 80     90     77  "
      ]
     },
     "metadata": {},
     "output_type": "display_data"
    }
   ],
   "source": [
    "arr[2,3] <- 77\n",
    "arr"
   ]
  },
  {
   "cell_type": "code",
   "execution_count": 56,
   "metadata": {},
   "outputs": [
    {
     "data": {
      "text/html": [
       "<dl class=dl-horizontal>\n",
       "\t<dt>알라딘</dt>\n",
       "\t\t<dd>70</dd>\n",
       "\t<dt>자스민</dt>\n",
       "\t\t<dd>85</dd>\n",
       "\t<dt>지니</dt>\n",
       "\t\t<dd>90</dd>\n",
       "</dl>\n"
      ],
      "text/latex": [
       "\\begin{description*}\n",
       "\\item[알라딘] 70\n",
       "\\item[자스민] 85\n",
       "\\item[지니] 90\n",
       "\\end{description*}\n"
      ],
      "text/markdown": [
       "알라딘\n",
       ":   70자스민\n",
       ":   85지니\n",
       ":   90\n",
       "\n"
      ],
      "text/plain": [
       "알라딘 자스민   지니 \n",
       "    70     85     90 "
      ]
     },
     "metadata": {},
     "output_type": "display_data"
    }
   ],
   "source": [
    "arr[1, ]   # 1행 출력"
   ]
  },
  {
   "cell_type": "code",
   "execution_count": 58,
   "metadata": {},
   "outputs": [
    {
     "data": {
      "text/html": [
       "<dl class=dl-horizontal>\n",
       "\t<dt>국어</dt>\n",
       "\t\t<dd>70</dd>\n",
       "\t<dt>음악</dt>\n",
       "\t\t<dd>80</dd>\n",
       "</dl>\n"
      ],
      "text/latex": [
       "\\begin{description*}\n",
       "\\item[국어] 70\n",
       "\\item[음악] 80\n",
       "\\end{description*}\n"
      ],
      "text/markdown": [
       "국어\n",
       ":   70음악\n",
       ":   80\n",
       "\n"
      ],
      "text/plain": [
       "국어 음악 \n",
       "  70   80 "
      ]
     },
     "metadata": {},
     "output_type": "display_data"
    }
   ],
   "source": [
    "arr[, 1]   # 1열 출력"
   ]
  },
  {
   "cell_type": "code",
   "execution_count": 60,
   "metadata": {},
   "outputs": [
    {
     "data": {
      "text/html": [
       "<table>\n",
       "<tbody>\n",
       "\t<tr><td>1</td><td>3</td><td>5</td></tr>\n",
       "\t<tr><td>2</td><td>4</td><td>6</td></tr>\n",
       "</tbody>\n",
       "</table>\n"
      ],
      "text/latex": [
       "\\begin{tabular}{lll}\n",
       "\t 1 & 3 & 5\\\\\n",
       "\t 2 & 4 & 6\\\\\n",
       "\\end{tabular}\n"
      ],
      "text/markdown": [
       "\n",
       "| 1 | 3 | 5 |\n",
       "| 2 | 4 | 6 |\n",
       "\n"
      ],
      "text/plain": [
       "     [,1] [,2] [,3]\n",
       "[1,] 1    3    5   \n",
       "[2,] 2    4    6   "
      ]
     },
     "metadata": {},
     "output_type": "display_data"
    }
   ],
   "source": [
    "name <- list(c(\"1행\", \"2행\"), c(\"1열\", \"2열\", \"3열\"))\n",
    "x <- 1:6\n",
    "mtx <- matrix(x, nrow=2)  # 벡터 x로 2행의 행렬 생성\n",
    "mtx"
   ]
  },
  {
   "cell_type": "code",
   "execution_count": 61,
   "metadata": {},
   "outputs": [
    {
     "data": {
      "text/html": [
       "<table>\n",
       "<thead><tr><th></th><th scope=col>1열</th><th scope=col>2열</th><th scope=col>3열</th></tr></thead>\n",
       "<tbody>\n",
       "\t<tr><th scope=row>1행</th><td>1</td><td>3</td><td>5</td></tr>\n",
       "\t<tr><th scope=row>2행</th><td>2</td><td>4</td><td>6</td></tr>\n",
       "</tbody>\n",
       "</table>\n"
      ],
      "text/latex": [
       "\\begin{tabular}{r|lll}\n",
       "  & 1열 & 2열 & 3열\\\\\n",
       "\\hline\n",
       "\t1행 & 1 & 3 & 5\\\\\n",
       "\t2행 & 2 & 4 & 6\\\\\n",
       "\\end{tabular}\n"
      ],
      "text/markdown": [
       "\n",
       "| <!--/--> | 1열 | 2열 | 3열 |\n",
       "|---|---|---|---|\n",
       "| 1행 | 1 | 3 | 5 |\n",
       "| 2행 | 2 | 4 | 6 |\n",
       "\n"
      ],
      "text/plain": [
       "    1열 2열 3열\n",
       "1행 1   3   5  \n",
       "2행 2   4   6  "
      ]
     },
     "metadata": {},
     "output_type": "display_data"
    }
   ],
   "source": [
    "mtx <- matrix(x, nrow=2, dimnames = name)  # 벡터 x로 2행의 행렬 생성\n",
    "mtx"
   ]
  },
  {
   "cell_type": "code",
   "execution_count": 67,
   "metadata": {},
   "outputs": [
    {
     "data": {
      "text/html": [
       "<table>\n",
       "<thead><tr><th></th><th scope=col>1열</th><th scope=col>2열</th><th scope=col>3열</th></tr></thead>\n",
       "<tbody>\n",
       "\t<tr><th scope=row>1행</th><td>1</td><td>2</td><td>3</td></tr>\n",
       "\t<tr><th scope=row>2행</th><td>4</td><td>5</td><td>6</td></tr>\n",
       "</tbody>\n",
       "</table>\n"
      ],
      "text/latex": [
       "\\begin{tabular}{r|lll}\n",
       "  & 1열 & 2열 & 3열\\\\\n",
       "\\hline\n",
       "\t1행 & 1 & 2 & 3\\\\\n",
       "\t2행 & 4 & 5 & 6\\\\\n",
       "\\end{tabular}\n"
      ],
      "text/markdown": [
       "\n",
       "| <!--/--> | 1열 | 2열 | 3열 |\n",
       "|---|---|---|---|\n",
       "| 1행 | 1 | 2 | 3 |\n",
       "| 2행 | 4 | 5 | 6 |\n",
       "\n"
      ],
      "text/plain": [
       "    1열 2열 3열\n",
       "1행 1   2   3  \n",
       "2행 4   5   6  "
      ]
     },
     "metadata": {},
     "output_type": "display_data"
    }
   ],
   "source": [
    "mtx <- matrix(x, nrow=2, dimnames = name, byrow = TRUE)  # 행을 기준으로 값을 배치\n",
    "mtx"
   ]
  },
  {
   "cell_type": "code",
   "execution_count": 68,
   "metadata": {},
   "outputs": [
    {
     "data": {
      "text/html": [
       "<table>\n",
       "<thead><tr><th></th><th scope=col>1열</th><th scope=col>2열</th><th scope=col>3열</th></tr></thead>\n",
       "<tbody>\n",
       "\t<tr><th scope=row>1행</th><td>1</td><td>2</td><td>3</td></tr>\n",
       "\t<tr><th scope=row>2행</th><td>4</td><td>5</td><td>6</td></tr>\n",
       "\t<tr><th scope=row>3행</th><td>7</td><td>8</td><td>9</td></tr>\n",
       "</tbody>\n",
       "</table>\n"
      ],
      "text/latex": [
       "\\begin{tabular}{r|lll}\n",
       "  & 1열 & 2열 & 3열\\\\\n",
       "\\hline\n",
       "\t1행 & 1 & 2 & 3\\\\\n",
       "\t2행 & 4 & 5 & 6\\\\\n",
       "\t3행 & 7 & 8 & 9\\\\\n",
       "\\end{tabular}\n"
      ],
      "text/markdown": [
       "\n",
       "| <!--/--> | 1열 | 2열 | 3열 |\n",
       "|---|---|---|---|\n",
       "| 1행 | 1 | 2 | 3 |\n",
       "| 2행 | 4 | 5 | 6 |\n",
       "| 3행 | 7 | 8 | 9 |\n",
       "\n"
      ],
      "text/plain": [
       "    1열 2열 3열\n",
       "1행 1   2   3  \n",
       "2행 4   5   6  \n",
       "3행 7   8   9  "
      ]
     },
     "metadata": {},
     "output_type": "display_data"
    }
   ],
   "source": [
    "y <- c(7, 8, 9)\n",
    "mtx <- rbind(mtx, y)  # mtx 행렬에 y 벡터를 아래 행에 추가\n",
    "rownames(mtx)[3] <- \"3행\"   # 세번째 행의 이름을 지정\n",
    "mtx"
   ]
  },
  {
   "cell_type": "code",
   "execution_count": 69,
   "metadata": {},
   "outputs": [
    {
     "data": {
      "text/html": [
       "<table>\n",
       "<thead><tr><th></th><th scope=col>1열</th><th scope=col>2열</th><th scope=col>3열</th><th scope=col>4열</th></tr></thead>\n",
       "<tbody>\n",
       "\t<tr><th scope=row>1행</th><td>1 </td><td>2 </td><td>3 </td><td>10</td></tr>\n",
       "\t<tr><th scope=row>2행</th><td>4 </td><td>5 </td><td>6 </td><td>11</td></tr>\n",
       "\t<tr><th scope=row>3행</th><td>7 </td><td>8 </td><td>9 </td><td>12</td></tr>\n",
       "</tbody>\n",
       "</table>\n"
      ],
      "text/latex": [
       "\\begin{tabular}{r|llll}\n",
       "  & 1열 & 2열 & 3열 & 4열\\\\\n",
       "\\hline\n",
       "\t1행 & 1  & 2  & 3  & 10\\\\\n",
       "\t2행 & 4  & 5  & 6  & 11\\\\\n",
       "\t3행 & 7  & 8  & 9  & 12\\\\\n",
       "\\end{tabular}\n"
      ],
      "text/markdown": [
       "\n",
       "| <!--/--> | 1열 | 2열 | 3열 | 4열 |\n",
       "|---|---|---|---|---|\n",
       "| 1행 | 1  | 2  | 3  | 10 |\n",
       "| 2행 | 4  | 5  | 6  | 11 |\n",
       "| 3행 | 7  | 8  | 9  | 12 |\n",
       "\n"
      ],
      "text/plain": [
       "    1열 2열 3열 4열\n",
       "1행 1   2   3   10 \n",
       "2행 4   5   6   11 \n",
       "3행 7   8   9   12 "
      ]
     },
     "metadata": {},
     "output_type": "display_data"
    }
   ],
   "source": [
    "z <- c(10, 11, 12)\n",
    "mtx <- cbind(mtx, z)  # mtx 행렬에 z 벡터를 우측 열에 추가\n",
    "colnames(mtx)[4] <- \"4열\"\n",
    "mtx"
   ]
  },
  {
   "cell_type": "markdown",
   "metadata": {},
   "source": [
    "# 3.5. List"
   ]
  },
  {
   "cell_type": "code",
   "execution_count": 70,
   "metadata": {},
   "outputs": [
    {
     "data": {
      "text/html": [
       "<ol>\n",
       "\t<li>'알라딘'</li>\n",
       "\t<li>20</li>\n",
       "\t<li><ol class=list-inline>\n",
       "\t<li>70</li>\n",
       "\t<li>80</li>\n",
       "</ol>\n",
       "</li>\n",
       "</ol>\n"
      ],
      "text/latex": [
       "\\begin{enumerate}\n",
       "\\item '알라딘'\n",
       "\\item 20\n",
       "\\item \\begin{enumerate*}\n",
       "\\item 70\n",
       "\\item 80\n",
       "\\end{enumerate*}\n",
       "\n",
       "\\end{enumerate}\n"
      ],
      "text/markdown": [
       "1. '알라딘'\n",
       "2. 20\n",
       "3. 1. 70\n",
       "2. 80\n",
       "\n",
       "\n",
       "\n",
       "\n",
       "\n"
      ],
      "text/plain": [
       "[[1]]\n",
       "[1] \"알라딘\"\n",
       "\n",
       "[[2]]\n",
       "[1] 20\n",
       "\n",
       "[[3]]\n",
       "[1] 70 80\n"
      ]
     },
     "metadata": {},
     "output_type": "display_data"
    }
   ],
   "source": [
    "x <- list(\"알라딘\", 20, c(70, 80))\n",
    "x"
   ]
  },
  {
   "cell_type": "code",
   "execution_count": 75,
   "metadata": {},
   "outputs": [
    {
     "data": {
      "text/html": [
       "<ol>\n",
       "\t<li>'알라딘'</li>\n",
       "</ol>\n"
      ],
      "text/latex": [
       "\\begin{enumerate}\n",
       "\\item '알라딘'\n",
       "\\end{enumerate}\n"
      ],
      "text/markdown": [
       "1. '알라딘'\n",
       "\n",
       "\n"
      ],
      "text/plain": [
       "[[1]]\n",
       "[1] \"알라딘\"\n"
      ]
     },
     "metadata": {},
     "output_type": "display_data"
    }
   ],
   "source": [
    "x[1]  # 원소와 인덱스 출력"
   ]
  },
  {
   "cell_type": "code",
   "execution_count": 76,
   "metadata": {},
   "outputs": [
    {
     "data": {
      "text/html": [
       "'알라딘'"
      ],
      "text/latex": [
       "'알라딘'"
      ],
      "text/markdown": [
       "'알라딘'"
      ],
      "text/plain": [
       "[1] \"알라딘\""
      ]
     },
     "metadata": {},
     "output_type": "display_data"
    }
   ],
   "source": [
    "x[[1]]  # 원소만 출력"
   ]
  },
  {
   "cell_type": "code",
   "execution_count": 73,
   "metadata": {},
   "outputs": [
    {
     "data": {
      "text/html": [
       "<ol>\n",
       "\t<li><ol class=list-inline>\n",
       "\t<li>70</li>\n",
       "\t<li>80</li>\n",
       "</ol>\n",
       "</li>\n",
       "</ol>\n"
      ],
      "text/latex": [
       "\\begin{enumerate}\n",
       "\\item \\begin{enumerate*}\n",
       "\\item 70\n",
       "\\item 80\n",
       "\\end{enumerate*}\n",
       "\n",
       "\\end{enumerate}\n"
      ],
      "text/markdown": [
       "1. 1. 70\n",
       "2. 80\n",
       "\n",
       "\n",
       "\n",
       "\n",
       "\n"
      ],
      "text/plain": [
       "[[1]]\n",
       "[1] 70 80\n"
      ]
     },
     "metadata": {},
     "output_type": "display_data"
    }
   ],
   "source": [
    "x[3]"
   ]
  },
  {
   "cell_type": "code",
   "execution_count": 85,
   "metadata": {},
   "outputs": [
    {
     "data": {
      "text/html": [
       "70"
      ],
      "text/latex": [
       "70"
      ],
      "text/markdown": [
       "70"
      ],
      "text/plain": [
       "[1] 70"
      ]
     },
     "metadata": {},
     "output_type": "display_data"
    }
   ],
   "source": [
    "x[[3]][1]  # 세번째 원소의 첫번째 원소"
   ]
  },
  {
   "cell_type": "code",
   "execution_count": 87,
   "metadata": {},
   "outputs": [
    {
     "data": {
      "text/html": [
       "<dl>\n",
       "\t<dt>$성명</dt>\n",
       "\t\t<dd>'알라딘'</dd>\n",
       "\t<dt>$나이</dt>\n",
       "\t\t<dd>'20'</dd>\n",
       "\t<dt>$성적</dt>\n",
       "\t\t<dd><ol class=list-inline>\n",
       "\t<li>70</li>\n",
       "\t<li>80</li>\n",
       "</ol>\n",
       "</dd>\n",
       "</dl>\n"
      ],
      "text/latex": [
       "\\begin{description}\n",
       "\\item[\\$성명] '알라딘'\n",
       "\\item[\\$나이] '20'\n",
       "\\item[\\$성적] \\begin{enumerate*}\n",
       "\\item 70\n",
       "\\item 80\n",
       "\\end{enumerate*}\n",
       "\n",
       "\\end{description}\n"
      ],
      "text/markdown": [
       "$성명\n",
       ":   '알라딘'\n",
       "$나이\n",
       ":   '20'\n",
       "$성적\n",
       ":   1. 70\n",
       "2. 80\n",
       "\n",
       "\n",
       "\n",
       "\n",
       "\n"
      ],
      "text/plain": [
       "$성명\n",
       "[1] \"알라딘\"\n",
       "\n",
       "$나이\n",
       "[1] \"20\"\n",
       "\n",
       "$성적\n",
       "[1] 70 80\n"
      ]
     },
     "metadata": {},
     "output_type": "display_data"
    }
   ],
   "source": [
    "x <- list(성명=\"알라딘\", 나이=\"20\", 성적=c(70, 80))  # 각 원소의 항목명이 있는 경우\n",
    "x"
   ]
  },
  {
   "cell_type": "code",
   "execution_count": 90,
   "metadata": {},
   "outputs": [
    {
     "data": {
      "text/html": [
       "<strong>$성명</strong> = '알라딘'"
      ],
      "text/latex": [
       "\\textbf{\\$성명} = '알라딘'"
      ],
      "text/markdown": [
       "**$성명** = '알라딘'"
      ],
      "text/plain": [
       "$성명\n",
       "[1] \"알라딘\"\n"
      ]
     },
     "metadata": {},
     "output_type": "display_data"
    }
   ],
   "source": [
    "x[1]  # 항목명과 원소 출력"
   ]
  },
  {
   "cell_type": "code",
   "execution_count": 91,
   "metadata": {},
   "outputs": [
    {
     "data": {
      "text/html": [
       "'알라딘'"
      ],
      "text/latex": [
       "'알라딘'"
      ],
      "text/markdown": [
       "'알라딘'"
      ],
      "text/plain": [
       "[1] \"알라딘\""
      ]
     },
     "metadata": {},
     "output_type": "display_data"
    }
   ],
   "source": [
    "x[[1]]  # 원소만 출력"
   ]
  },
  {
   "cell_type": "code",
   "execution_count": 95,
   "metadata": {},
   "outputs": [
    {
     "data": {
      "text/html": [
       "<strong>$성적</strong> = <ol class=list-inline>\n",
       "\t<li>70</li>\n",
       "\t<li>80</li>\n",
       "</ol>\n"
      ],
      "text/latex": [
       "\\textbf{\\$성적} = \\begin{enumerate*}\n",
       "\\item 70\n",
       "\\item 80\n",
       "\\end{enumerate*}\n"
      ],
      "text/markdown": [
       "**$성적** = 1. 70\n",
       "2. 80\n",
       "\n",
       "\n"
      ],
      "text/plain": [
       "$성적\n",
       "[1] 70 80\n"
      ]
     },
     "metadata": {},
     "output_type": "display_data"
    }
   ],
   "source": [
    "x[3]  # 항목과 원소 출력"
   ]
  },
  {
   "cell_type": "code",
   "execution_count": 96,
   "metadata": {},
   "outputs": [
    {
     "data": {
      "text/html": [
       "80"
      ],
      "text/latex": [
       "80"
      ],
      "text/markdown": [
       "80"
      ],
      "text/plain": [
       "[1] 80"
      ]
     },
     "metadata": {},
     "output_type": "display_data"
    }
   ],
   "source": [
    "x[[3]][2]  # 원소 중 하나만 선택 출력"
   ]
  },
  {
   "cell_type": "markdown",
   "metadata": {},
   "source": [
    "# 3.6. Data Frame"
   ]
  },
  {
   "cell_type": "code",
   "execution_count": 10,
   "metadata": {},
   "outputs": [
    {
     "data": {
      "text/html": [
       "<table>\n",
       "<thead><tr><th scope=col>성명</th><th scope=col>나이</th><th scope=col>국어</th></tr></thead>\n",
       "<tbody>\n",
       "\t<tr><td>알라딘</td><td>20    </td><td>70    </td></tr>\n",
       "\t<tr><td>자스민</td><td>19    </td><td>85    </td></tr>\n",
       "</tbody>\n",
       "</table>\n"
      ],
      "text/latex": [
       "\\begin{tabular}{r|lll}\n",
       " 성명 & 나이 & 국어\\\\\n",
       "\\hline\n",
       "\t 알라딘 & 20     & 70    \\\\\n",
       "\t 자스민 & 19     & 85    \\\\\n",
       "\\end{tabular}\n"
      ],
      "text/markdown": [
       "\n",
       "| 성명 | 나이 | 국어 |\n",
       "|---|---|---|\n",
       "| 알라딘 | 20     | 70     |\n",
       "| 자스민 | 19     | 85     |\n",
       "\n"
      ],
      "text/plain": [
       "  성명   나이 국어\n",
       "1 알라딘 20   70  \n",
       "2 자스민 19   85  "
      ]
     },
     "metadata": {},
     "output_type": "display_data"
    }
   ],
   "source": [
    "df <- data.frame(성명=c(\"알라딘\", \"자스민\"), 나이=c(20, 19), 국어=c(70, 85))\n",
    "df"
   ]
  },
  {
   "cell_type": "code",
   "execution_count": 11,
   "metadata": {},
   "outputs": [
    {
     "data": {
      "text/html": [
       "<table>\n",
       "<thead><tr><th scope=col>성명</th><th scope=col>나이</th><th scope=col>국어</th><th scope=col>음악</th></tr></thead>\n",
       "<tbody>\n",
       "\t<tr><td>알라딘</td><td>20    </td><td>70    </td><td>80    </td></tr>\n",
       "\t<tr><td>자스민</td><td>19    </td><td>85    </td><td>90    </td></tr>\n",
       "</tbody>\n",
       "</table>\n"
      ],
      "text/latex": [
       "\\begin{tabular}{r|llll}\n",
       " 성명 & 나이 & 국어 & 음악\\\\\n",
       "\\hline\n",
       "\t 알라딘 & 20     & 70     & 80    \\\\\n",
       "\t 자스민 & 19     & 85     & 90    \\\\\n",
       "\\end{tabular}\n"
      ],
      "text/markdown": [
       "\n",
       "| 성명 | 나이 | 국어 | 음악 |\n",
       "|---|---|---|---|\n",
       "| 알라딘 | 20     | 70     | 80     |\n",
       "| 자스민 | 19     | 85     | 90     |\n",
       "\n"
      ],
      "text/plain": [
       "  성명   나이 국어 음악\n",
       "1 알라딘 20   70   80  \n",
       "2 자스민 19   85   90  "
      ]
     },
     "metadata": {},
     "output_type": "display_data"
    }
   ],
   "source": [
    "df <- cbind(df, 음악=c(80,90))  # 오른쪽 열에 벡터를 추가\n",
    "df"
   ]
  },
  {
   "cell_type": "code",
   "execution_count": 12,
   "metadata": {},
   "outputs": [
    {
     "data": {
      "text/html": [
       "<table>\n",
       "<thead><tr><th scope=col>성명</th><th scope=col>나이</th><th scope=col>국어</th><th scope=col>음악</th></tr></thead>\n",
       "<tbody>\n",
       "\t<tr><td>알라딘</td><td>20    </td><td>70    </td><td>80    </td></tr>\n",
       "\t<tr><td>자스민</td><td>19    </td><td>85    </td><td>90    </td></tr>\n",
       "\t<tr><td>지니  </td><td>30    </td><td>90    </td><td>75    </td></tr>\n",
       "</tbody>\n",
       "</table>\n"
      ],
      "text/latex": [
       "\\begin{tabular}{r|llll}\n",
       " 성명 & 나이 & 국어 & 음악\\\\\n",
       "\\hline\n",
       "\t 알라딘 & 20     & 70     & 80    \\\\\n",
       "\t 자스민 & 19     & 85     & 90    \\\\\n",
       "\t 지니   & 30     & 90     & 75    \\\\\n",
       "\\end{tabular}\n"
      ],
      "text/markdown": [
       "\n",
       "| 성명 | 나이 | 국어 | 음악 |\n",
       "|---|---|---|---|\n",
       "| 알라딘 | 20     | 70     | 80     |\n",
       "| 자스민 | 19     | 85     | 90     |\n",
       "| 지니   | 30     | 90     | 75     |\n",
       "\n"
      ],
      "text/plain": [
       "  성명   나이 국어 음악\n",
       "1 알라딘 20   70   80  \n",
       "2 자스민 19   85   90  \n",
       "3 지니   30   90   75  "
      ]
     },
     "metadata": {},
     "output_type": "display_data"
    }
   ],
   "source": [
    "df <- rbind(df, data.frame(성명=\"지니\", 나이=30, 국어=90, 음악=75))  # 아래 행에 데이터프레임을 추가\n",
    "df"
   ]
  },
  {
   "cell_type": "code",
   "execution_count": 13,
   "metadata": {},
   "outputs": [
    {
     "data": {
      "text/html": [
       "30"
      ],
      "text/latex": [
       "30"
      ],
      "text/markdown": [
       "30"
      ],
      "text/plain": [
       "[1] 30"
      ]
     },
     "metadata": {},
     "output_type": "display_data"
    }
   ],
   "source": [
    "df[3, 2]"
   ]
  },
  {
   "cell_type": "code",
   "execution_count": 14,
   "metadata": {},
   "outputs": [
    {
     "data": {
      "text/html": [
       "<table>\n",
       "<thead><tr><th></th><th scope=col>성명</th><th scope=col>나이</th><th scope=col>국어</th><th scope=col>음악</th></tr></thead>\n",
       "<tbody>\n",
       "\t<tr><th scope=row>3</th><td>지니</td><td>30  </td><td>90  </td><td>75  </td></tr>\n",
       "</tbody>\n",
       "</table>\n"
      ],
      "text/latex": [
       "\\begin{tabular}{r|llll}\n",
       "  & 성명 & 나이 & 국어 & 음악\\\\\n",
       "\\hline\n",
       "\t3 & 지니 & 30   & 90   & 75  \\\\\n",
       "\\end{tabular}\n"
      ],
      "text/markdown": [
       "\n",
       "| <!--/--> | 성명 | 나이 | 국어 | 음악 |\n",
       "|---|---|---|---|---|\n",
       "| 3 | 지니 | 30   | 90   | 75   |\n",
       "\n"
      ],
      "text/plain": [
       "  성명 나이 국어 음악\n",
       "3 지니 30   90   75  "
      ]
     },
     "metadata": {},
     "output_type": "display_data"
    }
   ],
   "source": [
    "df[3, ]"
   ]
  },
  {
   "cell_type": "code",
   "execution_count": 15,
   "metadata": {},
   "outputs": [
    {
     "data": {
      "text/html": [
       "<ol class=list-inline>\n",
       "\t<li>70</li>\n",
       "\t<li>85</li>\n",
       "\t<li>90</li>\n",
       "</ol>\n"
      ],
      "text/latex": [
       "\\begin{enumerate*}\n",
       "\\item 70\n",
       "\\item 85\n",
       "\\item 90\n",
       "\\end{enumerate*}\n"
      ],
      "text/markdown": [
       "1. 70\n",
       "2. 85\n",
       "3. 90\n",
       "\n",
       "\n"
      ],
      "text/plain": [
       "[1] 70 85 90"
      ]
     },
     "metadata": {},
     "output_type": "display_data"
    }
   ],
   "source": [
    "df[, 3]"
   ]
  },
  {
   "cell_type": "code",
   "execution_count": 18,
   "metadata": {},
   "outputs": [
    {
     "data": {
      "text/html": [
       "<table>\n",
       "<thead><tr><th></th><th scope=col>성명</th><th scope=col>나이</th><th scope=col>국어</th><th scope=col>음악</th></tr></thead>\n",
       "<tbody>\n",
       "\t<tr><th scope=row>1</th><td>알라딘</td><td>20    </td><td>70    </td><td>80    </td></tr>\n",
       "\t<tr><th scope=row>3</th><td>지니  </td><td>30    </td><td>90    </td><td>75    </td></tr>\n",
       "</tbody>\n",
       "</table>\n"
      ],
      "text/latex": [
       "\\begin{tabular}{r|llll}\n",
       "  & 성명 & 나이 & 국어 & 음악\\\\\n",
       "\\hline\n",
       "\t1 & 알라딘 & 20     & 70     & 80    \\\\\n",
       "\t3 & 지니   & 30     & 90     & 75    \\\\\n",
       "\\end{tabular}\n"
      ],
      "text/markdown": [
       "\n",
       "| <!--/--> | 성명 | 나이 | 국어 | 음악 |\n",
       "|---|---|---|---|---|\n",
       "| 1 | 알라딘 | 20     | 70     | 80     |\n",
       "| 3 | 지니   | 30     | 90     | 75     |\n",
       "\n"
      ],
      "text/plain": [
       "  성명   나이 국어 음악\n",
       "1 알라딘 20   70   80  \n",
       "3 지니   30   90   75  "
      ]
     },
     "metadata": {},
     "output_type": "display_data"
    }
   ],
   "source": [
    "df[-2,]  # 2행을 제외하고 출력"
   ]
  },
  {
   "cell_type": "code",
   "execution_count": 19,
   "metadata": {},
   "outputs": [
    {
     "data": {
      "text/html": [
       "<table>\n",
       "<thead><tr><th scope=col>나이</th><th scope=col>국어</th><th scope=col>음악</th></tr></thead>\n",
       "<tbody>\n",
       "\t<tr><td>20</td><td>70</td><td>80</td></tr>\n",
       "\t<tr><td>19</td><td>85</td><td>90</td></tr>\n",
       "\t<tr><td>30</td><td>90</td><td>75</td></tr>\n",
       "</tbody>\n",
       "</table>\n"
      ],
      "text/latex": [
       "\\begin{tabular}{r|lll}\n",
       " 나이 & 국어 & 음악\\\\\n",
       "\\hline\n",
       "\t 20 & 70 & 80\\\\\n",
       "\t 19 & 85 & 90\\\\\n",
       "\t 30 & 90 & 75\\\\\n",
       "\\end{tabular}\n"
      ],
      "text/markdown": [
       "\n",
       "| 나이 | 국어 | 음악 |\n",
       "|---|---|---|\n",
       "| 20 | 70 | 80 |\n",
       "| 19 | 85 | 90 |\n",
       "| 30 | 90 | 75 |\n",
       "\n"
      ],
      "text/plain": [
       "  나이 국어 음악\n",
       "1 20   70   80  \n",
       "2 19   85   90  \n",
       "3 30   90   75  "
      ]
     },
     "metadata": {},
     "output_type": "display_data"
    }
   ],
   "source": [
    "df[, -1]  # 1열을 제외하고 출력"
   ]
  },
  {
   "cell_type": "code",
   "execution_count": 20,
   "metadata": {},
   "outputs": [
    {
     "name": "stdout",
     "output_type": "stream",
     "text": [
      "'data.frame':\t3 obs. of  4 variables:\n",
      " $ 성명: Factor w/ 3 levels \"알라딘\",\"자스민\",..: 1 2 3\n",
      " $ 나이: num  20 19 30\n",
      " $ 국어: num  70 85 90\n",
      " $ 음악: num  80 90 75\n"
     ]
    }
   ],
   "source": [
    "str(df)   # 데이터프레임 구조 출력 -> 성명이 요인으로 자동 지정됨"
   ]
  },
  {
   "cell_type": "code",
   "execution_count": 21,
   "metadata": {},
   "outputs": [
    {
     "data": {
      "text/html": [
       "<table>\n",
       "<thead><tr><th scope=col>성명</th><th scope=col>나이</th><th scope=col>국어</th><th scope=col>음악</th></tr></thead>\n",
       "<tbody>\n",
       "\t<tr><td>알라딘</td><td>21    </td><td>70    </td><td>80    </td></tr>\n",
       "\t<tr><td>자스민</td><td>19    </td><td>85    </td><td>90    </td></tr>\n",
       "\t<tr><td>지니  </td><td>30    </td><td>90    </td><td>75    </td></tr>\n",
       "</tbody>\n",
       "</table>\n"
      ],
      "text/latex": [
       "\\begin{tabular}{r|llll}\n",
       " 성명 & 나이 & 국어 & 음악\\\\\n",
       "\\hline\n",
       "\t 알라딘 & 21     & 70     & 80    \\\\\n",
       "\t 자스민 & 19     & 85     & 90    \\\\\n",
       "\t 지니   & 30     & 90     & 75    \\\\\n",
       "\\end{tabular}\n"
      ],
      "text/markdown": [
       "\n",
       "| 성명 | 나이 | 국어 | 음악 |\n",
       "|---|---|---|---|\n",
       "| 알라딘 | 21     | 70     | 80     |\n",
       "| 자스민 | 19     | 85     | 90     |\n",
       "| 지니   | 30     | 90     | 75     |\n",
       "\n"
      ],
      "text/plain": [
       "  성명   나이 국어 음악\n",
       "1 알라딘 21   70   80  \n",
       "2 자스민 19   85   90  \n",
       "3 지니   30   90   75  "
      ]
     },
     "metadata": {},
     "output_type": "display_data"
    }
   ],
   "source": [
    "df[1, 2] <- 21\n",
    "df"
   ]
  },
  {
   "cell_type": "code",
   "execution_count": 23,
   "metadata": {},
   "outputs": [
    {
     "name": "stderr",
     "output_type": "stream",
     "text": [
      "Warning message in `[<-.factor`(`*tmp*`, iseq, value = \"Aladin\"):\n",
      "\"invalid factor level, NA generated\""
     ]
    }
   ],
   "source": [
    "df[1, 1] <- \"Aladin\"   # 요인의 경우 레벨에 없는 문자로 수정 불가"
   ]
  },
  {
   "cell_type": "code",
   "execution_count": 24,
   "metadata": {},
   "outputs": [
    {
     "name": "stdout",
     "output_type": "stream",
     "text": [
      "'data.frame':\t2 obs. of  3 variables:\n",
      " $ 성명: chr  \"알라딘\" \"자스민\"\n",
      " $ 나이: num  20 19\n",
      " $ 국어: num  70 85\n"
     ]
    }
   ],
   "source": [
    "df <- data.frame(성명=c(\"알라딘\", \"자스민\"),\n",
    "                나이=c(20, 19),\n",
    "                국어=c(70, 85),\n",
    "                stringsAsFactors=F)   # 문자를 요인으로 만들지 않도록 설정\n",
    "str(df)"
   ]
  },
  {
   "cell_type": "code",
   "execution_count": 25,
   "metadata": {},
   "outputs": [
    {
     "data": {
      "text/html": [
       "<table>\n",
       "<thead><tr><th scope=col>성명</th><th scope=col>나이</th><th scope=col>국어</th></tr></thead>\n",
       "<tbody>\n",
       "\t<tr><td>알라딘</td><td>20    </td><td>70    </td></tr>\n",
       "\t<tr><td>자스민</td><td>19    </td><td>85    </td></tr>\n",
       "</tbody>\n",
       "</table>\n"
      ],
      "text/latex": [
       "\\begin{tabular}{r|lll}\n",
       " 성명 & 나이 & 국어\\\\\n",
       "\\hline\n",
       "\t 알라딘 & 20     & 70    \\\\\n",
       "\t 자스민 & 19     & 85    \\\\\n",
       "\\end{tabular}\n"
      ],
      "text/markdown": [
       "\n",
       "| 성명 | 나이 | 국어 |\n",
       "|---|---|---|\n",
       "| 알라딘 | 20     | 70     |\n",
       "| 자스민 | 19     | 85     |\n",
       "\n"
      ],
      "text/plain": [
       "  성명   나이 국어\n",
       "1 알라딘 20   70  \n",
       "2 자스민 19   85  "
      ]
     },
     "metadata": {},
     "output_type": "display_data"
    }
   ],
   "source": [
    "df"
   ]
  },
  {
   "cell_type": "code",
   "execution_count": 26,
   "metadata": {},
   "outputs": [
    {
     "data": {
      "text/html": [
       "<table>\n",
       "<thead><tr><th scope=col>성명</th><th scope=col>나이</th><th scope=col>국어</th></tr></thead>\n",
       "<tbody>\n",
       "\t<tr><td>Aladin</td><td>20    </td><td>70    </td></tr>\n",
       "\t<tr><td>자스민</td><td>19    </td><td>85    </td></tr>\n",
       "</tbody>\n",
       "</table>\n"
      ],
      "text/latex": [
       "\\begin{tabular}{r|lll}\n",
       " 성명 & 나이 & 국어\\\\\n",
       "\\hline\n",
       "\t Aladin & 20     & 70    \\\\\n",
       "\t 자스민 & 19     & 85    \\\\\n",
       "\\end{tabular}\n"
      ],
      "text/markdown": [
       "\n",
       "| 성명 | 나이 | 국어 |\n",
       "|---|---|---|\n",
       "| Aladin | 20     | 70     |\n",
       "| 자스민 | 19     | 85     |\n",
       "\n"
      ],
      "text/plain": [
       "  성명   나이 국어\n",
       "1 Aladin 20   70  \n",
       "2 자스민 19   85  "
      ]
     },
     "metadata": {},
     "output_type": "display_data"
    }
   ],
   "source": [
    "df[1, 1] <- \"Aladin\"   # 요인이 아니기 때문에 변경 가능\n",
    "df"
   ]
  },
  {
   "cell_type": "markdown",
   "metadata": {},
   "source": [
    "# 3.7. Reading Data File"
   ]
  },
  {
   "cell_type": "markdown",
   "metadata": {},
   "source": [
    "- datasets 패키지의 데이터 목록"
   ]
  },
  {
   "cell_type": "code",
   "execution_count": 28,
   "metadata": {},
   "outputs": [],
   "source": [
    "data(package = \"datasets\")"
   ]
  },
  {
   "cell_type": "code",
   "execution_count": 31,
   "metadata": {},
   "outputs": [
    {
     "data": {
      "text/html": [
       "<table>\n",
       "<thead><tr><th scope=col>lat</th><th scope=col>long</th><th scope=col>depth</th><th scope=col>mag</th><th scope=col>stations</th></tr></thead>\n",
       "<tbody>\n",
       "\t<tr><td>-20.42</td><td>181.62</td><td>562   </td><td>4.8   </td><td>41    </td></tr>\n",
       "\t<tr><td>-20.62</td><td>181.03</td><td>650   </td><td>4.2   </td><td>15    </td></tr>\n",
       "\t<tr><td>-26.00</td><td>184.10</td><td> 42   </td><td>5.4   </td><td>43    </td></tr>\n",
       "\t<tr><td>-17.97</td><td>181.66</td><td>626   </td><td>4.1   </td><td>19    </td></tr>\n",
       "\t<tr><td>-20.42</td><td>181.96</td><td>649   </td><td>4.0   </td><td>11    </td></tr>\n",
       "\t<tr><td>-19.68</td><td>184.31</td><td>195   </td><td>4.0   </td><td>12    </td></tr>\n",
       "</tbody>\n",
       "</table>\n"
      ],
      "text/latex": [
       "\\begin{tabular}{r|lllll}\n",
       " lat & long & depth & mag & stations\\\\\n",
       "\\hline\n",
       "\t -20.42 & 181.62 & 562    & 4.8    & 41    \\\\\n",
       "\t -20.62 & 181.03 & 650    & 4.2    & 15    \\\\\n",
       "\t -26.00 & 184.10 &  42    & 5.4    & 43    \\\\\n",
       "\t -17.97 & 181.66 & 626    & 4.1    & 19    \\\\\n",
       "\t -20.42 & 181.96 & 649    & 4.0    & 11    \\\\\n",
       "\t -19.68 & 184.31 & 195    & 4.0    & 12    \\\\\n",
       "\\end{tabular}\n"
      ],
      "text/markdown": [
       "\n",
       "| lat | long | depth | mag | stations |\n",
       "|---|---|---|---|---|\n",
       "| -20.42 | 181.62 | 562    | 4.8    | 41     |\n",
       "| -20.62 | 181.03 | 650    | 4.2    | 15     |\n",
       "| -26.00 | 184.10 |  42    | 5.4    | 43     |\n",
       "| -17.97 | 181.66 | 626    | 4.1    | 19     |\n",
       "| -20.42 | 181.96 | 649    | 4.0    | 11     |\n",
       "| -19.68 | 184.31 | 195    | 4.0    | 12     |\n",
       "\n"
      ],
      "text/plain": [
       "  lat    long   depth mag stations\n",
       "1 -20.42 181.62 562   4.8 41      \n",
       "2 -20.62 181.03 650   4.2 15      \n",
       "3 -26.00 184.10  42   5.4 43      \n",
       "4 -17.97 181.66 626   4.1 19      \n",
       "5 -20.42 181.96 649   4.0 11      \n",
       "6 -19.68 184.31 195   4.0 12      "
      ]
     },
     "metadata": {},
     "output_type": "display_data"
    }
   ],
   "source": [
    "head(quakes)  # 맨 앞 6줄(default) 출력"
   ]
  },
  {
   "cell_type": "code",
   "execution_count": 32,
   "metadata": {},
   "outputs": [
    {
     "data": {
      "text/html": [
       "<table>\n",
       "<thead><tr><th></th><th scope=col>lat</th><th scope=col>long</th><th scope=col>depth</th><th scope=col>mag</th><th scope=col>stations</th></tr></thead>\n",
       "<tbody>\n",
       "\t<tr><th scope=row>991</th><td>-20.73</td><td>181.42</td><td>575   </td><td>4.3   </td><td> 18   </td></tr>\n",
       "\t<tr><th scope=row>992</th><td>-15.45</td><td>181.42</td><td>409   </td><td>4.3   </td><td> 27   </td></tr>\n",
       "\t<tr><th scope=row>993</th><td>-20.05</td><td>183.86</td><td>243   </td><td>4.9   </td><td> 65   </td></tr>\n",
       "\t<tr><th scope=row>994</th><td>-17.95</td><td>181.37</td><td>642   </td><td>4.0   </td><td> 17   </td></tr>\n",
       "\t<tr><th scope=row>995</th><td>-17.70</td><td>188.10</td><td> 45   </td><td>4.2   </td><td> 10   </td></tr>\n",
       "\t<tr><th scope=row>996</th><td>-25.93</td><td>179.54</td><td>470   </td><td>4.4   </td><td> 22   </td></tr>\n",
       "\t<tr><th scope=row>997</th><td>-12.28</td><td>167.06</td><td>248   </td><td>4.7   </td><td> 35   </td></tr>\n",
       "\t<tr><th scope=row>998</th><td>-20.13</td><td>184.20</td><td>244   </td><td>4.5   </td><td> 34   </td></tr>\n",
       "\t<tr><th scope=row>999</th><td>-17.40</td><td>187.80</td><td> 40   </td><td>4.5   </td><td> 14   </td></tr>\n",
       "\t<tr><th scope=row>1000</th><td>-21.59</td><td>170.56</td><td>165   </td><td>6.0   </td><td>119   </td></tr>\n",
       "</tbody>\n",
       "</table>\n"
      ],
      "text/latex": [
       "\\begin{tabular}{r|lllll}\n",
       "  & lat & long & depth & mag & stations\\\\\n",
       "\\hline\n",
       "\t991 & -20.73 & 181.42 & 575    & 4.3    &  18   \\\\\n",
       "\t992 & -15.45 & 181.42 & 409    & 4.3    &  27   \\\\\n",
       "\t993 & -20.05 & 183.86 & 243    & 4.9    &  65   \\\\\n",
       "\t994 & -17.95 & 181.37 & 642    & 4.0    &  17   \\\\\n",
       "\t995 & -17.70 & 188.10 &  45    & 4.2    &  10   \\\\\n",
       "\t996 & -25.93 & 179.54 & 470    & 4.4    &  22   \\\\\n",
       "\t997 & -12.28 & 167.06 & 248    & 4.7    &  35   \\\\\n",
       "\t998 & -20.13 & 184.20 & 244    & 4.5    &  34   \\\\\n",
       "\t999 & -17.40 & 187.80 &  40    & 4.5    &  14   \\\\\n",
       "\t1000 & -21.59 & 170.56 & 165    & 6.0    & 119   \\\\\n",
       "\\end{tabular}\n"
      ],
      "text/markdown": [
       "\n",
       "| <!--/--> | lat | long | depth | mag | stations |\n",
       "|---|---|---|---|---|---|\n",
       "| 991 | -20.73 | 181.42 | 575    | 4.3    |  18    |\n",
       "| 992 | -15.45 | 181.42 | 409    | 4.3    |  27    |\n",
       "| 993 | -20.05 | 183.86 | 243    | 4.9    |  65    |\n",
       "| 994 | -17.95 | 181.37 | 642    | 4.0    |  17    |\n",
       "| 995 | -17.70 | 188.10 |  45    | 4.2    |  10    |\n",
       "| 996 | -25.93 | 179.54 | 470    | 4.4    |  22    |\n",
       "| 997 | -12.28 | 167.06 | 248    | 4.7    |  35    |\n",
       "| 998 | -20.13 | 184.20 | 244    | 4.5    |  34    |\n",
       "| 999 | -17.40 | 187.80 |  40    | 4.5    |  14    |\n",
       "| 1000 | -21.59 | 170.56 | 165    | 6.0    | 119    |\n",
       "\n"
      ],
      "text/plain": [
       "     lat    long   depth mag stations\n",
       "991  -20.73 181.42 575   4.3  18     \n",
       "992  -15.45 181.42 409   4.3  27     \n",
       "993  -20.05 183.86 243   4.9  65     \n",
       "994  -17.95 181.37 642   4.0  17     \n",
       "995  -17.70 188.10  45   4.2  10     \n",
       "996  -25.93 179.54 470   4.4  22     \n",
       "997  -12.28 167.06 248   4.7  35     \n",
       "998  -20.13 184.20 244   4.5  34     \n",
       "999  -17.40 187.80  40   4.5  14     \n",
       "1000 -21.59 170.56 165   6.0 119     "
      ]
     },
     "metadata": {},
     "output_type": "display_data"
    }
   ],
   "source": [
    "tail(quakes, n=10)   # 맨 뒤 10줄 출력"
   ]
  },
  {
   "cell_type": "code",
   "execution_count": 33,
   "metadata": {},
   "outputs": [
    {
     "name": "stdout",
     "output_type": "stream",
     "text": [
      "'data.frame':\t1000 obs. of  5 variables:\n",
      " $ lat     : num  -20.4 -20.6 -26 -18 -20.4 ...\n",
      " $ long    : num  182 181 184 182 182 ...\n",
      " $ depth   : int  562 650 42 626 649 195 82 194 211 622 ...\n",
      " $ mag     : num  4.8 4.2 5.4 4.1 4 4 4.8 4.4 4.7 4.3 ...\n",
      " $ stations: int  41 15 43 19 11 12 43 15 35 19 ...\n"
     ]
    }
   ],
   "source": [
    "str(quakes)   # quakes 데이터셋 구조 출력"
   ]
  },
  {
   "cell_type": "code",
   "execution_count": 35,
   "metadata": {},
   "outputs": [
    {
     "data": {
      "text/plain": [
       "      lat              long           depth            mag      \n",
       " Min.   :-38.59   Min.   :165.7   Min.   : 40.0   Min.   :4.00  \n",
       " 1st Qu.:-23.47   1st Qu.:179.6   1st Qu.: 99.0   1st Qu.:4.30  \n",
       " Median :-20.30   Median :181.4   Median :247.0   Median :4.60  \n",
       " Mean   :-20.64   Mean   :179.5   Mean   :311.4   Mean   :4.62  \n",
       " 3rd Qu.:-17.64   3rd Qu.:183.2   3rd Qu.:543.0   3rd Qu.:4.90  \n",
       " Max.   :-10.72   Max.   :188.1   Max.   :680.0   Max.   :6.40  \n",
       "    stations     \n",
       " Min.   : 10.00  \n",
       " 1st Qu.: 18.00  \n",
       " Median : 27.00  \n",
       " Mean   : 33.42  \n",
       " 3rd Qu.: 42.00  \n",
       " Max.   :132.00  "
      ]
     },
     "metadata": {},
     "output_type": "display_data"
    }
   ],
   "source": [
    "summary(quakes)   # 데이터셋의 column별 통계 정보 출력"
   ]
  },
  {
   "cell_type": "code",
   "execution_count": 36,
   "metadata": {},
   "outputs": [
    {
     "data": {
      "text/html": [
       "<ol class=list-inline>\n",
       "\t<li>1000</li>\n",
       "\t<li>5</li>\n",
       "</ol>\n"
      ],
      "text/latex": [
       "\\begin{enumerate*}\n",
       "\\item 1000\n",
       "\\item 5\n",
       "\\end{enumerate*}\n"
      ],
      "text/markdown": [
       "1. 1000\n",
       "2. 5\n",
       "\n",
       "\n"
      ],
      "text/plain": [
       "[1] 1000    5"
      ]
     },
     "metadata": {},
     "output_type": "display_data"
    }
   ],
   "source": [
    "dim(quakes)   # 데이터셋의 행과 열 수"
   ]
  },
  {
   "cell_type": "code",
   "execution_count": 37,
   "metadata": {},
   "outputs": [
    {
     "data": {
      "text/html": [
       "<ol class=list-inline>\n",
       "\t<li>'lat'</li>\n",
       "\t<li>'long'</li>\n",
       "\t<li>'depth'</li>\n",
       "\t<li>'mag'</li>\n",
       "\t<li>'stations'</li>\n",
       "</ol>\n"
      ],
      "text/latex": [
       "\\begin{enumerate*}\n",
       "\\item 'lat'\n",
       "\\item 'long'\n",
       "\\item 'depth'\n",
       "\\item 'mag'\n",
       "\\item 'stations'\n",
       "\\end{enumerate*}\n"
      ],
      "text/markdown": [
       "1. 'lat'\n",
       "2. 'long'\n",
       "3. 'depth'\n",
       "4. 'mag'\n",
       "5. 'stations'\n",
       "\n",
       "\n"
      ],
      "text/plain": [
       "[1] \"lat\"      \"long\"     \"depth\"    \"mag\"      \"stations\""
      ]
     },
     "metadata": {},
     "output_type": "display_data"
    }
   ],
   "source": [
    "names(quakes)  # 데이터셋을 구성하는 열 이름"
   ]
  },
  {
   "cell_type": "markdown",
   "metadata": {},
   "source": [
    "- 데이터셋 저장하고 파일 읽기"
   ]
  },
  {
   "cell_type": "code",
   "execution_count": 39,
   "metadata": {},
   "outputs": [
    {
     "data": {
      "text/html": [
       "<table>\n",
       "<thead><tr><th scope=col>lat</th><th scope=col>long</th><th scope=col>depth</th><th scope=col>mag</th><th scope=col>stations</th></tr></thead>\n",
       "<tbody>\n",
       "\t<tr><td>-20.42</td><td>181.62</td><td>562   </td><td>4.8   </td><td>41    </td></tr>\n",
       "\t<tr><td>-20.62</td><td>181.03</td><td>650   </td><td>4.2   </td><td>15    </td></tr>\n",
       "\t<tr><td>-26.00</td><td>184.10</td><td> 42   </td><td>5.4   </td><td>43    </td></tr>\n",
       "\t<tr><td>-17.97</td><td>181.66</td><td>626   </td><td>4.1   </td><td>19    </td></tr>\n",
       "\t<tr><td>-20.42</td><td>181.96</td><td>649   </td><td>4.0   </td><td>11    </td></tr>\n",
       "\t<tr><td>-19.68</td><td>184.31</td><td>195   </td><td>4.0   </td><td>12    </td></tr>\n",
       "</tbody>\n",
       "</table>\n"
      ],
      "text/latex": [
       "\\begin{tabular}{r|lllll}\n",
       " lat & long & depth & mag & stations\\\\\n",
       "\\hline\n",
       "\t -20.42 & 181.62 & 562    & 4.8    & 41    \\\\\n",
       "\t -20.62 & 181.03 & 650    & 4.2    & 15    \\\\\n",
       "\t -26.00 & 184.10 &  42    & 5.4    & 43    \\\\\n",
       "\t -17.97 & 181.66 & 626    & 4.1    & 19    \\\\\n",
       "\t -20.42 & 181.96 & 649    & 4.0    & 11    \\\\\n",
       "\t -19.68 & 184.31 & 195    & 4.0    & 12    \\\\\n",
       "\\end{tabular}\n"
      ],
      "text/markdown": [
       "\n",
       "| lat | long | depth | mag | stations |\n",
       "|---|---|---|---|---|\n",
       "| -20.42 | 181.62 | 562    | 4.8    | 41     |\n",
       "| -20.62 | 181.03 | 650    | 4.2    | 15     |\n",
       "| -26.00 | 184.10 |  42    | 5.4    | 43     |\n",
       "| -17.97 | 181.66 | 626    | 4.1    | 19     |\n",
       "| -20.42 | 181.96 | 649    | 4.0    | 11     |\n",
       "| -19.68 | 184.31 | 195    | 4.0    | 12     |\n",
       "\n"
      ],
      "text/plain": [
       "  lat    long   depth mag stations\n",
       "1 -20.42 181.62 562   4.8 41      \n",
       "2 -20.62 181.03 650   4.2 15      \n",
       "3 -26.00 184.10  42   5.4 43      \n",
       "4 -17.97 181.66 626   4.1 19      \n",
       "5 -20.42 181.96 649   4.0 11      \n",
       "6 -19.68 184.31 195   4.0 12      "
      ]
     },
     "metadata": {},
     "output_type": "display_data"
    }
   ],
   "source": [
    "write.table(quakes, \"c:/R/quakes.csv\", sep=\",\")\n",
    "df <- read.csv(\"c:/R/quakes.csv\", header=T)  # 첫 행을 항목명으로 인식\n",
    "head(df)"
   ]
  },
  {
   "cell_type": "markdown",
   "metadata": {},
   "source": [
    "- rdata로 저장하기"
   ]
  },
  {
   "cell_type": "code",
   "execution_count": 44,
   "metadata": {},
   "outputs": [
    {
     "data": {
      "text/html": [
       "<table>\n",
       "<thead><tr><th scope=col>성명</th><th scope=col>나이</th><th scope=col>국어</th></tr></thead>\n",
       "<tbody>\n",
       "\t<tr><td>알라딘</td><td>20    </td><td>70    </td></tr>\n",
       "\t<tr><td>자스민</td><td>19    </td><td>85    </td></tr>\n",
       "</tbody>\n",
       "</table>\n"
      ],
      "text/latex": [
       "\\begin{tabular}{r|lll}\n",
       " 성명 & 나이 & 국어\\\\\n",
       "\\hline\n",
       "\t 알라딘 & 20     & 70    \\\\\n",
       "\t 자스민 & 19     & 85    \\\\\n",
       "\\end{tabular}\n"
      ],
      "text/markdown": [
       "\n",
       "| 성명 | 나이 | 국어 |\n",
       "|---|---|---|\n",
       "| 알라딘 | 20     | 70     |\n",
       "| 자스민 | 19     | 85     |\n",
       "\n"
      ],
      "text/plain": [
       "  성명   나이 국어\n",
       "1 알라딘 20   70  \n",
       "2 자스민 19   85  "
      ]
     },
     "metadata": {},
     "output_type": "display_data"
    }
   ],
   "source": [
    "df <- data.frame(성명=c(\"알라딘\", \"자스민\"), 나이=c(20, 19), 국어=c(70, 85))\n",
    "df"
   ]
  },
  {
   "cell_type": "code",
   "execution_count": 45,
   "metadata": {},
   "outputs": [],
   "source": [
    "save(df, file = \"c:/R/df.rdata\")"
   ]
  },
  {
   "cell_type": "code",
   "execution_count": 46,
   "metadata": {},
   "outputs": [],
   "source": [
    "rm(df)"
   ]
  },
  {
   "cell_type": "code",
   "execution_count": 48,
   "metadata": {},
   "outputs": [
    {
     "data": {
      "text/html": [
       "<table>\n",
       "<thead><tr><th scope=col>성명</th><th scope=col>나이</th><th scope=col>국어</th></tr></thead>\n",
       "<tbody>\n",
       "\t<tr><td>알라딘</td><td>20    </td><td>70    </td></tr>\n",
       "\t<tr><td>자스민</td><td>19    </td><td>85    </td></tr>\n",
       "</tbody>\n",
       "</table>\n"
      ],
      "text/latex": [
       "\\begin{tabular}{r|lll}\n",
       " 성명 & 나이 & 국어\\\\\n",
       "\\hline\n",
       "\t 알라딘 & 20     & 70    \\\\\n",
       "\t 자스민 & 19     & 85    \\\\\n",
       "\\end{tabular}\n"
      ],
      "text/markdown": [
       "\n",
       "| 성명 | 나이 | 국어 |\n",
       "|---|---|---|\n",
       "| 알라딘 | 20     | 70     |\n",
       "| 자스민 | 19     | 85     |\n",
       "\n"
      ],
      "text/plain": [
       "  성명   나이 국어\n",
       "1 알라딘 20   70  \n",
       "2 자스민 19   85  "
      ]
     },
     "metadata": {},
     "output_type": "display_data"
    }
   ],
   "source": [
    "load(\"c:/R/df.rdata\")\n",
    "df"
   ]
  },
  {
   "cell_type": "markdown",
   "metadata": {},
   "source": [
    "# 3.8. Function"
   ]
  },
  {
   "cell_type": "code",
   "execution_count": 49,
   "metadata": {},
   "outputs": [
    {
     "data": {
      "text/html": [
       "10"
      ],
      "text/latex": [
       "10"
      ],
      "text/markdown": [
       "10"
      ],
      "text/plain": [
       "[1] 10"
      ]
     },
     "metadata": {},
     "output_type": "display_data"
    }
   ],
   "source": [
    "abs(-10)  # 절댓값"
   ]
  },
  {
   "cell_type": "code",
   "execution_count": 50,
   "metadata": {},
   "outputs": [
    {
     "data": {
      "text/html": [
       "5.5"
      ],
      "text/latex": [
       "5.5"
      ],
      "text/markdown": [
       "5.5"
      ],
      "text/plain": [
       "[1] 5.5"
      ]
     },
     "metadata": {},
     "output_type": "display_data"
    }
   ],
   "source": [
    "x <- 1:10\n",
    "mean(x)   # 평균"
   ]
  },
  {
   "cell_type": "code",
   "execution_count": 51,
   "metadata": {},
   "outputs": [
    {
     "data": {
      "text/html": [
       "3.02765035409749"
      ],
      "text/latex": [
       "3.02765035409749"
      ],
      "text/markdown": [
       "3.02765035409749"
      ],
      "text/plain": [
       "[1] 3.02765"
      ]
     },
     "metadata": {},
     "output_type": "display_data"
    }
   ],
   "source": [
    "sd(x)  # 표준편차"
   ]
  },
  {
   "cell_type": "code",
   "execution_count": 52,
   "metadata": {},
   "outputs": [
    {
     "data": {
      "text/html": [
       "10"
      ],
      "text/latex": [
       "10"
      ],
      "text/markdown": [
       "10"
      ],
      "text/plain": [
       "[1] 10"
      ]
     },
     "metadata": {},
     "output_type": "display_data"
    }
   ],
   "source": [
    "sqrt(100)   # 제곱근"
   ]
  },
  {
   "cell_type": "code",
   "execution_count": 53,
   "metadata": {},
   "outputs": [
    {
     "data": {
      "text/html": [
       "<ol class=list-inline>\n",
       "\t<li>1</li>\n",
       "\t<li>2</li>\n",
       "\t<li>3</li>\n",
       "\t<li>4</li>\n",
       "\t<li>5</li>\n",
       "\t<li>6</li>\n",
       "\t<li>7</li>\n",
       "\t<li>8</li>\n",
       "\t<li>9</li>\n",
       "\t<li>10</li>\n",
       "</ol>\n"
      ],
      "text/latex": [
       "\\begin{enumerate*}\n",
       "\\item 1\n",
       "\\item 2\n",
       "\\item 3\n",
       "\\item 4\n",
       "\\item 5\n",
       "\\item 6\n",
       "\\item 7\n",
       "\\item 8\n",
       "\\item 9\n",
       "\\item 10\n",
       "\\end{enumerate*}\n"
      ],
      "text/markdown": [
       "1. 1\n",
       "2. 2\n",
       "3. 3\n",
       "4. 4\n",
       "5. 5\n",
       "6. 6\n",
       "7. 7\n",
       "8. 8\n",
       "9. 9\n",
       "10. 10\n",
       "\n",
       "\n"
      ],
      "text/plain": [
       " [1]  1  2  3  4  5  6  7  8  9 10"
      ]
     },
     "metadata": {},
     "output_type": "display_data"
    }
   ],
   "source": [
    "x"
   ]
  },
  {
   "cell_type": "code",
   "execution_count": 54,
   "metadata": {},
   "outputs": [
    {
     "data": {
      "text/html": [
       "55"
      ],
      "text/latex": [
       "55"
      ],
      "text/markdown": [
       "55"
      ],
      "text/plain": [
       "[1] 55"
      ]
     },
     "metadata": {},
     "output_type": "display_data"
    }
   ],
   "source": [
    "sum(x)  # 합"
   ]
  },
  {
   "cell_type": "code",
   "execution_count": 55,
   "metadata": {},
   "outputs": [
    {
     "data": {
      "text/html": [
       "9.16666666666667"
      ],
      "text/latex": [
       "9.16666666666667"
      ],
      "text/markdown": [
       "9.16666666666667"
      ],
      "text/plain": [
       "[1] 9.166667"
      ]
     },
     "metadata": {},
     "output_type": "display_data"
    }
   ],
   "source": [
    "var(x)  # 분산"
   ]
  },
  {
   "cell_type": "markdown",
   "metadata": {},
   "source": [
    "- define a function"
   ]
  },
  {
   "cell_type": "code",
   "execution_count": 56,
   "metadata": {},
   "outputs": [],
   "source": [
    "getTriangleArea <- function(w, h){\n",
    "    area <- w * h / 2\n",
    "    return(area)\n",
    "}"
   ]
  },
  {
   "cell_type": "code",
   "execution_count": 57,
   "metadata": {},
   "outputs": [
    {
     "data": {
      "text/html": [
       "25"
      ],
      "text/latex": [
       "25"
      ],
      "text/markdown": [
       "25"
      ],
      "text/plain": [
       "[1] 25"
      ]
     },
     "metadata": {},
     "output_type": "display_data"
    }
   ],
   "source": [
    "getTriangleArea(10, 5)"
   ]
  },
  {
   "cell_type": "markdown",
   "metadata": {},
   "source": [
    "# Practice"
   ]
  },
  {
   "cell_type": "markdown",
   "metadata": {},
   "source": [
    "1. 교재 71페이지 자료(시도명과 초미세먼지농도) R에 저장"
   ]
  },
  {
   "cell_type": "code",
   "execution_count": 86,
   "metadata": {},
   "outputs": [
    {
     "data": {
      "text/html": [
       "<table>\n",
       "<thead><tr><th scope=col>시도명</th><th scope=col>초미세먼지농도</th></tr></thead>\n",
       "<tbody>\n",
       "\t<tr><td>서울</td><td>18  </td></tr>\n",
       "\t<tr><td>부산</td><td>21  </td></tr>\n",
       "\t<tr><td>대구</td><td>21  </td></tr>\n",
       "\t<tr><td>인천</td><td>17  </td></tr>\n",
       "\t<tr><td>광주</td><td> 8  </td></tr>\n",
       "\t<tr><td>대전</td><td>11  </td></tr>\n",
       "\t<tr><td>울산</td><td>25  </td></tr>\n",
       "</tbody>\n",
       "</table>\n"
      ],
      "text/latex": [
       "\\begin{tabular}{r|ll}\n",
       " 시도명 & 초미세먼지농도\\\\\n",
       "\\hline\n",
       "\t 서울 & 18  \\\\\n",
       "\t 부산 & 21  \\\\\n",
       "\t 대구 & 21  \\\\\n",
       "\t 인천 & 17  \\\\\n",
       "\t 광주 &  8  \\\\\n",
       "\t 대전 & 11  \\\\\n",
       "\t 울산 & 25  \\\\\n",
       "\\end{tabular}\n"
      ],
      "text/markdown": [
       "\n",
       "| 시도명 | 초미세먼지농도 |\n",
       "|---|---|\n",
       "| 서울 | 18   |\n",
       "| 부산 | 21   |\n",
       "| 대구 | 21   |\n",
       "| 인천 | 17   |\n",
       "| 광주 |  8   |\n",
       "| 대전 | 11   |\n",
       "| 울산 | 25   |\n",
       "\n"
      ],
      "text/plain": [
       "  시도명 초미세먼지농도\n",
       "1 서울   18            \n",
       "2 부산   21            \n",
       "3 대구   21            \n",
       "4 인천   17            \n",
       "5 광주    8            \n",
       "6 대전   11            \n",
       "7 울산   25            "
      ]
     },
     "metadata": {},
     "output_type": "display_data"
    }
   ],
   "source": [
    "city <- c(\"서울\", \"부산\", \"대구\", \"인천\", \"광주\", \"대전\", \"울산\")\n",
    "pm25 <- c(18, 21, 21, 17, 8, 11, 25)\n",
    "\n",
    "df_pm <- data.frame(시도명=city, 초미세먼지농도=pm25)\n",
    "df_pm"
   ]
  },
  {
   "cell_type": "markdown",
   "metadata": {},
   "source": [
    "2. 1의 자료를 확장자 Rdata로 내보내기"
   ]
  },
  {
   "cell_type": "code",
   "execution_count": 87,
   "metadata": {},
   "outputs": [],
   "source": [
    "save(df_pm, file = \"c:/R/pm25.rdata\")  # 데이터 저장"
   ]
  },
  {
   "cell_type": "code",
   "execution_count": 88,
   "metadata": {},
   "outputs": [],
   "source": [
    "rm(list=ls())    # 모든 변수 삭제"
   ]
  },
  {
   "cell_type": "code",
   "execution_count": 89,
   "metadata": {},
   "outputs": [
    {
     "data": {
      "text/html": [],
      "text/latex": [],
      "text/markdown": [],
      "text/plain": [
       "character(0)"
      ]
     },
     "metadata": {},
     "output_type": "display_data"
    }
   ],
   "source": [
    "ls()"
   ]
  },
  {
   "cell_type": "code",
   "execution_count": 90,
   "metadata": {},
   "outputs": [],
   "source": [
    "load(\"c:/R/pm25.rdata\")   # 데이터 불러오기"
   ]
  },
  {
   "cell_type": "code",
   "execution_count": 91,
   "metadata": {},
   "outputs": [
    {
     "data": {
      "text/html": [
       "'df_pm'"
      ],
      "text/latex": [
       "'df\\_pm'"
      ],
      "text/markdown": [
       "'df_pm'"
      ],
      "text/plain": [
       "[1] \"df_pm\""
      ]
     },
     "metadata": {},
     "output_type": "display_data"
    }
   ],
   "source": [
    "ls()"
   ]
  },
  {
   "cell_type": "code",
   "execution_count": 93,
   "metadata": {},
   "outputs": [
    {
     "data": {
      "text/html": [
       "<table>\n",
       "<thead><tr><th scope=col>시도명</th><th scope=col>초미세먼지농도</th></tr></thead>\n",
       "<tbody>\n",
       "\t<tr><td>서울</td><td>18  </td></tr>\n",
       "\t<tr><td>부산</td><td>21  </td></tr>\n",
       "\t<tr><td>대구</td><td>21  </td></tr>\n",
       "\t<tr><td>인천</td><td>17  </td></tr>\n",
       "\t<tr><td>광주</td><td> 8  </td></tr>\n",
       "\t<tr><td>대전</td><td>11  </td></tr>\n",
       "\t<tr><td>울산</td><td>25  </td></tr>\n",
       "</tbody>\n",
       "</table>\n"
      ],
      "text/latex": [
       "\\begin{tabular}{r|ll}\n",
       " 시도명 & 초미세먼지농도\\\\\n",
       "\\hline\n",
       "\t 서울 & 18  \\\\\n",
       "\t 부산 & 21  \\\\\n",
       "\t 대구 & 21  \\\\\n",
       "\t 인천 & 17  \\\\\n",
       "\t 광주 &  8  \\\\\n",
       "\t 대전 & 11  \\\\\n",
       "\t 울산 & 25  \\\\\n",
       "\\end{tabular}\n"
      ],
      "text/markdown": [
       "\n",
       "| 시도명 | 초미세먼지농도 |\n",
       "|---|---|\n",
       "| 서울 | 18   |\n",
       "| 부산 | 21   |\n",
       "| 대구 | 21   |\n",
       "| 인천 | 17   |\n",
       "| 광주 |  8   |\n",
       "| 대전 | 11   |\n",
       "| 울산 | 25   |\n",
       "\n"
      ],
      "text/plain": [
       "  시도명 초미세먼지농도\n",
       "1 서울   18            \n",
       "2 부산   21            \n",
       "3 대구   21            \n",
       "4 인천   17            \n",
       "5 광주    8            \n",
       "6 대전   11            \n",
       "7 울산   25            "
      ]
     },
     "metadata": {},
     "output_type": "display_data"
    }
   ],
   "source": [
    "df_pm"
   ]
  },
  {
   "cell_type": "markdown",
   "metadata": {},
   "source": [
    "3. 1의 자료를 확장자 csv로 내보내기"
   ]
  },
  {
   "cell_type": "code",
   "execution_count": 94,
   "metadata": {},
   "outputs": [],
   "source": [
    "write.table(df_pm, \"c:/R/df_pm.csv\", sep=\",\")"
   ]
  },
  {
   "cell_type": "code",
   "execution_count": 96,
   "metadata": {},
   "outputs": [
    {
     "data": {
      "text/html": [
       "<table>\n",
       "<thead><tr><th scope=col>시도명</th><th scope=col>초미세먼지농도</th></tr></thead>\n",
       "<tbody>\n",
       "\t<tr><td>서울</td><td>18  </td></tr>\n",
       "\t<tr><td>부산</td><td>21  </td></tr>\n",
       "\t<tr><td>대구</td><td>21  </td></tr>\n",
       "\t<tr><td>인천</td><td>17  </td></tr>\n",
       "\t<tr><td>광주</td><td> 8  </td></tr>\n",
       "\t<tr><td>대전</td><td>11  </td></tr>\n",
       "\t<tr><td>울산</td><td>25  </td></tr>\n",
       "</tbody>\n",
       "</table>\n"
      ],
      "text/latex": [
       "\\begin{tabular}{r|ll}\n",
       " 시도명 & 초미세먼지농도\\\\\n",
       "\\hline\n",
       "\t 서울 & 18  \\\\\n",
       "\t 부산 & 21  \\\\\n",
       "\t 대구 & 21  \\\\\n",
       "\t 인천 & 17  \\\\\n",
       "\t 광주 &  8  \\\\\n",
       "\t 대전 & 11  \\\\\n",
       "\t 울산 & 25  \\\\\n",
       "\\end{tabular}\n"
      ],
      "text/markdown": [
       "\n",
       "| 시도명 | 초미세먼지농도 |\n",
       "|---|---|\n",
       "| 서울 | 18   |\n",
       "| 부산 | 21   |\n",
       "| 대구 | 21   |\n",
       "| 인천 | 17   |\n",
       "| 광주 |  8   |\n",
       "| 대전 | 11   |\n",
       "| 울산 | 25   |\n",
       "\n"
      ],
      "text/plain": [
       "  시도명 초미세먼지농도\n",
       "1 서울   18            \n",
       "2 부산   21            \n",
       "3 대구   21            \n",
       "4 인천   17            \n",
       "5 광주    8            \n",
       "6 대전   11            \n",
       "7 울산   25            "
      ]
     },
     "metadata": {},
     "output_type": "display_data"
    }
   ],
   "source": [
    "df <- read.csv(\"c:/R/df_pm.csv\", header=T)\n",
    "df"
   ]
  },
  {
   "cell_type": "markdown",
   "metadata": {},
   "source": [
    "4. 원의 넓이 함수 만들기"
   ]
  },
  {
   "cell_type": "code",
   "execution_count": 100,
   "metadata": {},
   "outputs": [],
   "source": [
    "getCircleArea <- function(r){\n",
    "    area <- 3.14 * (r^2)\n",
    "    return(area)\n",
    "}"
   ]
  },
  {
   "cell_type": "code",
   "execution_count": 101,
   "metadata": {},
   "outputs": [
    {
     "data": {
      "text/html": [
       "78.5"
      ],
      "text/latex": [
       "78.5"
      ],
      "text/markdown": [
       "78.5"
      ],
      "text/plain": [
       "[1] 78.5"
      ]
     },
     "metadata": {},
     "output_type": "display_data"
    }
   ],
   "source": [
    "getCircleArea(5)"
   ]
  }
 ],
 "metadata": {
  "kernelspec": {
   "display_name": "R",
   "language": "R",
   "name": "ir"
  },
  "language_info": {
   "codemirror_mode": "r",
   "file_extension": ".r",
   "mimetype": "text/x-r-source",
   "name": "R",
   "pygments_lexer": "r",
   "version": "3.6.1"
  }
 },
 "nbformat": 4,
 "nbformat_minor": 2
}

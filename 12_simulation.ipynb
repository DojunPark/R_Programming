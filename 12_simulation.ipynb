{
 "cells": [
  {
   "cell_type": "markdown",
   "metadata": {},
   "source": [
    "# 12.2 표본추출과 난수"
   ]
  },
  {
   "cell_type": "markdown",
   "metadata": {},
   "source": [
    "#### 표본추출"
   ]
  },
  {
   "cell_type": "markdown",
   "metadata": {},
   "source": [
    "- 표본 추출"
   ]
  },
  {
   "cell_type": "markdown",
   "metadata": {},
   "source": [
    "- 복원 추출"
   ]
  },
  {
   "cell_type": "code",
   "execution_count": 1,
   "metadata": {},
   "outputs": [
    {
     "name": "stdout",
     "output_type": "stream",
     "text": [
      "[1] 10  7  1  1  9\n",
      "[1] 10  5  7  4  6\n"
     ]
    }
   ],
   "source": [
    "print(sample(1:10, 5, replace=T))   # 복원추출\n",
    "print(sample(1:10, 5, replace=F))   # 비복원추출"
   ]
  },
  {
   "cell_type": "code",
   "execution_count": 4,
   "metadata": {},
   "outputs": [
    {
     "data": {
      "text/html": [
       "<ol class=list-inline>\n",
       "\t<li>'뒷면'</li>\n",
       "\t<li>'뒷면'</li>\n",
       "\t<li>'앞면'</li>\n",
       "\t<li>'앞면'</li>\n",
       "\t<li>'뒷면'</li>\n",
       "</ol>\n"
      ],
      "text/latex": [
       "\\begin{enumerate*}\n",
       "\\item '뒷면'\n",
       "\\item '뒷면'\n",
       "\\item '앞면'\n",
       "\\item '앞면'\n",
       "\\item '뒷면'\n",
       "\\end{enumerate*}\n"
      ],
      "text/markdown": [
       "1. '뒷면'\n",
       "2. '뒷면'\n",
       "3. '앞면'\n",
       "4. '앞면'\n",
       "5. '뒷면'\n",
       "\n",
       "\n"
      ],
      "text/plain": [
       "[1] \"뒷면\" \"뒷면\" \"앞면\" \"앞면\" \"뒷면\""
      ]
     },
     "metadata": {},
     "output_type": "display_data"
    }
   ],
   "source": [
    "sample(c('앞면', '뒷면'), 5, replace=T)  # 동전던지기 복원추출"
   ]
  },
  {
   "cell_type": "code",
   "execution_count": 6,
   "metadata": {},
   "outputs": [
    {
     "data": {
      "text/html": [
       "<ol class=list-inline>\n",
       "\t<li>0</li>\n",
       "\t<li>0</li>\n",
       "\t<li>0</li>\n",
       "\t<li>1</li>\n",
       "\t<li>0</li>\n",
       "</ol>\n"
      ],
      "text/latex": [
       "\\begin{enumerate*}\n",
       "\\item 0\n",
       "\\item 0\n",
       "\\item 0\n",
       "\\item 1\n",
       "\\item 0\n",
       "\\end{enumerate*}\n"
      ],
      "text/markdown": [
       "1. 0\n",
       "2. 0\n",
       "3. 0\n",
       "4. 1\n",
       "5. 0\n",
       "\n",
       "\n"
      ],
      "text/plain": [
       "[1] 0 0 0 1 0"
      ]
     },
     "metadata": {},
     "output_type": "display_data"
    }
   ],
   "source": [
    "sample(c(0, 1), 5, replace=T)  # 동전던지기(0=앞, 1=뒤)"
   ]
  },
  {
   "cell_type": "markdown",
   "metadata": {},
   "source": [
    "- 난수"
   ]
  },
  {
   "cell_type": "code",
   "execution_count": 8,
   "metadata": {},
   "outputs": [
    {
     "data": {
      "text/html": [
       "<ol class=list-inline>\n",
       "\t<li>0.0239496326539665</li>\n",
       "\t<li>0.517784836934879</li>\n",
       "\t<li>0.959011988947168</li>\n",
       "\t<li>0.767068566055968</li>\n",
       "\t<li>0.181921146344393</li>\n",
       "\t<li>0.131383698899299</li>\n",
       "\t<li>0.185737660387531</li>\n",
       "\t<li>0.955993059324101</li>\n",
       "\t<li>0.848761689616367</li>\n",
       "\t<li>0.491535517154261</li>\n",
       "</ol>\n"
      ],
      "text/latex": [
       "\\begin{enumerate*}\n",
       "\\item 0.0239496326539665\n",
       "\\item 0.517784836934879\n",
       "\\item 0.959011988947168\n",
       "\\item 0.767068566055968\n",
       "\\item 0.181921146344393\n",
       "\\item 0.131383698899299\n",
       "\\item 0.185737660387531\n",
       "\\item 0.955993059324101\n",
       "\\item 0.848761689616367\n",
       "\\item 0.491535517154261\n",
       "\\end{enumerate*}\n"
      ],
      "text/markdown": [
       "1. 0.0239496326539665\n",
       "2. 0.517784836934879\n",
       "3. 0.959011988947168\n",
       "4. 0.767068566055968\n",
       "5. 0.181921146344393\n",
       "6. 0.131383698899299\n",
       "7. 0.185737660387531\n",
       "8. 0.955993059324101\n",
       "9. 0.848761689616367\n",
       "10. 0.491535517154261\n",
       "\n",
       "\n"
      ],
      "text/plain": [
       " [1] 0.02394963 0.51778484 0.95901199 0.76706857 0.18192115 0.13138370\n",
       " [7] 0.18573766 0.95599306 0.84876169 0.49153552"
      ]
     },
     "metadata": {},
     "output_type": "display_data"
    }
   ],
   "source": [
    "runif(10, 0, 1)    # 0~1 중 10개의 난수"
   ]
  },
  {
   "cell_type": "code",
   "execution_count": 9,
   "metadata": {},
   "outputs": [
    {
     "data": {
      "text/html": [
       "<ol class=list-inline>\n",
       "\t<li>7</li>\n",
       "\t<li>6</li>\n",
       "\t<li>6</li>\n",
       "\t<li>10</li>\n",
       "\t<li>5</li>\n",
       "</ol>\n"
      ],
      "text/latex": [
       "\\begin{enumerate*}\n",
       "\\item 7\n",
       "\\item 6\n",
       "\\item 6\n",
       "\\item 10\n",
       "\\item 5\n",
       "\\end{enumerate*}\n"
      ],
      "text/markdown": [
       "1. 7\n",
       "2. 6\n",
       "3. 6\n",
       "4. 10\n",
       "5. 5\n",
       "\n",
       "\n"
      ],
      "text/plain": [
       "[1]  7  6  6 10  5"
      ]
     },
     "metadata": {},
     "output_type": "display_data"
    }
   ],
   "source": [
    "sample(1:10, 5, replace=T)  # 0~10 중 5개 정수 난수 (복원추출)"
   ]
  },
  {
   "cell_type": "markdown",
   "metadata": {},
   "source": [
    "# 12.3 동전 던지기"
   ]
  },
  {
   "cell_type": "markdown",
   "metadata": {},
   "source": [
    "- 그래프 초기화"
   ]
  },
  {
   "cell_type": "code",
   "execution_count": 10,
   "metadata": {},
   "outputs": [
    {
     "data": {
      "image/png": "[encoded data removed]",
      "text/plain": [
       "plot without title"
      ]
     },
     "metadata": {},
     "output_type": "display_data"
    }
   ],
   "source": [
    "iteration = 5000\n",
    "\n",
    "plot(0, 0, xlab='동전을 던진 회수', ylab='앞면이 나오는 비율',\n",
    "    xlim=c(0, iteration), ylim=c(0, 1))\n",
    "abline(a=0.5, b=0, col='red')"
   ]
  },
  {
   "cell_type": "markdown",
   "metadata": {},
   "source": [
    "- 실험 반복에 따른 확률의 변화"
   ]
  },
  {
   "cell_type": "code",
   "execution_count": 13,
   "metadata": {},
   "outputs": [
    {
     "data": {
      "image/png": "[encoded data removed]",
      "text/plain": [
       "plot without title"
      ]
     },
     "metadata": {},
     "output_type": "display_data"
    }
   ],
   "source": [
    "iteration <- 5000\n",
    "\n",
    "plot(0, 0, xlab='동전을 던진 회수', ylab='앞면이 나오는 비율',\n",
    "    xlim=c(0, iteration), ylim=c(0, 1))\n",
    "abline(a=0.5, b=0, col='red')\n",
    "\n",
    "sum <- 0\n",
    "\n",
    "for(x in 1:iteration){\n",
    "    \n",
    "    coin <- sample(c('앞면', '뒷면'), 1, replace=T)\n",
    "    \n",
    "    if(coin == '앞면')\n",
    "        sum = sum + 1\n",
    "    \n",
    "    prob <- sum / x\n",
    "    \n",
    "    points(x, prob)\n",
    "}"
   ]
  },
  {
   "cell_type": "markdown",
   "metadata": {},
   "source": [
    "- 복원 추출을 이용한 실험"
   ]
  },
  {
   "cell_type": "code",
   "execution_count": 23,
   "metadata": {},
   "outputs": [
    {
     "data": {
      "text/html": [
       "49.7"
      ],
      "text/latex": [
       "49.7"
      ],
      "text/markdown": [
       "49.7"
      ],
      "text/plain": [
       "[1] 49.7"
      ]
     },
     "metadata": {},
     "output_type": "display_data"
    }
   ],
   "source": [
    "iteration <- 5000\n",
    "x <- sample(c(0, 1), iteration, replace = T)\n",
    "round(sum(x)/iteration*100, 1)"
   ]
  },
  {
   "cell_type": "markdown",
   "metadata": {},
   "source": [
    "# 실습과제1. 주사위 던지기"
   ]
  },
  {
   "cell_type": "code",
   "execution_count": 36,
   "metadata": {},
   "outputs": [
    {
     "name": "stderr",
     "output_type": "stream",
     "text": [
      "확률: 0.18\n",
      "오차: 0.0133333333333333\n"
     ]
    },
    {
     "data": {
      "image/png": "[encoded data removed]",
      "text/plain": [
       "plot without title"
      ]
     },
     "metadata": {},
     "output_type": "display_data"
    }
   ],
   "source": [
    "iteration = 100\n",
    "\n",
    "plot(0, 0, xlab='실험 횟수', ylab='같은 수가 나오는 비율',\n",
    "    xlim=c(0, iteration), ylim=c(0, 1))\n",
    "abline(a=1/6, b=0, col='red')\n",
    "\n",
    "sum = 0\n",
    "\n",
    "for(x in 1:iteration){\n",
    "    \n",
    "    dice <- sample(1:6, 2, replace=T)\n",
    "    \n",
    "    if(dice[1] == dice[2])\n",
    "        sum <- sum + 1\n",
    "    \n",
    "    prob <- sum / x\n",
    "    \n",
    "    points(x, prob)\n",
    "    \n",
    "}\n",
    "message('확률: ', prob)\n",
    "message('오차: ', prob-(1/6))"
   ]
  }
 ],
 "metadata": {
  "kernelspec": {
   "display_name": "R",
   "language": "R",
   "name": "ir"
  },
  "language_info": {
   "codemirror_mode": "r",
   "file_extension": ".r",
   "mimetype": "text/x-r-source",
   "name": "R",
   "pygments_lexer": "r",
   "version": "3.6.1"
  }
 },
 "nbformat": 4,
 "nbformat_minor": 4
}

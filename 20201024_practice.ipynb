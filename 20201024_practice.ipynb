{
 "cells": [
  {
   "cell_type": "markdown",
   "metadata": {},
   "source": [
    "# 1. monthly number of infected"
   ]
  },
  {
   "cell_type": "code",
   "execution_count": 36,
   "metadata": {},
   "outputs": [
    {
     "data": {
      "text/html": [
       "<table>\n",
       "<thead><tr><th scope=col>癤퓅onth</th><th scope=col>infected</th></tr></thead>\n",
       "<tbody>\n",
       "\t<tr><td>jan </td><td>   7</td></tr>\n",
       "\t<tr><td>feb </td><td>  80</td></tr>\n",
       "\t<tr><td>mar </td><td> 389</td></tr>\n",
       "\t<tr><td>apr </td><td> 158</td></tr>\n",
       "\t<tr><td>may </td><td> 228</td></tr>\n",
       "\t<tr><td>jun </td><td> 460</td></tr>\n",
       "\t<tr><td>jul </td><td> 281</td></tr>\n",
       "\t<tr><td>aug </td><td>2408</td></tr>\n",
       "\t<tr><td>sep </td><td>1312</td></tr>\n",
       "\t<tr><td>oct </td><td> 445</td></tr>\n",
       "</tbody>\n",
       "</table>\n"
      ],
      "text/latex": [
       "\\begin{tabular}{r|ll}\n",
       " 癤퓅onth & infected\\\\\n",
       "\\hline\n",
       "\t jan  &    7\\\\\n",
       "\t feb  &   80\\\\\n",
       "\t mar  &  389\\\\\n",
       "\t apr  &  158\\\\\n",
       "\t may  &  228\\\\\n",
       "\t jun  &  460\\\\\n",
       "\t jul  &  281\\\\\n",
       "\t aug  & 2408\\\\\n",
       "\t sep  & 1312\\\\\n",
       "\t oct  &  445\\\\\n",
       "\\end{tabular}\n"
      ],
      "text/markdown": [
       "\n",
       "| 癤퓅onth | infected |\n",
       "|---|---|\n",
       "| jan  |    7 |\n",
       "| feb  |   80 |\n",
       "| mar  |  389 |\n",
       "| apr  |  158 |\n",
       "| may  |  228 |\n",
       "| jun  |  460 |\n",
       "| jul  |  281 |\n",
       "| aug  | 2408 |\n",
       "| sep  | 1312 |\n",
       "| oct  |  445 |\n",
       "\n"
      ],
      "text/plain": [
       "   癤퓅onth infected\n",
       "1  jan         7    \n",
       "2  feb        80    \n",
       "3  mar       389    \n",
       "4  apr       158    \n",
       "5  may       228    \n",
       "6  jun       460    \n",
       "7  jul       281    \n",
       "8  aug      2408    \n",
       "9  sep      1312    \n",
       "10 oct       445    "
      ]
     },
     "metadata": {},
     "output_type": "display_data"
    }
   ],
   "source": [
    "df_month <- read.csv(file.choose(), header=T)\n",
    "df_month"
   ]
  },
  {
   "cell_type": "markdown",
   "metadata": {},
   "source": [
    "- Rename the column"
   ]
  },
  {
   "cell_type": "code",
   "execution_count": 37,
   "metadata": {},
   "outputs": [
    {
     "data": {
      "text/html": [
       "<table>\n",
       "<thead><tr><th scope=col>month</th><th scope=col>infected</th></tr></thead>\n",
       "<tbody>\n",
       "\t<tr><td>jan </td><td>   7</td></tr>\n",
       "\t<tr><td>feb </td><td>  80</td></tr>\n",
       "\t<tr><td>mar </td><td> 389</td></tr>\n",
       "\t<tr><td>apr </td><td> 158</td></tr>\n",
       "\t<tr><td>may </td><td> 228</td></tr>\n",
       "\t<tr><td>jun </td><td> 460</td></tr>\n",
       "\t<tr><td>jul </td><td> 281</td></tr>\n",
       "\t<tr><td>aug </td><td>2408</td></tr>\n",
       "\t<tr><td>sep </td><td>1312</td></tr>\n",
       "\t<tr><td>oct </td><td> 445</td></tr>\n",
       "</tbody>\n",
       "</table>\n"
      ],
      "text/latex": [
       "\\begin{tabular}{r|ll}\n",
       " month & infected\\\\\n",
       "\\hline\n",
       "\t jan  &    7\\\\\n",
       "\t feb  &   80\\\\\n",
       "\t mar  &  389\\\\\n",
       "\t apr  &  158\\\\\n",
       "\t may  &  228\\\\\n",
       "\t jun  &  460\\\\\n",
       "\t jul  &  281\\\\\n",
       "\t aug  & 2408\\\\\n",
       "\t sep  & 1312\\\\\n",
       "\t oct  &  445\\\\\n",
       "\\end{tabular}\n"
      ],
      "text/markdown": [
       "\n",
       "| month | infected |\n",
       "|---|---|\n",
       "| jan  |    7 |\n",
       "| feb  |   80 |\n",
       "| mar  |  389 |\n",
       "| apr  |  158 |\n",
       "| may  |  228 |\n",
       "| jun  |  460 |\n",
       "| jul  |  281 |\n",
       "| aug  | 2408 |\n",
       "| sep  | 1312 |\n",
       "| oct  |  445 |\n",
       "\n"
      ],
      "text/plain": [
       "   month infected\n",
       "1  jan      7    \n",
       "2  feb     80    \n",
       "3  mar    389    \n",
       "4  apr    158    \n",
       "5  may    228    \n",
       "6  jun    460    \n",
       "7  jul    281    \n",
       "8  aug   2408    \n",
       "9  sep   1312    \n",
       "10 oct    445    "
      ]
     },
     "metadata": {},
     "output_type": "display_data"
    }
   ],
   "source": [
    "names(df_month)[1] <- 'month'\n",
    "df_month"
   ]
  },
  {
   "cell_type": "code",
   "execution_count": 38,
   "metadata": {},
   "outputs": [],
   "source": [
    "library(ggplot2)"
   ]
  },
  {
   "cell_type": "code",
   "execution_count": 39,
   "metadata": {},
   "outputs": [],
   "source": [
    "orderlist = c('jan', 'feb', 'mar', 'apr', 'may', 'jun', 'jul', 'aug', 'sep', 'oct') \n",
    "df_month <- transform(df_month, month = factor(month, levels = orderlist))"
   ]
  },
  {
   "cell_type": "code",
   "execution_count": 41,
   "metadata": {},
   "outputs": [
    {
     "data": {
      "image/png": "[encoded data removed]",
      "text/plain": [
       "plot without title"
      ]
     },
     "metadata": {},
     "output_type": "display_data"
    }
   ],
   "source": [
    "ggplot(data=df_month, aes(x=factor(month), y=infected, fill=rainbow(10))) + \n",
    "    geom_bar(stat='identity') + \n",
    "    labs(title='서울시 월별 감염자 수치', x='월', y='감염자 수') +\n",
    "    theme(axis.text.x=element_text(angle=0), legend.position='none', plot.title = element_text(hjust = 0.5))"
   ]
  },
  {
   "cell_type": "markdown",
   "metadata": {},
   "source": [
    "# 2. Overseas inflow cases"
   ]
  },
  {
   "cell_type": "code",
   "execution_count": 44,
   "metadata": {},
   "outputs": [
    {
     "data": {
      "text/html": [
       "<table>\n",
       "<thead><tr><th scope=col>癤풻ountry</th><th scope=col>inflow</th></tr></thead>\n",
       "<tbody>\n",
       "\t<tr><td>Nigeria     </td><td>  1         </td></tr>\n",
       "\t<tr><td>Netherlands </td><td>  1         </td></tr>\n",
       "\t<tr><td>Nepal       </td><td>  3         </td></tr>\n",
       "\t<tr><td>Germany     </td><td>  9         </td></tr>\n",
       "\t<tr><td>Russia      </td><td>  5         </td></tr>\n",
       "\t<tr><td>Malaysia    </td><td>  1         </td></tr>\n",
       "\t<tr><td>Mexico      </td><td> 11         </td></tr>\n",
       "\t<tr><td>Morocco     </td><td>  2         </td></tr>\n",
       "\t<tr><td>Malta       </td><td>  1         </td></tr>\n",
       "\t<tr><td>USA         </td><td>161         </td></tr>\n",
       "\t<tr><td>Bangladesh  </td><td>  3         </td></tr>\n",
       "\t<tr><td>Vietnam     </td><td>  3         </td></tr>\n",
       "\t<tr><td>Bolivia     </td><td>  2         </td></tr>\n",
       "\t<tr><td>Brazil      </td><td>  8         </td></tr>\n",
       "\t<tr><td>Saudi Arabia</td><td>  2         </td></tr>\n",
       "\t<tr><td>Spain       </td><td> 17         </td></tr>\n",
       "\t<tr><td>Singapore   </td><td>  1         </td></tr>\n",
       "\t<tr><td>UAE         </td><td>  5         </td></tr>\n",
       "\t<tr><td>Argentina   </td><td>  1         </td></tr>\n",
       "\t<tr><td>Ireland     </td><td>  2         </td></tr>\n",
       "\t<tr><td>Ecuador     </td><td>  2         </td></tr>\n",
       "\t<tr><td>Ethiopia    </td><td>  1         </td></tr>\n",
       "\t<tr><td>UK          </td><td> 51         </td></tr>\n",
       "\t<tr><td>Austria     </td><td>  3         </td></tr>\n",
       "\t<tr><td>Jordan      </td><td>  1         </td></tr>\n",
       "\t<tr><td>Uganda      </td><td>  1         </td></tr>\n",
       "\t<tr><td>Uzbekistan  </td><td> 13         </td></tr>\n",
       "\t<tr><td>Ukraine     </td><td>  2         </td></tr>\n",
       "\t<tr><td>Iraq        </td><td> 10         </td></tr>\n",
       "\t<tr><td>Iran        </td><td>  1         </td></tr>\n",
       "\t<tr><td>Egypt       </td><td>  2         </td></tr>\n",
       "\t<tr><td>Italy       </td><td>  9         </td></tr>\n",
       "\t<tr><td>India       </td><td> 13         </td></tr>\n",
       "\t<tr><td>Indonesia   </td><td>  8         </td></tr>\n",
       "\t<tr><td>Japan       </td><td> 10         </td></tr>\n",
       "\t<tr><td>China       </td><td>  9         </td></tr>\n",
       "\t<tr><td>Czech       </td><td>  7         </td></tr>\n",
       "\t<tr><td>Kazakhstan  </td><td> 10         </td></tr>\n",
       "\t<tr><td>Qatar       </td><td>  2         </td></tr>\n",
       "\t<tr><td>Canada      </td><td>  7         </td></tr>\n",
       "\t<tr><td>Kenya       </td><td>  1         </td></tr>\n",
       "\t<tr><td>Congo       </td><td>  1         </td></tr>\n",
       "\t<tr><td>Kuwait      </td><td>  2         </td></tr>\n",
       "\t<tr><td>Kyrgyzstan  </td><td>  7         </td></tr>\n",
       "\t<tr><td>Thailand    </td><td>  6         </td></tr>\n",
       "\t<tr><td>Turkey      </td><td>  4         </td></tr>\n",
       "\t<tr><td>Paraguay    </td><td>  1         </td></tr>\n",
       "\t<tr><td>Pakistan    </td><td>  4         </td></tr>\n",
       "\t<tr><td>Palau       </td><td>  2         </td></tr>\n",
       "\t<tr><td>Peru        </td><td>  4         </td></tr>\n",
       "\t<tr><td>Portugal    </td><td>  1         </td></tr>\n",
       "\t<tr><td>Poland      </td><td>  4         </td></tr>\n",
       "\t<tr><td>France      </td><td> 25         </td></tr>\n",
       "\t<tr><td>Philippines </td><td> 27         </td></tr>\n",
       "\t<tr><td>Austrailia  </td><td>  1         </td></tr>\n",
       "\t<tr><td>Hungary     </td><td>  1         </td></tr>\n",
       "\t<tr><td>Hongkong    </td><td>  2         </td></tr>\n",
       "</tbody>\n",
       "</table>\n"
      ],
      "text/latex": [
       "\\begin{tabular}{r|ll}\n",
       " 癤풻ountry & inflow\\\\\n",
       "\\hline\n",
       "\t Nigeria      &   1         \\\\\n",
       "\t Netherlands  &   1         \\\\\n",
       "\t Nepal        &   3         \\\\\n",
       "\t Germany      &   9         \\\\\n",
       "\t Russia       &   5         \\\\\n",
       "\t Malaysia     &   1         \\\\\n",
       "\t Mexico       &  11         \\\\\n",
       "\t Morocco      &   2         \\\\\n",
       "\t Malta        &   1         \\\\\n",
       "\t USA          & 161         \\\\\n",
       "\t Bangladesh   &   3         \\\\\n",
       "\t Vietnam      &   3         \\\\\n",
       "\t Bolivia      &   2         \\\\\n",
       "\t Brazil       &   8         \\\\\n",
       "\t Saudi Arabia &   2         \\\\\n",
       "\t Spain        &  17         \\\\\n",
       "\t Singapore    &   1         \\\\\n",
       "\t UAE          &   5         \\\\\n",
       "\t Argentina    &   1         \\\\\n",
       "\t Ireland      &   2         \\\\\n",
       "\t Ecuador      &   2         \\\\\n",
       "\t Ethiopia     &   1         \\\\\n",
       "\t UK           &  51         \\\\\n",
       "\t Austria      &   3         \\\\\n",
       "\t Jordan       &   1         \\\\\n",
       "\t Uganda       &   1         \\\\\n",
       "\t Uzbekistan   &  13         \\\\\n",
       "\t Ukraine      &   2         \\\\\n",
       "\t Iraq         &  10         \\\\\n",
       "\t Iran         &   1         \\\\\n",
       "\t Egypt        &   2         \\\\\n",
       "\t Italy        &   9         \\\\\n",
       "\t India        &  13         \\\\\n",
       "\t Indonesia    &   8         \\\\\n",
       "\t Japan        &  10         \\\\\n",
       "\t China        &   9         \\\\\n",
       "\t Czech        &   7         \\\\\n",
       "\t Kazakhstan   &  10         \\\\\n",
       "\t Qatar        &   2         \\\\\n",
       "\t Canada       &   7         \\\\\n",
       "\t Kenya        &   1         \\\\\n",
       "\t Congo        &   1         \\\\\n",
       "\t Kuwait       &   2         \\\\\n",
       "\t Kyrgyzstan   &   7         \\\\\n",
       "\t Thailand     &   6         \\\\\n",
       "\t Turkey       &   4         \\\\\n",
       "\t Paraguay     &   1         \\\\\n",
       "\t Pakistan     &   4         \\\\\n",
       "\t Palau        &   2         \\\\\n",
       "\t Peru         &   4         \\\\\n",
       "\t Portugal     &   1         \\\\\n",
       "\t Poland       &   4         \\\\\n",
       "\t France       &  25         \\\\\n",
       "\t Philippines  &  27         \\\\\n",
       "\t Austrailia   &   1         \\\\\n",
       "\t Hungary      &   1         \\\\\n",
       "\t Hongkong     &   2         \\\\\n",
       "\\end{tabular}\n"
      ],
      "text/markdown": [
       "\n",
       "| 癤풻ountry | inflow |\n",
       "|---|---|\n",
       "| Nigeria      |   1          |\n",
       "| Netherlands  |   1          |\n",
       "| Nepal        |   3          |\n",
       "| Germany      |   9          |\n",
       "| Russia       |   5          |\n",
       "| Malaysia     |   1          |\n",
       "| Mexico       |  11          |\n",
       "| Morocco      |   2          |\n",
       "| Malta        |   1          |\n",
       "| USA          | 161          |\n",
       "| Bangladesh   |   3          |\n",
       "| Vietnam      |   3          |\n",
       "| Bolivia      |   2          |\n",
       "| Brazil       |   8          |\n",
       "| Saudi Arabia |   2          |\n",
       "| Spain        |  17          |\n",
       "| Singapore    |   1          |\n",
       "| UAE          |   5          |\n",
       "| Argentina    |   1          |\n",
       "| Ireland      |   2          |\n",
       "| Ecuador      |   2          |\n",
       "| Ethiopia     |   1          |\n",
       "| UK           |  51          |\n",
       "| Austria      |   3          |\n",
       "| Jordan       |   1          |\n",
       "| Uganda       |   1          |\n",
       "| Uzbekistan   |  13          |\n",
       "| Ukraine      |   2          |\n",
       "| Iraq         |  10          |\n",
       "| Iran         |   1          |\n",
       "| Egypt        |   2          |\n",
       "| Italy        |   9          |\n",
       "| India        |  13          |\n",
       "| Indonesia    |   8          |\n",
       "| Japan        |  10          |\n",
       "| China        |   9          |\n",
       "| Czech        |   7          |\n",
       "| Kazakhstan   |  10          |\n",
       "| Qatar        |   2          |\n",
       "| Canada       |   7          |\n",
       "| Kenya        |   1          |\n",
       "| Congo        |   1          |\n",
       "| Kuwait       |   2          |\n",
       "| Kyrgyzstan   |   7          |\n",
       "| Thailand     |   6          |\n",
       "| Turkey       |   4          |\n",
       "| Paraguay     |   1          |\n",
       "| Pakistan     |   4          |\n",
       "| Palau        |   2          |\n",
       "| Peru         |   4          |\n",
       "| Portugal     |   1          |\n",
       "| Poland       |   4          |\n",
       "| France       |  25          |\n",
       "| Philippines  |  27          |\n",
       "| Austrailia   |   1          |\n",
       "| Hungary      |   1          |\n",
       "| Hongkong     |   2          |\n",
       "\n"
      ],
      "text/plain": [
       "   癤풻ountry   inflow\n",
       "1  Nigeria        1   \n",
       "2  Netherlands    1   \n",
       "3  Nepal          3   \n",
       "4  Germany        9   \n",
       "5  Russia         5   \n",
       "6  Malaysia       1   \n",
       "7  Mexico        11   \n",
       "8  Morocco        2   \n",
       "9  Malta          1   \n",
       "10 USA          161   \n",
       "11 Bangladesh     3   \n",
       "12 Vietnam        3   \n",
       "13 Bolivia        2   \n",
       "14 Brazil         8   \n",
       "15 Saudi Arabia   2   \n",
       "16 Spain         17   \n",
       "17 Singapore      1   \n",
       "18 UAE            5   \n",
       "19 Argentina      1   \n",
       "20 Ireland        2   \n",
       "21 Ecuador        2   \n",
       "22 Ethiopia       1   \n",
       "23 UK            51   \n",
       "24 Austria        3   \n",
       "25 Jordan         1   \n",
       "26 Uganda         1   \n",
       "27 Uzbekistan    13   \n",
       "28 Ukraine        2   \n",
       "29 Iraq          10   \n",
       "30 Iran           1   \n",
       "31 Egypt          2   \n",
       "32 Italy          9   \n",
       "33 India         13   \n",
       "34 Indonesia      8   \n",
       "35 Japan         10   \n",
       "36 China          9   \n",
       "37 Czech          7   \n",
       "38 Kazakhstan    10   \n",
       "39 Qatar          2   \n",
       "40 Canada         7   \n",
       "41 Kenya          1   \n",
       "42 Congo          1   \n",
       "43 Kuwait         2   \n",
       "44 Kyrgyzstan     7   \n",
       "45 Thailand       6   \n",
       "46 Turkey         4   \n",
       "47 Paraguay       1   \n",
       "48 Pakistan       4   \n",
       "49 Palau          2   \n",
       "50 Peru           4   \n",
       "51 Portugal       1   \n",
       "52 Poland         4   \n",
       "53 France        25   \n",
       "54 Philippines   27   \n",
       "55 Austrailia     1   \n",
       "56 Hungary        1   \n",
       "57 Hongkong       2   "
      ]
     },
     "metadata": {},
     "output_type": "display_data"
    }
   ],
   "source": [
    "df_country <- read.csv(file.choose(), header=T)\n",
    "df_country"
   ]
  },
  {
   "cell_type": "code",
   "execution_count": 47,
   "metadata": {},
   "outputs": [],
   "source": [
    "names(df_country)[1] <- 'country'"
   ]
  },
  {
   "cell_type": "code",
   "execution_count": 51,
   "metadata": {},
   "outputs": [
    {
     "data": {
      "text/html": [
       "<ol class=list-inline>\n",
       "\t<li>57</li>\n",
       "\t<li>2</li>\n",
       "</ol>\n"
      ],
      "text/latex": [
       "\\begin{enumerate*}\n",
       "\\item 57\n",
       "\\item 2\n",
       "\\end{enumerate*}\n"
      ],
      "text/markdown": [
       "1. 57\n",
       "2. 2\n",
       "\n",
       "\n"
      ],
      "text/plain": [
       "[1] 57  2"
      ]
     },
     "metadata": {},
     "output_type": "display_data"
    }
   ],
   "source": [
    "dim(df_country)"
   ]
  },
  {
   "cell_type": "code",
   "execution_count": 53,
   "metadata": {},
   "outputs": [
    {
     "data": {
      "image/png": "[encoded data removed]",
      "text/plain": [
       "plot without title"
      ]
     },
     "metadata": {},
     "output_type": "display_data"
    }
   ],
   "source": [
    "ggplot(data=df_country, aes(x=factor(country), y=inflow, fill=rainbow(57))) + \n",
    "    geom_bar(stat='identity') + \n",
    "    labs(title='해외 유입 감염자 사례', x='국가', y='감염자 수') +\n",
    "    theme(axis.text.x=element_text(angle=0), legend.position='none', plot.title = element_text(hjust = 0.5)) +\n",
    "    coord_flip()"
   ]
  },
  {
   "cell_type": "markdown",
   "metadata": {},
   "source": [
    "# 3. number of infected by district"
   ]
  },
  {
   "cell_type": "code",
   "execution_count": 54,
   "metadata": {},
   "outputs": [
    {
     "data": {
      "text/html": [
       "<table>\n",
       "<thead><tr><th scope=col>癤풼istrict</th><th scope=col>infected</th></tr></thead>\n",
       "<tbody>\n",
       "\t<tr><td>Gangnam     </td><td>298         </td></tr>\n",
       "\t<tr><td>Gangdong    </td><td>200         </td></tr>\n",
       "\t<tr><td>Gangbuk     </td><td>156         </td></tr>\n",
       "\t<tr><td>Gangseo     </td><td>295         </td></tr>\n",
       "\t<tr><td>Gwanak      </td><td>453         </td></tr>\n",
       "\t<tr><td>Gwanggin    </td><td>136         </td></tr>\n",
       "\t<tr><td>Guro        </td><td>195         </td></tr>\n",
       "\t<tr><td>Geumchen    </td><td> 96         </td></tr>\n",
       "\t<tr><td>Nowon       </td><td>323         </td></tr>\n",
       "\t<tr><td>Dobong      </td><td>223         </td></tr>\n",
       "\t<tr><td>Dongdaemun  </td><td>172         </td></tr>\n",
       "\t<tr><td>Dongjak     </td><td>256         </td></tr>\n",
       "\t<tr><td>Mapo        </td><td>180         </td></tr>\n",
       "\t<tr><td>Seodaemun   </td><td>136         </td></tr>\n",
       "\t<tr><td>Seocho      </td><td>213         </td></tr>\n",
       "\t<tr><td>Seongdong   </td><td>131         </td></tr>\n",
       "\t<tr><td>Seongbuk    </td><td>344         </td></tr>\n",
       "\t<tr><td>Songpa      </td><td>364         </td></tr>\n",
       "\t<tr><td>Yangcheon   </td><td>186         </td></tr>\n",
       "\t<tr><td>Yeongdeungpo</td><td>202         </td></tr>\n",
       "\t<tr><td>Yongsan     </td><td>140         </td></tr>\n",
       "\t<tr><td>Eunpyeong   </td><td>259         </td></tr>\n",
       "\t<tr><td>Jonglo      </td><td> 94         </td></tr>\n",
       "\t<tr><td>Junggu      </td><td> 64         </td></tr>\n",
       "\t<tr><td>Junglang    </td><td>203         </td></tr>\n",
       "\t<tr><td>*others     </td><td>449         </td></tr>\n",
       "</tbody>\n",
       "</table>\n"
      ],
      "text/latex": [
       "\\begin{tabular}{r|ll}\n",
       " 癤풼istrict & infected\\\\\n",
       "\\hline\n",
       "\t Gangnam      & 298         \\\\\n",
       "\t Gangdong     & 200         \\\\\n",
       "\t Gangbuk      & 156         \\\\\n",
       "\t Gangseo      & 295         \\\\\n",
       "\t Gwanak       & 453         \\\\\n",
       "\t Gwanggin     & 136         \\\\\n",
       "\t Guro         & 195         \\\\\n",
       "\t Geumchen     &  96         \\\\\n",
       "\t Nowon        & 323         \\\\\n",
       "\t Dobong       & 223         \\\\\n",
       "\t Dongdaemun   & 172         \\\\\n",
       "\t Dongjak      & 256         \\\\\n",
       "\t Mapo         & 180         \\\\\n",
       "\t Seodaemun    & 136         \\\\\n",
       "\t Seocho       & 213         \\\\\n",
       "\t Seongdong    & 131         \\\\\n",
       "\t Seongbuk     & 344         \\\\\n",
       "\t Songpa       & 364         \\\\\n",
       "\t Yangcheon    & 186         \\\\\n",
       "\t Yeongdeungpo & 202         \\\\\n",
       "\t Yongsan      & 140         \\\\\n",
       "\t Eunpyeong    & 259         \\\\\n",
       "\t Jonglo       &  94         \\\\\n",
       "\t Junggu       &  64         \\\\\n",
       "\t Junglang     & 203         \\\\\n",
       "\t *others      & 449         \\\\\n",
       "\\end{tabular}\n"
      ],
      "text/markdown": [
       "\n",
       "| 癤풼istrict | infected |\n",
       "|---|---|\n",
       "| Gangnam      | 298          |\n",
       "| Gangdong     | 200          |\n",
       "| Gangbuk      | 156          |\n",
       "| Gangseo      | 295          |\n",
       "| Gwanak       | 453          |\n",
       "| Gwanggin     | 136          |\n",
       "| Guro         | 195          |\n",
       "| Geumchen     |  96          |\n",
       "| Nowon        | 323          |\n",
       "| Dobong       | 223          |\n",
       "| Dongdaemun   | 172          |\n",
       "| Dongjak      | 256          |\n",
       "| Mapo         | 180          |\n",
       "| Seodaemun    | 136          |\n",
       "| Seocho       | 213          |\n",
       "| Seongdong    | 131          |\n",
       "| Seongbuk     | 344          |\n",
       "| Songpa       | 364          |\n",
       "| Yangcheon    | 186          |\n",
       "| Yeongdeungpo | 202          |\n",
       "| Yongsan      | 140          |\n",
       "| Eunpyeong    | 259          |\n",
       "| Jonglo       |  94          |\n",
       "| Junggu       |  64          |\n",
       "| Junglang     | 203          |\n",
       "| *others      | 449          |\n",
       "\n"
      ],
      "text/plain": [
       "   癤풼istrict  infected\n",
       "1  Gangnam      298     \n",
       "2  Gangdong     200     \n",
       "3  Gangbuk      156     \n",
       "4  Gangseo      295     \n",
       "5  Gwanak       453     \n",
       "6  Gwanggin     136     \n",
       "7  Guro         195     \n",
       "8  Geumchen      96     \n",
       "9  Nowon        323     \n",
       "10 Dobong       223     \n",
       "11 Dongdaemun   172     \n",
       "12 Dongjak      256     \n",
       "13 Mapo         180     \n",
       "14 Seodaemun    136     \n",
       "15 Seocho       213     \n",
       "16 Seongdong    131     \n",
       "17 Seongbuk     344     \n",
       "18 Songpa       364     \n",
       "19 Yangcheon    186     \n",
       "20 Yeongdeungpo 202     \n",
       "21 Yongsan      140     \n",
       "22 Eunpyeong    259     \n",
       "23 Jonglo        94     \n",
       "24 Junggu        64     \n",
       "25 Junglang     203     \n",
       "26 *others      449     "
      ]
     },
     "metadata": {},
     "output_type": "display_data"
    }
   ],
   "source": [
    "df_district <- read.csv(file.choose(), header=T)\n",
    "df_district"
   ]
  },
  {
   "cell_type": "code",
   "execution_count": 56,
   "metadata": {},
   "outputs": [],
   "source": [
    "names(df_district)[1] <- 'district'\n",
    "df_dis"
   ]
  },
  {
   "cell_type": "code",
   "execution_count": 57,
   "metadata": {},
   "outputs": [
    {
     "data": {
      "text/html": [
       "<ol class=list-inline>\n",
       "\t<li>26</li>\n",
       "\t<li>2</li>\n",
       "</ol>\n"
      ],
      "text/latex": [
       "\\begin{enumerate*}\n",
       "\\item 26\n",
       "\\item 2\n",
       "\\end{enumerate*}\n"
      ],
      "text/markdown": [
       "1. 26\n",
       "2. 2\n",
       "\n",
       "\n"
      ],
      "text/plain": [
       "[1] 26  2"
      ]
     },
     "metadata": {},
     "output_type": "display_data"
    }
   ],
   "source": [
    "dim(df_district)"
   ]
  },
  {
   "cell_type": "code",
   "execution_count": 70,
   "metadata": {},
   "outputs": [
    {
     "data": {
      "image/png": "[encoded data removed]",
      "text/plain": [
       "plot without title"
      ]
     },
     "metadata": {},
     "output_type": "display_data"
    }
   ],
   "source": [
    "ggplot(data=df_district, aes(x='', y=infected, fill=district)) + \n",
    "    geom_bar(stat='identity') + \n",
    "    labs(title='지역별 감염자 수치', x='구', y='감염자 수') +\n",
    "    theme(axis.text.x=element_text(angle=0), plot.title = element_text(hjust = 0.5)) +\n",
    "    coord_polar(\"y\", start=0)"
   ]
  },
  {
   "cell_type": "code",
   "execution_count": 71,
   "metadata": {},
   "outputs": [
    {
     "data": {
      "image/png": "[encoded data removed]",
      "text/plain": [
       "plot without title"
      ]
     },
     "metadata": {},
     "output_type": "display_data"
    }
   ],
   "source": [
    "ggplot(data=df_district, aes(x=factor(district), y=infected, fill=rainbow(26))) + \n",
    "    geom_bar(stat='identity') + \n",
    "    labs(title='지역별 감염자 수치', x='지역구', y='감염자 수') +\n",
    "    theme(axis.text.x=element_text(angle=0), legend.position='none', plot.title = element_text(hjust = 0.5)) +\n",
    "    coord_flip()"
   ]
  }
 ],
 "metadata": {
  "kernelspec": {
   "display_name": "R",
   "language": "R",
   "name": "ir"
  },
  "language_info": {
   "codemirror_mode": "r",
   "file_extension": ".r",
   "mimetype": "text/x-r-source",
   "name": "R",
   "pygments_lexer": "r",
   "version": "3.6.1"
  }
 },
 "nbformat": 4,
 "nbformat_minor": 2
}
